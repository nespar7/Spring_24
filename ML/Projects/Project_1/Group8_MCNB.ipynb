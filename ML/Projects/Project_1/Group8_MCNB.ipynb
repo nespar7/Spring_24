{
 "cells": [
  {
   "cell_type": "code",
   "execution_count": 1,
   "metadata": {
    "execution": {
     "iopub.execute_input": "2024-02-10T20:41:51.946284Z",
     "iopub.status.busy": "2024-02-10T20:41:51.945673Z",
     "iopub.status.idle": "2024-02-10T20:41:51.954676Z",
     "shell.execute_reply": "2024-02-10T20:41:51.952861Z"
    }
   },
   "outputs": [],
   "source": [
    "# Group 8\n",
    "# 23BM6JP05: Akshay K\n",
    "# 20CS10038: N Surya Prakash Reddy\n",
    "# Project 1\n",
    "# Mushroom Classification using Naive Bayes Algorithm"
   ]
  },
  {
   "cell_type": "markdown",
   "metadata": {},
   "source": [
    "## Imports"
   ]
  },
  {
   "cell_type": "code",
   "execution_count": 2,
   "metadata": {
    "execution": {
     "iopub.execute_input": "2024-02-10T20:41:51.962941Z",
     "iopub.status.busy": "2024-02-10T20:41:51.962336Z",
     "iopub.status.idle": "2024-02-10T20:41:51.977471Z",
     "shell.execute_reply": "2024-02-10T20:41:51.975731Z"
    },
    "id": "zeJebtFa0k9X"
   },
   "outputs": [],
   "source": [
    "import warnings\n",
    "warnings.filterwarnings('ignore')"
   ]
  },
  {
   "cell_type": "code",
   "execution_count": 3,
   "metadata": {
    "execution": {
     "iopub.execute_input": "2024-02-10T20:41:51.984810Z",
     "iopub.status.busy": "2024-02-10T20:41:51.984258Z",
     "iopub.status.idle": "2024-02-10T20:41:52.810740Z",
     "shell.execute_reply": "2024-02-10T20:41:52.810255Z"
    },
    "id": "gcb6qRpHlDXz"
   },
   "outputs": [],
   "source": [
    "import pandas as pd\n",
    "from sklearn.model_selection import train_test_split\n",
    "from sklearn.metrics import accuracy_score\n",
    "from sklearn.metrics import classification_report\n",
    "from sklearn.naive_bayes import CategoricalNB\n",
    "from sklearn.preprocessing import OrdinalEncoder"
   ]
  },
  {
   "cell_type": "markdown",
   "metadata": {},
   "source": [
    "# Class Implementation"
   ]
  },
  {
   "cell_type": "code",
   "execution_count": 4,
   "metadata": {
    "execution": {
     "iopub.execute_input": "2024-02-10T20:41:52.812740Z",
     "iopub.status.busy": "2024-02-10T20:41:52.812584Z",
     "iopub.status.idle": "2024-02-10T20:41:52.818806Z",
     "shell.execute_reply": "2024-02-10T20:41:52.818370Z"
    },
    "id": "rueYHTjpxgCC"
   },
   "outputs": [],
   "source": [
    "class NaiveBayesClassifier:\n",
    "  def __init__(self, alpha=1):\n",
    "    self.output_probs = {}\n",
    "    self.conditional_probs = {}\n",
    "    self.alpha = alpha\n",
    "    self.train_x = None\n",
    "\n",
    "  def fit(self, train_x, train_y):\n",
    "    self.train_x = train_x\n",
    "    rows = len(train_x)\n",
    "    output_labels = train_y.unique()\n",
    "\n",
    "    # Calculating output probabilities\n",
    "    self.output_probs = {output: len(train_x[y == output]) + self.alpha / (rows + self.alpha * len(output_labels)) for output in output_labels}\n",
    "\n",
    "    # Calculating conditional probabilities for features given the output\n",
    "    # using P(Y|X) = (Count(X and Y) + alpha) / (Count(Y) + alpha * Count(X.unique()))\n",
    "    self.conditional_probs = {\n",
    "      column: {\n",
    "        value: {\n",
    "          output: (len(train_x[(train_x[column] == value) & (y == output)]) + self.alpha) / (len(train_x[y == output]) + self.alpha * len(train_x[column].unique())) \n",
    "          for output in output_labels\n",
    "        }\n",
    "        for value in train_x[column].unique()\n",
    "      }\n",
    "      for column in train_x.columns\n",
    "    }\n",
    "\n",
    "    # predicion for the training data\n",
    "    preds = self.predict(train_x)\n",
    "    print('Performance on the Training Data: \\n', classification_report(train_y, preds))\n",
    "    print('Accuracy on the Training Data: ', accuracy_score(train_y, preds))\n",
    "\n",
    "  def predict(self, test_x):\n",
    "    preds = []\n",
    "    for _, row in test_x.iterrows():\n",
    "      calc_probs = [1] * len(self.output_probs)\n",
    "      \n",
    "      # Calculating the probability of each label given the input\n",
    "      # using P(Y|X) ∝ P(X1|Y) * P(X2|Y) * ... * P(Xn|Y) * P(Y)\n",
    "      for i, label in enumerate(self.output_probs.keys()):\n",
    "        for column in test_x.columns:\n",
    "          calc_probs[i] *= self.conditional_probs[column][row[column]][label]\n",
    "        calc_probs[i] *= self.output_probs[label]\n",
    "      \n",
    "      # Return the label with the highest probability\n",
    "      index = max(enumerate(calc_probs), key=lambda x: x[1])[0]\n",
    "      preds.append(list(self.output_probs.keys())[index])\n",
    "    return preds\n",
    "\n",
    "  def check_zero_probs(self):\n",
    "    zero_probs = []\n",
    "    for column in self.train_x.columns:\n",
    "      for value in self.train_x[column].unique():\n",
    "        for output in self.conditional_probs[column][value].keys():\n",
    "          if self.conditional_probs[column][value][output] == 0:\n",
    "            \n",
    "            # print('Zero Probability Found: ', column, value, output)\n",
    "            zero_probs.append({\n",
    "              'column': column,\n",
    "              'value': value,\n",
    "              'output': output\n",
    "            })\n",
    "\n",
    "    return zero_probs"
   ]
  },
  {
   "cell_type": "markdown",
   "metadata": {},
   "source": [
    "# Reading the data from the csv file\n",
    "\n",
    "Please change the path to the csv file as per your system.\n",
    "\n",
    "If running on colab - '/content/mushrooms.csv'"
   ]
  },
  {
   "cell_type": "code",
   "execution_count": 5,
   "metadata": {
    "execution": {
     "iopub.execute_input": "2024-02-10T20:41:52.820533Z",
     "iopub.status.busy": "2024-02-10T20:41:52.820390Z",
     "iopub.status.idle": "2024-02-10T20:41:52.831546Z",
     "shell.execute_reply": "2024-02-10T20:41:52.831041Z"
    }
   },
   "outputs": [],
   "source": [
    "data_path = './mushrooms.csv'\n",
    "mushrooms = pd.read_csv(data_path)"
   ]
  },
  {
   "cell_type": "markdown",
   "metadata": {},
   "source": [
    "Features and labels"
   ]
  },
  {
   "cell_type": "code",
   "execution_count": 6,
   "metadata": {
    "execution": {
     "iopub.execute_input": "2024-02-10T20:41:52.833258Z",
     "iopub.status.busy": "2024-02-10T20:41:52.833104Z",
     "iopub.status.idle": "2024-02-10T20:41:52.840099Z",
     "shell.execute_reply": "2024-02-10T20:41:52.839721Z"
    }
   },
   "outputs": [],
   "source": [
    "X = mushrooms.drop('class', axis = 1)\n",
    "y = mushrooms['class']\n",
    "X_train, X_test, y_train, y_test = train_test_split(X, y, test_size=0.2, random_state=45)"
   ]
  },
  {
   "cell_type": "markdown",
   "metadata": {},
   "source": [
    "# Result Comparison"
   ]
  },
  {
   "cell_type": "markdown",
   "metadata": {},
   "source": [
    "## Alpha = 0"
   ]
  },
  {
   "cell_type": "code",
   "execution_count": 7,
   "metadata": {
    "colab": {
     "base_uri": "https://localhost:8080/"
    },
    "execution": {
     "iopub.execute_input": "2024-02-10T20:41:52.841876Z",
     "iopub.status.busy": "2024-02-10T20:41:52.841588Z",
     "iopub.status.idle": "2024-02-10T20:41:54.550458Z",
     "shell.execute_reply": "2024-02-10T20:41:54.550045Z"
    },
    "id": "sRj787neMXEQ",
    "outputId": "9003d841-f781-42dd-9e82-509a04154142"
   },
   "outputs": [
    {
     "name": "stdout",
     "output_type": "stream",
     "text": [
      "Performance on the Training Data: \n",
      "               precision    recall  f1-score   support\n",
      "\n",
      "           e       1.00      0.99      1.00      3355\n",
      "           p       0.99      1.00      1.00      3144\n",
      "\n",
      "    accuracy                           1.00      6499\n",
      "   macro avg       1.00      1.00      1.00      6499\n",
      "weighted avg       1.00      1.00      1.00      6499\n",
      "\n",
      "Accuracy on the Training Data:  0.9970764733035852\n"
     ]
    }
   ],
   "source": [
    "nb = NaiveBayesClassifier(alpha=0)\n",
    "nb.fit(X_train, y_train)"
   ]
  },
  {
   "cell_type": "markdown",
   "metadata": {},
   "source": [
    "Searching for rows in the test data which are unseen in the training data"
   ]
  },
  {
   "cell_type": "code",
   "execution_count": 8,
   "metadata": {
    "execution": {
     "iopub.execute_input": "2024-02-10T20:41:54.615724Z",
     "iopub.status.busy": "2024-02-10T20:41:54.615527Z",
     "iopub.status.idle": "2024-02-10T20:41:54.642519Z",
     "shell.execute_reply": "2024-02-10T20:41:54.642057Z"
    }
   },
   "outputs": [
    {
     "name": "stdout",
     "output_type": "stream",
     "text": [
      "Column: cap-shape, Value: s, Output: p\n",
      "Number of rows in the test set: 0\n",
      "\n",
      "Column: cap-shape, Value: c, Output: e\n",
      "Number of rows in the test set: 0\n",
      "\n",
      "Column: cap-surface, Value: g, Output: e\n",
      "Number of rows in the test set: 0\n",
      "\n",
      "Column: cap-color, Value: u, Output: p\n",
      "Number of rows in the test set: 0\n",
      "\n",
      "Column: cap-color, Value: r, Output: p\n",
      "Number of rows in the test set: 0\n",
      "\n",
      "Column: odor, Value: f, Output: e\n",
      "Number of rows in the test set: 0\n",
      "\n",
      "Column: odor, Value: s, Output: e\n",
      "Number of rows in the test set: 0\n",
      "\n",
      "Column: odor, Value: y, Output: e\n",
      "Number of rows in the test set: 0\n",
      "\n",
      "Column: odor, Value: p, Output: e\n",
      "Number of rows in the test set: 0\n",
      "\n",
      "Column: odor, Value: c, Output: e\n",
      "Number of rows in the test set: 0\n",
      "\n",
      "Column: odor, Value: l, Output: p\n",
      "Number of rows in the test set: 0\n",
      "\n",
      "Column: odor, Value: a, Output: p\n",
      "Number of rows in the test set: 0\n",
      "\n",
      "Column: odor, Value: m, Output: e\n",
      "Number of rows in the test set: 0\n",
      "\n",
      "Column: gill-color, Value: b, Output: e\n",
      "Number of rows in the test set: 0\n",
      "\n",
      "Column: gill-color, Value: e, Output: p\n",
      "Number of rows in the test set: 0\n",
      "\n",
      "Column: gill-color, Value: o, Output: p\n",
      "Number of rows in the test set: 0\n",
      "\n",
      "Column: gill-color, Value: r, Output: e\n",
      "Number of rows in the test set: 0\n",
      "\n",
      "Column: stalk-root, Value: r, Output: p\n",
      "Number of rows in the test set: 0\n",
      "\n",
      "Column: stalk-color-above-ring, Value: b, Output: e\n",
      "Number of rows in the test set: 0\n",
      "\n",
      "Column: stalk-color-above-ring, Value: o, Output: p\n",
      "Number of rows in the test set: 0\n",
      "\n",
      "Column: stalk-color-above-ring, Value: g, Output: p\n",
      "Number of rows in the test set: 0\n",
      "\n",
      "Column: stalk-color-above-ring, Value: e, Output: p\n",
      "Number of rows in the test set: 0\n",
      "\n",
      "Column: stalk-color-above-ring, Value: c, Output: e\n",
      "Number of rows in the test set: 0\n",
      "\n",
      "Column: stalk-color-above-ring, Value: y, Output: e\n",
      "Number of rows in the test set: 0\n",
      "\n",
      "Column: stalk-color-below-ring, Value: b, Output: e\n",
      "Number of rows in the test set: 0\n",
      "\n",
      "Column: stalk-color-below-ring, Value: g, Output: p\n",
      "Number of rows in the test set: 0\n",
      "\n",
      "Column: stalk-color-below-ring, Value: o, Output: p\n",
      "Number of rows in the test set: 0\n",
      "\n",
      "Column: stalk-color-below-ring, Value: e, Output: p\n",
      "Number of rows in the test set: 0\n",
      "\n",
      "Column: stalk-color-below-ring, Value: c, Output: e\n",
      "Number of rows in the test set: 0\n",
      "\n",
      "Column: stalk-color-below-ring, Value: y, Output: e\n",
      "Number of rows in the test set: 0\n",
      "\n",
      "Column: veil-color, Value: o, Output: p\n",
      "Number of rows in the test set: 0\n",
      "\n",
      "Column: veil-color, Value: n, Output: p\n",
      "Number of rows in the test set: 0\n",
      "\n",
      "Column: veil-color, Value: y, Output: e\n",
      "Number of rows in the test set: 0\n",
      "\n",
      "Column: ring-number, Value: n, Output: e\n",
      "Number of rows in the test set: 0\n",
      "\n",
      "Column: ring-type, Value: l, Output: e\n",
      "Number of rows in the test set: 0\n",
      "\n",
      "Column: ring-type, Value: f, Output: p\n",
      "Number of rows in the test set: 0\n",
      "\n",
      "Column: ring-type, Value: n, Output: e\n",
      "Number of rows in the test set: 0\n",
      "\n",
      "Column: spore-print-color, Value: b, Output: p\n",
      "Number of rows in the test set: 0\n",
      "\n",
      "Column: spore-print-color, Value: u, Output: p\n",
      "Number of rows in the test set: 0\n",
      "\n",
      "Column: spore-print-color, Value: y, Output: p\n",
      "Number of rows in the test set: 0\n",
      "\n",
      "Column: spore-print-color, Value: r, Output: e\n",
      "Number of rows in the test set: 0\n",
      "\n",
      "Column: spore-print-color, Value: o, Output: p\n",
      "Number of rows in the test set: 0\n",
      "\n",
      "Column: population, Value: a, Output: p\n",
      "Number of rows in the test set: 0\n",
      "\n",
      "Column: population, Value: n, Output: p\n",
      "Number of rows in the test set: 0\n",
      "\n",
      "Column: habitat, Value: w, Output: p\n",
      "Number of rows in the test set: 0\n",
      "\n"
     ]
    }
   ],
   "source": [
    "zero_probs = nb.check_zero_probs()\n",
    "\n",
    "# Join the testing X and Y to check for zero probs\n",
    "test = X_test.copy()\n",
    "test['class'] = y_test\n",
    "\n",
    "# for each column, value, output in zero_probs:\n",
    "# check if test has any rows with the same column, value and output\n",
    "# if so, print the row\n",
    "for dict in zero_probs:\n",
    "    column = dict['column']\n",
    "    value = dict['value']\n",
    "    output = dict['output']\n",
    "    print(f'Column: {column}, Value: {value}, Output: {output}')\n",
    "\n",
    "    # Print number of rows with the same column, value and output in the test set\n",
    "    print(f'Number of rows in the test set: {len(test[(test[column] == value) & (test[\"class\"] == output)])}\\n')"
   ]
  },
  {
   "cell_type": "markdown",
   "metadata": {},
   "source": [
    "Our classifier"
   ]
  },
  {
   "cell_type": "code",
   "execution_count": 9,
   "metadata": {
    "colab": {
     "base_uri": "https://localhost:8080/"
    },
    "execution": {
     "iopub.execute_input": "2024-02-10T20:41:54.644348Z",
     "iopub.status.busy": "2024-02-10T20:41:54.644212Z",
     "iopub.status.idle": "2024-02-10T20:41:54.817994Z",
     "shell.execute_reply": "2024-02-10T20:41:54.817582Z"
    },
    "id": "n15ELdWM0yqy",
    "outputId": "c6c498ba-6c53-47e7-f5de-493edd81a798"
   },
   "outputs": [
    {
     "name": "stdout",
     "output_type": "stream",
     "text": [
      "              precision    recall  f1-score   support\n",
      "\n",
      "           e       1.00      1.00      1.00       853\n",
      "           p       1.00      1.00      1.00       772\n",
      "\n",
      "    accuracy                           1.00      1625\n",
      "   macro avg       1.00      1.00      1.00      1625\n",
      "weighted avg       1.00      1.00      1.00      1625\n",
      "\n",
      "Accuracy:  0.9981538461538462\n"
     ]
    }
   ],
   "source": [
    "pred = nb.predict(X_test)\n",
    "print(classification_report(y_test, pred))\n",
    "print('Accuracy: ', accuracy_score(y_test, pred))"
   ]
  },
  {
   "cell_type": "markdown",
   "metadata": {},
   "source": [
    "Sklearn classifier"
   ]
  },
  {
   "cell_type": "code",
   "execution_count": 10,
   "metadata": {
    "colab": {
     "base_uri": "https://localhost:8080/"
    },
    "execution": {
     "iopub.execute_input": "2024-02-10T20:41:54.819648Z",
     "iopub.status.busy": "2024-02-10T20:41:54.819533Z",
     "iopub.status.idle": "2024-02-10T20:41:54.871543Z",
     "shell.execute_reply": "2024-02-10T20:41:54.871150Z"
    },
    "id": "S640RGo1Z4Fo",
    "outputId": "e4eea36d-e770-46c2-d5df-d7f00e13a10e"
   },
   "outputs": [
    {
     "name": "stdout",
     "output_type": "stream",
     "text": [
      "              precision    recall  f1-score   support\n",
      "\n",
      "           e       1.00      1.00      1.00       853\n",
      "           p       1.00      1.00      1.00       772\n",
      "\n",
      "    accuracy                           1.00      1625\n",
      "   macro avg       1.00      1.00      1.00      1625\n",
      "weighted avg       1.00      1.00      1.00      1625\n",
      "\n",
      "Accuracy:  0.9981538461538462\n"
     ]
    }
   ],
   "source": [
    "ord = OrdinalEncoder()\n",
    "X_train_encoded = ord.fit_transform(X_train)\n",
    "y_train_encoded = [1 if label == 'p' else 0 for label in y_train]\n",
    "\n",
    "# Categorical Naive Bayes with alpha = 0\n",
    "NB = CategoricalNB(alpha=0)\n",
    "NB.fit(X_train_encoded, y_train_encoded)\n",
    "\n",
    "X_test_encoded = ord.transform(X_test)\n",
    "predictions = ['p' if pred == 1 else 'e' for pred in NB.predict(X_test_encoded)]\n",
    "print(classification_report(y_test, predictions))\n",
    "print('Accuracy: ', accuracy_score(y_test, predictions))"
   ]
  },
  {
   "cell_type": "markdown",
   "metadata": {},
   "source": [
    "## Alpha = 0.1"
   ]
  },
  {
   "cell_type": "code",
   "execution_count": 11,
   "metadata": {
    "execution": {
     "iopub.execute_input": "2024-02-10T20:41:54.873247Z",
     "iopub.status.busy": "2024-02-10T20:41:54.873106Z",
     "iopub.status.idle": "2024-02-10T20:41:56.529676Z",
     "shell.execute_reply": "2024-02-10T20:41:56.529255Z"
    }
   },
   "outputs": [
    {
     "name": "stdout",
     "output_type": "stream",
     "text": [
      "Performance on the Training Data: \n",
      "               precision    recall  f1-score   support\n",
      "\n",
      "           e       0.97      0.99      0.98      3355\n",
      "           p       0.99      0.97      0.98      3144\n",
      "\n",
      "    accuracy                           0.98      6499\n",
      "   macro avg       0.98      0.98      0.98      6499\n",
      "weighted avg       0.98      0.98      0.98      6499\n",
      "\n",
      "Accuracy on the Training Data:  0.98092014156024\n"
     ]
    }
   ],
   "source": [
    "nb = NaiveBayesClassifier(alpha=0.1)\n",
    "nb.fit(X_train, y_train)"
   ]
  },
  {
   "cell_type": "code",
   "execution_count": 12,
   "metadata": {
    "execution": {
     "iopub.execute_input": "2024-02-10T20:41:56.531475Z",
     "iopub.status.busy": "2024-02-10T20:41:56.531319Z",
     "iopub.status.idle": "2024-02-10T20:41:56.699532Z",
     "shell.execute_reply": "2024-02-10T20:41:56.699199Z"
    }
   },
   "outputs": [
    {
     "name": "stdout",
     "output_type": "stream",
     "text": [
      "              precision    recall  f1-score   support\n",
      "\n",
      "           e       0.97      1.00      0.99       853\n",
      "           p       1.00      0.97      0.98       772\n",
      "\n",
      "    accuracy                           0.98      1625\n",
      "   macro avg       0.99      0.98      0.98      1625\n",
      "weighted avg       0.98      0.98      0.98      1625\n",
      "\n",
      "Accuracy:  0.9846153846153847\n"
     ]
    }
   ],
   "source": [
    "preds = nb.predict(X_test)\n",
    "print(classification_report(y_test, preds))\n",
    "print('Accuracy: ', accuracy_score(y_test, preds))"
   ]
  },
  {
   "cell_type": "code",
   "execution_count": 13,
   "metadata": {
    "execution": {
     "iopub.execute_input": "2024-02-10T20:41:56.701173Z",
     "iopub.status.busy": "2024-02-10T20:41:56.701045Z",
     "iopub.status.idle": "2024-02-10T20:41:56.751844Z",
     "shell.execute_reply": "2024-02-10T20:41:56.751386Z"
    }
   },
   "outputs": [
    {
     "name": "stdout",
     "output_type": "stream",
     "text": [
      "              precision    recall  f1-score   support\n",
      "\n",
      "           e       0.97      1.00      0.99       853\n",
      "           p       1.00      0.97      0.98       772\n",
      "\n",
      "    accuracy                           0.98      1625\n",
      "   macro avg       0.99      0.98      0.98      1625\n",
      "weighted avg       0.98      0.98      0.98      1625\n",
      "\n",
      "Accuracy:  0.9846153846153847\n"
     ]
    }
   ],
   "source": [
    "ord = OrdinalEncoder()\n",
    "X_train_encoded = ord.fit_transform(X_train)\n",
    "y_train_encoded = [1 if label == 'p' else 0 for label in y_train]\n",
    "\n",
    "# Categorical Naive Bayes with alpha = 0.1\n",
    "NB = CategoricalNB(alpha=0.1)\n",
    "NB.fit(X_train_encoded, y_train_encoded)\n",
    "\n",
    "X_test_encoded = ord.transform(X_test)\n",
    "predictions = ['p' if pred == 1 else 'e' for pred in NB.predict(X_test_encoded)]\n",
    "print(classification_report(y_test, predictions))\n",
    "print('Accuracy: ', accuracy_score(y_test, predictions))"
   ]
  },
  {
   "cell_type": "markdown",
   "metadata": {},
   "source": [
    "## Alpha = 0.5"
   ]
  },
  {
   "cell_type": "code",
   "execution_count": 14,
   "metadata": {
    "execution": {
     "iopub.execute_input": "2024-02-10T20:41:56.753556Z",
     "iopub.status.busy": "2024-02-10T20:41:56.753410Z",
     "iopub.status.idle": "2024-02-10T20:41:58.406177Z",
     "shell.execute_reply": "2024-02-10T20:41:58.405755Z"
    }
   },
   "outputs": [
    {
     "name": "stdout",
     "output_type": "stream",
     "text": [
      "Performance on the Training Data: \n",
      "               precision    recall  f1-score   support\n",
      "\n",
      "           e       0.93      0.99      0.96      3355\n",
      "           p       0.99      0.92      0.96      3144\n",
      "\n",
      "    accuracy                           0.96      6499\n",
      "   macro avg       0.96      0.96      0.96      6499\n",
      "weighted avg       0.96      0.96      0.96      6499\n",
      "\n",
      "Accuracy on the Training Data:  0.9604554546853362\n"
     ]
    }
   ],
   "source": [
    "nb = NaiveBayesClassifier(alpha=0.5)\n",
    "nb.fit(X_train, y_train)"
   ]
  },
  {
   "cell_type": "code",
   "execution_count": 15,
   "metadata": {
    "execution": {
     "iopub.execute_input": "2024-02-10T20:41:58.407926Z",
     "iopub.status.busy": "2024-02-10T20:41:58.407776Z",
     "iopub.status.idle": "2024-02-10T20:41:58.573186Z",
     "shell.execute_reply": "2024-02-10T20:41:58.572784Z"
    }
   },
   "outputs": [
    {
     "name": "stdout",
     "output_type": "stream",
     "text": [
      "              precision    recall  f1-score   support\n",
      "\n",
      "           e       0.94      1.00      0.97       853\n",
      "           p       1.00      0.92      0.96       772\n",
      "\n",
      "    accuracy                           0.96      1625\n",
      "   macro avg       0.97      0.96      0.96      1625\n",
      "weighted avg       0.96      0.96      0.96      1625\n",
      "\n",
      "Accuracy:  0.9624615384615385\n"
     ]
    }
   ],
   "source": [
    "preds = nb.predict(X_test)\n",
    "print(classification_report(y_test, preds))\n",
    "print('Accuracy: ', accuracy_score(y_test, preds))"
   ]
  },
  {
   "cell_type": "code",
   "execution_count": 16,
   "metadata": {
    "execution": {
     "iopub.execute_input": "2024-02-10T20:41:58.574748Z",
     "iopub.status.busy": "2024-02-10T20:41:58.574604Z",
     "iopub.status.idle": "2024-02-10T20:41:58.625723Z",
     "shell.execute_reply": "2024-02-10T20:41:58.625327Z"
    }
   },
   "outputs": [
    {
     "name": "stdout",
     "output_type": "stream",
     "text": [
      "              precision    recall  f1-score   support\n",
      "\n",
      "           e       0.94      1.00      0.97       853\n",
      "           p       1.00      0.92      0.96       772\n",
      "\n",
      "    accuracy                           0.96      1625\n",
      "   macro avg       0.97      0.96      0.96      1625\n",
      "weighted avg       0.96      0.96      0.96      1625\n",
      "\n",
      "Accuracy:  0.9624615384615385\n"
     ]
    }
   ],
   "source": [
    "ord = OrdinalEncoder()\n",
    "X_train_encoded = ord.fit_transform(X_train)\n",
    "y_train_encoded = [1 if label == 'p' else 0 for label in y_train]\n",
    "\n",
    "# Categorical Naive Bayes with alpha = 0.1\n",
    "NB = CategoricalNB(alpha=0.5)\n",
    "NB.fit(X_train_encoded, y_train_encoded)\n",
    "\n",
    "X_test_encoded = ord.transform(X_test)\n",
    "predictions = ['p' if pred == 1 else 'e' for pred in NB.predict(X_test_encoded)]\n",
    "print(classification_report(y_test, predictions))\n",
    "print('Accuracy: ', accuracy_score(y_test, predictions))"
   ]
  },
  {
   "cell_type": "markdown",
   "metadata": {},
   "source": [
    "## Alpha = 1"
   ]
  },
  {
   "cell_type": "code",
   "execution_count": 17,
   "metadata": {
    "execution": {
     "iopub.execute_input": "2024-02-10T20:41:58.627381Z",
     "iopub.status.busy": "2024-02-10T20:41:58.627238Z",
     "iopub.status.idle": "2024-02-10T20:42:00.348764Z",
     "shell.execute_reply": "2024-02-10T20:42:00.348337Z"
    }
   },
   "outputs": [
    {
     "name": "stdout",
     "output_type": "stream",
     "text": [
      "Performance on the Training Data: \n",
      "               precision    recall  f1-score   support\n",
      "\n",
      "           e       0.92      0.99      0.96      3355\n",
      "           p       0.99      0.91      0.95      3144\n",
      "\n",
      "    accuracy                           0.95      6499\n",
      "   macro avg       0.96      0.95      0.95      6499\n",
      "weighted avg       0.96      0.95      0.95      6499\n",
      "\n",
      "Accuracy on the Training Data:  0.953839052161871\n"
     ]
    }
   ],
   "source": [
    "nb = NaiveBayesClassifier(alpha=1)\n",
    "nb.fit(X_train, y_train)"
   ]
  },
  {
   "cell_type": "code",
   "execution_count": 18,
   "metadata": {
    "execution": {
     "iopub.execute_input": "2024-02-10T20:42:00.350371Z",
     "iopub.status.busy": "2024-02-10T20:42:00.350255Z",
     "iopub.status.idle": "2024-02-10T20:42:00.514766Z",
     "shell.execute_reply": "2024-02-10T20:42:00.514368Z"
    }
   },
   "outputs": [
    {
     "name": "stdout",
     "output_type": "stream",
     "text": [
      "              precision    recall  f1-score   support\n",
      "\n",
      "           e       0.92      1.00      0.96       853\n",
      "           p       1.00      0.91      0.95       772\n",
      "\n",
      "    accuracy                           0.95      1625\n",
      "   macro avg       0.96      0.95      0.95      1625\n",
      "weighted avg       0.96      0.95      0.95      1625\n",
      "\n",
      "Accuracy:  0.9532307692307692\n"
     ]
    }
   ],
   "source": [
    "preds = nb.predict(X_test)\n",
    "print(classification_report(y_test, preds))\n",
    "print('Accuracy: ', accuracy_score(y_test, preds))"
   ]
  },
  {
   "cell_type": "code",
   "execution_count": 19,
   "metadata": {
    "execution": {
     "iopub.execute_input": "2024-02-10T20:42:00.516387Z",
     "iopub.status.busy": "2024-02-10T20:42:00.516249Z",
     "iopub.status.idle": "2024-02-10T20:42:00.567440Z",
     "shell.execute_reply": "2024-02-10T20:42:00.567117Z"
    }
   },
   "outputs": [
    {
     "name": "stdout",
     "output_type": "stream",
     "text": [
      "              precision    recall  f1-score   support\n",
      "\n",
      "           e       0.92      1.00      0.96       853\n",
      "           p       1.00      0.91      0.95       772\n",
      "\n",
      "    accuracy                           0.95      1625\n",
      "   macro avg       0.96      0.95      0.95      1625\n",
      "weighted avg       0.96      0.95      0.95      1625\n",
      "\n",
      "Accuracy:  0.9532307692307692\n"
     ]
    }
   ],
   "source": [
    "ord = OrdinalEncoder()\n",
    "X_train_encoded = ord.fit_transform(X_train)\n",
    "y_train_encoded = [1 if label == 'p' else 0 for label in y_train]\n",
    "\n",
    "# Categorical Naive Bayes with alpha = 1\n",
    "NB = CategoricalNB(alpha=1)\n",
    "NB.fit(X_train_encoded, y_train_encoded)\n",
    "\n",
    "X_test_encoded = ord.transform(X_test)\n",
    "predictions = ['p' if pred == 1 else 'e' for pred in NB.predict(X_test_encoded)]\n",
    "print(classification_report(y_test, predictions))\n",
    "print('Accuracy: ', accuracy_score(y_test, predictions))"
   ]
  }
 ],
 "metadata": {
  "colab": {
   "provenance": []
  },
  "kernelspec": {
   "display_name": "Python 3",
   "name": "python3"
  },
  "language_info": {
   "codemirror_mode": {
    "name": "ipython",
    "version": 3
   },
   "file_extension": ".py",
   "mimetype": "text/x-python",
   "name": "python",
   "nbconvert_exporter": "python",
   "pygments_lexer": "ipython3",
   "version": "3.11.6"
  }
 },
 "nbformat": 4,
 "nbformat_minor": 0
}
