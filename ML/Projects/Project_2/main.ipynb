{
  "cells": [
    {
      "cell_type": "code",
      "source": [
        "# Group 14\n",
        "# 20CS10038 : N Surya Prakash Reddy\n",
        "# Project 2\n",
        "# Taxi Fare Prediction Using Neural Networks"
      ],
      "metadata": {
        "id": "BPGxPpcUC4g0"
      },
      "execution_count": null,
      "outputs": []
    },
    {
      "cell_type": "code",
      "execution_count": null,
      "metadata": {
        "colab": {
          "base_uri": "https://localhost:8080/"
        },
        "id": "laIuj0GkJSp7",
        "outputId": "cb778208-de4f-45e2-b79a-5d1bbf7387dd"
      },
      "outputs": [
        {
          "output_type": "stream",
          "name": "stdout",
          "text": [
            "Requirement already satisfied: numpy in /usr/local/lib/python3.10/dist-packages (1.25.2)\n",
            "Requirement already satisfied: pandas in /usr/local/lib/python3.10/dist-packages (1.5.3)\n",
            "Requirement already satisfied: python-dateutil>=2.8.1 in /usr/local/lib/python3.10/dist-packages (from pandas) (2.8.2)\n",
            "Requirement already satisfied: pytz>=2020.1 in /usr/local/lib/python3.10/dist-packages (from pandas) (2023.4)\n",
            "Requirement already satisfied: numpy>=1.21.0 in /usr/local/lib/python3.10/dist-packages (from pandas) (1.25.2)\n",
            "Requirement already satisfied: six>=1.5 in /usr/local/lib/python3.10/dist-packages (from python-dateutil>=2.8.1->pandas) (1.16.0)\n",
            "Requirement already satisfied: matplotlib in /usr/local/lib/python3.10/dist-packages (3.7.1)\n",
            "Requirement already satisfied: contourpy>=1.0.1 in /usr/local/lib/python3.10/dist-packages (from matplotlib) (1.2.0)\n",
            "Requirement already satisfied: cycler>=0.10 in /usr/local/lib/python3.10/dist-packages (from matplotlib) (0.12.1)\n",
            "Requirement already satisfied: fonttools>=4.22.0 in /usr/local/lib/python3.10/dist-packages (from matplotlib) (4.49.0)\n",
            "Requirement already satisfied: kiwisolver>=1.0.1 in /usr/local/lib/python3.10/dist-packages (from matplotlib) (1.4.5)\n",
            "Requirement already satisfied: numpy>=1.20 in /usr/local/lib/python3.10/dist-packages (from matplotlib) (1.25.2)\n",
            "Requirement already satisfied: packaging>=20.0 in /usr/local/lib/python3.10/dist-packages (from matplotlib) (24.0)\n",
            "Requirement already satisfied: pillow>=6.2.0 in /usr/local/lib/python3.10/dist-packages (from matplotlib) (9.4.0)\n",
            "Requirement already satisfied: pyparsing>=2.3.1 in /usr/local/lib/python3.10/dist-packages (from matplotlib) (3.1.2)\n",
            "Requirement already satisfied: python-dateutil>=2.7 in /usr/local/lib/python3.10/dist-packages (from matplotlib) (2.8.2)\n",
            "Requirement already satisfied: six>=1.5 in /usr/local/lib/python3.10/dist-packages (from python-dateutil>=2.7->matplotlib) (1.16.0)\n",
            "\u001b[31mERROR: Could not find a version that satisfies the requirement itertools (from versions: none)\u001b[0m\u001b[31m\n",
            "\u001b[0m\u001b[31mERROR: No matching distribution found for itertools\u001b[0m\u001b[31m\n",
            "\u001b[0m"
          ]
        }
      ],
      "source": [
        "%pip install numpy\n",
        "%pip install pandas\n",
        "%pip install matplotlib\n",
        "%pip install itertools"
      ]
    },
    {
      "cell_type": "code",
      "execution_count": 1,
      "metadata": {
        "id": "kSEonbYxJSp9"
      },
      "outputs": [],
      "source": [
        "import csv\n",
        "import numpy as np\n",
        "from itertools import chain\n",
        "from sklearn.neural_network import MLPRegressor\n",
        "import matplotlib.pyplot as plt\n",
        "from sklearn.metrics import mean_squared_error\n",
        "from math import cos, asin, sqrt, pi\n",
        "\n"
      ]
    },
    {
      "cell_type": "code",
      "execution_count": 2,
      "metadata": {
        "id": "r2r8MDX8JSp9"
      },
      "outputs": [],
      "source": [
        "# import filterwarnings\n",
        "from warnings import filterwarnings\n",
        "\n",
        "filterwarnings('ignore')"
      ]
    },
    {
      "cell_type": "markdown",
      "metadata": {
        "id": "uuXAgn6TJSp-"
      },
      "source": [
        "# Helping functions implementation"
      ]
    },
    {
      "cell_type": "code",
      "execution_count": 3,
      "metadata": {
        "id": "u1KcEiItJSp_"
      },
      "outputs": [],
      "source": [
        "# take an np array x and return values at indices\n",
        "def get_val_at_indices(x, indices):\n",
        "    return x[indices]\n",
        "\n",
        "def train_test_split(*arrays, test_size=0.25, shufffle=True, random_state=42):\n",
        "    # get length of first array\n",
        "    length = len(arrays[0])\n",
        "\n",
        "    # split lengths\n",
        "    len_test = int(np.ceil(length*test_size))\n",
        "    len_train = length - len_test\n",
        "\n",
        "    if shufffle:\n",
        "        perm = np.random.RandomState(random_state).permutation(length)\n",
        "        test_indices = perm[:len_test]\n",
        "        train_indices = perm[len_test:]\n",
        "    else:\n",
        "        train_indices = np.arange(len_train)\n",
        "        test_indices = np.arange(len_train, length)\n",
        "\n",
        "    return list(chain.from_iterable((get_val_at_indices(x, train_indices), get_val_at_indices(x, test_indices)) for x in arrays))"
      ]
    },
    {
      "cell_type": "code",
      "source": [
        "# Distance calculation function to use the latitudes and longitudes to find travel distance\n",
        "def spherical_distance(lat1, lon1, lat2, lon2):\n",
        "    r = 6371 # km\n",
        "    p = pi / 180\n",
        "\n",
        "    a = 0.5 - cos((lat2-lat1)*p)/2 + cos(lat1*p) * cos(lat2*p) * (1-cos((lon2-lon1)*p))/2\n",
        "    return 2 * r * asin(sqrt(a))"
      ],
      "metadata": {
        "id": "U_eB-K52rPx_"
      },
      "execution_count": 4,
      "outputs": []
    },
    {
      "cell_type": "markdown",
      "metadata": {
        "id": "UesVXR3CJSp_"
      },
      "source": [
        "# Custom Class Implementation"
      ]
    },
    {
      "cell_type": "code",
      "execution_count": 29,
      "metadata": {
        "id": "P3C6llwNJSqA"
      },
      "outputs": [],
      "source": [
        "class CNN:\n",
        "    def __init__(self, hidden_layer_sizes=(100,), learning_rate=0.1, epochs=200, batch_size=32, random_state=42, hidden_layer_activation='logistic', output_layer_activation='linear', optim_algo='SGD', loss_function='MSE', l2_lamda=0):\n",
        "        # learning rate should be casted to np.float64\n",
        "        self.learning_rate = np.float64(learning_rate)\n",
        "        self.l2_lamda = np.float64(l2_lamda)\n",
        "        self.epochs = epochs\n",
        "        self.batch_size = batch_size\n",
        "        self.random_state = random_state\n",
        "        self.hidden_layer_sizes = hidden_layer_sizes\n",
        "        self.is_first_pass = True\n",
        "\n",
        "        # Activation functions for hidden layer\n",
        "        if hidden_layer_activation == 'logistic':\n",
        "            self.hidden_layer_activation = self.sigmoid\n",
        "            self.hidden_layer_activation_derivative = self.sigmoid_derivative\n",
        "        elif hidden_layer_activation == 'ReLU':\n",
        "            self.hidden_layer_activation = self.ReLU\n",
        "            self.hidden_layer_activation_derivative = self.ReLU_derivative\n",
        "        elif hidden_layer_activation == 'linear':\n",
        "            self.hidden_layer_activation = self.linear\n",
        "            self.hidden_layer_activation_derivative = self.linear_derivative\n",
        "        else:\n",
        "            # default to sigmoid\n",
        "            self.hidden_layer_activation = self.sigmoid\n",
        "            self.hidden_layer_activation_derivative = self.sigmoid_derivative\n",
        "\n",
        "        # Activation functions for output layer\n",
        "        if output_layer_activation == 'logistic':\n",
        "            self.output_layer_activation = self.sigmoid\n",
        "            self.output_layer_activation_derivative = self.sigmoid_derivative\n",
        "        elif output_layer_activation == 'ReLU':\n",
        "            self.output_layer_activation = self.ReLU\n",
        "            self.output_layer_activation_derivative = self.ReLU_derivative\n",
        "        elif output_layer_activation == 'linear':\n",
        "            self.output_layer_activation = self.linear\n",
        "            self.output_layer_activation_derivative = self.linear_derivative\n",
        "        else:\n",
        "            # default to sigmoid\n",
        "            self.output_layer_activation = self.sigmoid\n",
        "            self.output_layer_activation_derivative = self.sigmoid_derivative\n",
        "\n",
        "        if optim_algo == 'SGD':\n",
        "            self.optim_algo = self.msgd\n",
        "\n",
        "        if loss_function == 'MSE':\n",
        "            self.loss_function = self.MSE\n",
        "\n",
        "    # train test split to store the train and test data\n",
        "    def train_test_split(self, *arrays, test_size=0.25, shuffle=True):\n",
        "        # get length of first array\n",
        "        length = len(arrays[0])\n",
        "\n",
        "        # split lengths\n",
        "        len_test = int(np.ceil(length*test_size))\n",
        "        len_train = length - len_test\n",
        "\n",
        "        # If shuffle is added, permutates the indices and returns a pseudorandom\n",
        "        # split that can be recreated\n",
        "        if shuffle:\n",
        "            perm = np.random.RandomState(self.random_state).permutation(length)\n",
        "            test_indices = perm[:len_test]\n",
        "            train_indices = perm[len_test:]\n",
        "        else:\n",
        "            train_indices = np.arange(len_train)\n",
        "            test_indices = np.arange(len_train, length)\n",
        "\n",
        "        # Unpack from the list of train and test indices\n",
        "        self.X_train, self.X_test, self.y_train, self.y_test = list(chain.from_iterable((get_val_at_indices(x, train_indices), get_val_at_indices(x, test_indices)) for x in arrays))\n",
        "\n",
        "    def sigmoid(self, x):\n",
        "        # numpy has an overflow issue when np.exp(-x) for a large negative\n",
        "        # number is calculated. So, for negatives we use\n",
        "        # e^x/(1+e^x) instead.\n",
        "\n",
        "        # Get positive and negative indices\n",
        "        positives = x >= 0\n",
        "        negatives = ~positives\n",
        "\n",
        "        exp_x_neg = np.exp((x[negatives]).astype(np.float64))\n",
        "\n",
        "        y = x.copy()\n",
        "\n",
        "        y[positives] = 1 / (1 + np.exp((-x[positives]).astype(np.float64)))\n",
        "        y[negatives] = exp_x_neg / (1 + exp_x_neg)\n",
        "\n",
        "        return y\n",
        "\n",
        "    def sigmoid_derivative(self, X):\n",
        "        return X * (1-X)\n",
        "\n",
        "    def ReLU(self, X):\n",
        "        return np.maximum(0, X)\n",
        "\n",
        "    def ReLU_derivative(self, X):\n",
        "        return 1 * (X > 0)\n",
        "\n",
        "    def linear(self, X):\n",
        "        return X\n",
        "\n",
        "    def linear_derivative(self, X):\n",
        "        return 1\n",
        "\n",
        "    # Divides the dataset indices into self.batch_sized minibatches\n",
        "    def load_data(self):\n",
        "        mini_batches = []\n",
        "\n",
        "        train_size = self.X_train.shape[0]\n",
        "\n",
        "        num_batches = int(np.ceil(train_size / self.batch_size))\n",
        "\n",
        "        for i in range(num_batches):\n",
        "            start = i * self.batch_size\n",
        "            end = start + self.batch_size\n",
        "\n",
        "            if end > train_size:\n",
        "                end = train_size\n",
        "\n",
        "            mini_batches.append(((start, end)))\n",
        "\n",
        "        return mini_batches\n",
        "\n",
        "    # MSE loss\n",
        "    def MSE(self, y, y_pred):\n",
        "        # Reshape to avoid numpy dimensionality issues\n",
        "        if len(y.shape) == 1:\n",
        "            y = y.reshape(-1, 1)\n",
        "\n",
        "        return np.mean((y - y_pred)**2) / 2\n",
        "\n",
        "    # Mini batch gradient descent implementation\n",
        "    def msgd(self):\n",
        "        # Initialise all activation layers and deltas\n",
        "        activations = [None] * (self.num_layers)\n",
        "        deltas = [None] * (self.num_layers-1)\n",
        "\n",
        "        # Get minibatch indices\n",
        "        mini_batches = self.load_data()\n",
        "\n",
        "        # Train and Test losses for plotting\n",
        "        train_losses = []\n",
        "        test_losses = []\n",
        "\n",
        "        # For each epoch\n",
        "        for i in range(self.epochs):\n",
        "            # Since batch sizes may not be consistent, we use this variable and\n",
        "            # take a mean over all batches towards the end\n",
        "            epoch_loss = 0\n",
        "            for mini_batch in mini_batches:\n",
        "                # For each minibatch, set first activations layer to X_train[mb]\n",
        "                start, end = mini_batch\n",
        "\n",
        "                activations[0] = self.X_train[start:end]\n",
        "\n",
        "                # Forward propagation\n",
        "                activations = self.forward(activations)\n",
        "\n",
        "                # print(f\"activation: {activations[0][0]}, {activations[-1][0]}\")\n",
        "                # Every 10th epoch, calculate and store epoch losses\n",
        "                if i%10 == 9 and self.plot_losses:\n",
        "                    # multiply by mini batch size since loss fn is mean over the whole batch\n",
        "                    epoch_loss += self.loss_function(self.y_train[start:end], activations[-1]) * (end-start+1)\n",
        "\n",
        "                # backpropagate with activations and deltas\n",
        "                self.backward(activations, deltas, self.y_train[start:end], (end-start+1))\n",
        "\n",
        "            # Every 10 epochs, calculate losses and append to train_losses, test_losses\n",
        "            if i%10 == 9 and self.plot_losses:\n",
        "                # Take a mean over the whole batch\n",
        "                train_losses.append(epoch_loss / self.X_train.shape[0])\n",
        "                y_pred = self.predict(self.X_test)\n",
        "                test_losses.append(self.loss_function(self.y_test, y_pred))\n",
        "\n",
        "        self.train_losses = train_losses\n",
        "        self.test_losses = test_losses\n",
        "\n",
        "    # Initializes weights and biases using layer sizes\n",
        "    def weight_initialization(self, layer_sizes):\n",
        "        self.weights = []\n",
        "        self.biases = []\n",
        "\n",
        "        # For input_layer:hidden_layer_1 and hidden_layer_i:hidden_layer_i++\n",
        "        for i in range(self.num_layers - 1):\n",
        "            weight, bias = self.add_layer(layer_sizes[i], layer_sizes[i+1])\n",
        "\n",
        "            self.weights.append(weight)\n",
        "            self.biases.append(bias)\n",
        "\n",
        "    # Returns weights and bias as 2D np arrays of shape (input_size, output_size) with values randomly\n",
        "    # Between -1 and 1\n",
        "    def add_layer(self, input_size, output_size):\n",
        "        # Seed with initialized random state for consistency\n",
        "        np.random.seed(self.random_state)\n",
        "        weight = np.array(((np.random.rand(input_size, output_size) - 0.5) * 2), dtype=np.float64)\n",
        "        bias = np.array(((np.random.rand(1, output_size) - 0.5) * 2), dtype=np.float64)\n",
        "        return weight, bias\n",
        "\n",
        "    # If this is the first training pass, call for weight_initialization\n",
        "    def first_pass(self, layer_sizes):\n",
        "        self.num_layers = len(layer_sizes)\n",
        "\n",
        "        self.weight_initialization(layer_sizes)\n",
        "\n",
        "    # Forward pass\n",
        "    def forward(self, activations):\n",
        "        # For each layer, calculate Z as A[i].W[i] and convert to activations\n",
        "        for i in range(self.num_layers-1):\n",
        "            # if not output layer, apply hidden layer activation function\n",
        "            if i != self.num_layers-2:\n",
        "                activations[i+1] = self.hidden_layer_activation(np.dot(activations[i], self.weights[i]) + self.biases[i])\n",
        "            else:\n",
        "                activations[i+1] = self.output_layer_activation(np.dot(activations[i], self.weights[i]) + self.biases[i])\n",
        "\n",
        "        return activations\n",
        "\n",
        "    # Backward pass\n",
        "    def backward(self, activations, deltas, y, current_batch_size):\n",
        "        # Deltas for output layer = loss_fn_derivate * activation_derivative\n",
        "        deltas[self.num_layers-2] = (y - activations[-1]) * self.output_layer_activation_derivative(activations[-1])\n",
        "\n",
        "        # Update weights using chain rule\n",
        "        self.weights[self.num_layers-2] += (np.dot(activations[self.num_layers-2].T, deltas[self.num_layers-2]).astype(np.float64) / current_batch_size) * self.learning_rate - self.l2_lamda * self.learning_rate * self.weights[self.num_layers-2]\n",
        "        self.biases[self.num_layers-2] += (np.sum(deltas[self.num_layers-2], axis=0).astype(np.float64) / current_batch_size) * self.learning_rate\n",
        "\n",
        "        # For each hidden layer until the input layer use chain rule to get deltas\n",
        "        for i in range(self.num_layers-2, 0, -1):\n",
        "            deltas[i-1] = np.dot(deltas[i], self.weights[i].T) * self.hidden_layer_activation_derivative(activations[i])\n",
        "\n",
        "            self.weights[i-1] += (np.dot(activations[i-1].T, deltas[i-1]).astype(np.float64) / current_batch_size) * self.learning_rate - self.l2_lamda * self.learning_rate * self.weights[i-1]\n",
        "            self.biases[i-1] += (np.sum(deltas[i-1], axis=0).astype(np.float64) / current_batch_size) * self.learning_rate\n",
        "\n",
        "    # Checks for train test split, initialising weights, running the algorithm and plotting the losses\n",
        "    def train(self, plot_losses=False):\n",
        "        if not hasattr(self, 'X_train') or not hasattr(self, 'y_train'):\n",
        "            raise AttributeError('X_train and y_train not found. Please run train test split first.')\n",
        "\n",
        "        self.plot_losses = plot_losses\n",
        "\n",
        "        # if y is 1D, convert to 2D\n",
        "        if len(self.y_train.shape) == 1:\n",
        "            self.y_train = self.y_train.reshape(-1, 1)\n",
        "\n",
        "        # Initialize weights and biases if it's the first pass\n",
        "        if self.is_first_pass:\n",
        "            self.first_pass([self.X_train.shape[1]] + list(self.hidden_layer_sizes) + [self.y_train.shape[1]])\n",
        "            self.is_first_pass = False\n",
        "\n",
        "        # Train using the optimization algorithm set while initializing the model\n",
        "        self.optim_algo()\n",
        "\n",
        "        if plot_losses:\n",
        "            x_indices = range(len(self.train_losses))\n",
        "\n",
        "            plot_labels = [i+1 for i in range(self.epochs) if i%10 == 9]\n",
        "\n",
        "            plt.figure(figsize=(10, 6))\n",
        "            plt.plot(x_indices, self.train_losses, label='Train Losses')\n",
        "            plt.plot(x_indices, self.test_losses, label='Test Losses')\n",
        "            plt.xticks(x_indices, plot_labels)\n",
        "\n",
        "            plt.xlabel('Epochs')\n",
        "            plt.ylabel('Losses')\n",
        "            plt.title('Train Tess Loss at every 10 epochs')\n",
        "            plt.legend()\n",
        "            plt.show()\n",
        "\n",
        "    # Just a forward pass but since we don't need to store each activation layer\n",
        "    # in a list, this is faster\n",
        "    def predict(self, X):\n",
        "        activation = X\n",
        "\n",
        "        for i in range(self.num_layers-1):\n",
        "            activation = np.dot(activation, self.weights[i]) + self.biases[i]\n",
        "\n",
        "            if i != self.num_layers-2:\n",
        "                activation = self.hidden_layer_activation(activation)\n",
        "            else:\n",
        "                activation = self.output_layer_activation(activation)\n",
        "\n",
        "        return activation\n",
        "\n",
        "    # Returns r2 score for the model\n",
        "    def score(self, y, y_pred):\n",
        "        if len(y.shape) == 1:\n",
        "            y = y.reshape(-1, 1)\n",
        "\n",
        "        y_mean = np.mean(y)\n",
        "        ss_res = np.sum((y - y_pred) ** 2)\n",
        "        ss_tot = np.sum((y - y_mean) ** 2)\n",
        "\n",
        "        return 1 - (ss_res/ss_tot)"
      ]
    },
    {
      "cell_type": "markdown",
      "metadata": {
        "id": "4nxEqZGYJSqB"
      },
      "source": [
        "# Main"
      ]
    },
    {
      "cell_type": "markdown",
      "metadata": {
        "id": "KS_NMjRDJSqB"
      },
      "source": [
        "## Reading data"
      ]
    },
    {
      "cell_type": "code",
      "source": [
        "data_file = \"/content/taxi.csv\""
      ],
      "metadata": {
        "id": "T4LGo8WsGFMU"
      },
      "execution_count": 6,
      "outputs": []
    },
    {
      "cell_type": "code",
      "execution_count": 7,
      "metadata": {
        "colab": {
          "base_uri": "https://localhost:8080/"
        },
        "id": "zs5Hz-dlJSqB",
        "outputId": "7ab61778-1cfd-4e40-ec32-63749eded3d0"
      },
      "outputs": [
        {
          "output_type": "stream",
          "name": "stdout",
          "text": [
            "(194006, 5)\n",
            "[ 7.5        11.92        1.          1.          1.68332275]\n"
          ]
        }
      ],
      "source": [
        "with open(data_file, 'r') as f:\n",
        "    data = list(csv.reader(f))\n",
        "\n",
        "    # ignore first row(headers) and first 2 columns(key, sno) and get the list\n",
        "    data = [row[2:] for row in data[1:]]\n",
        "\n",
        "    # If we find data that is either not there or not valid, we remove them\n",
        "    deleted = []\n",
        "\n",
        "    \"\"\"\n",
        "        Instead of using the lats and lons directly as input to the neural network,\n",
        "        we first convert them to travel_distance since lats and lons are not really\n",
        "        linearly related to fares. Fares with zero displacement are also removed since\n",
        "        the dependence is only on date which doesn't make sense for prediction.\n",
        "\n",
        "        The date is split into two parts, time of the day and day of the week.\n",
        "        Time is normalized so that it doesn't have complete influence over the\n",
        "        Z values(A.W)\n",
        "    \"\"\"\n",
        "\n",
        "    for i in range(len(data)):\n",
        "        # for each value in column 2 of the form YYYY-MM-DD HH:MM:SS, convert to a value of 60*HH + MM to denote time of the day\n",
        "        date = data[i][1].split(' ')\n",
        "        time = date[1].split(':')\n",
        "        data[i][1] = np.float64((int(time[0])*60 + int(time[1]))/100)\n",
        "\n",
        "        data_point = data[i]\n",
        "\n",
        "        distance = 0\n",
        "\n",
        "        # add a new column to denote the day of the week\n",
        "        data_point.append(np.float64((int(date[0].split('-')[2]) % 7) + 1))\n",
        "\n",
        "        # if both pickup and dropoff latitude and longitude are 0, delete the row\n",
        "        # Else, set the pickup latitude and longitude to the dropoff latitude and longitude\n",
        "        if data_point[2] == '0.0':\n",
        "            if data_point[4] == '0.0':\n",
        "                deleted.append(i)\n",
        "                continue\n",
        "            else:\n",
        "                data_point[2] = data_point[4]\n",
        "        elif data_point[4] == '0.0':\n",
        "            data_point[4] = data_point[2]\n",
        "\n",
        "        if data_point[3] == '0.0':\n",
        "            if data_point[5] == '0.0':\n",
        "                deleted.append(i)\n",
        "                continue\n",
        "            else:\n",
        "                data_point[3] = data_point[5]\n",
        "        elif data_point[5] == '0.0':\n",
        "            data_point[5] = data_point[3]\n",
        "\n",
        "        delete = False\n",
        "\n",
        "        for j in range(len(data_point)):\n",
        "            try:\n",
        "                data_point[j] = float(data_point[j])\n",
        "            except:\n",
        "                # Exceptions occur when the value is empty or not a number\n",
        "                deleted.append(i)\n",
        "                delete = True\n",
        "\n",
        "        if delete:\n",
        "            continue\n",
        "\n",
        "        # Now calculate the distance between the pickup and dropoff points\n",
        "        distance = spherical_distance(float(data_point[3]), float(data_point[2]), float(data_point[5]), float(data_point[4]))\n",
        "\n",
        "        if distance == 0:\n",
        "            deleted.append(i)\n",
        "            continue\n",
        "\n",
        "        data_point.append(distance)\n",
        "\n",
        "    # remove the latitude and longitude columns and the deleted rows\n",
        "    data = [data[i] for i in range(len(data)) if i not in deleted]\n",
        "\n",
        "    columns = [0, 1, 6, 7, 8]\n",
        "\n",
        "    data = np.array([[row[i] for i in columns] for row in data])\n",
        "\n",
        "print(data.shape)\n",
        "print(data[0])"
      ]
    },
    {
      "cell_type": "markdown",
      "metadata": {
        "id": "Ta-OWrQMJSqC"
      },
      "source": [
        "## Pre Processing"
      ]
    },
    {
      "cell_type": "code",
      "execution_count": 8,
      "metadata": {
        "colab": {
          "base_uri": "https://localhost:8080/"
        },
        "id": "bcO58Z2yJSqD",
        "outputId": "ff5c23e8-058a-4335-e50d-e956a69330c7"
      },
      "outputs": [
        {
          "output_type": "stream",
          "name": "stdout",
          "text": [
            "X: (194006, 4), y: (194006,)\n",
            "X_train: (155204, 4), y_train: (155204,)\n"
          ]
        }
      ],
      "source": [
        "# fares is the first column values\n",
        "y = data[:, 0]\n",
        "\n",
        "# features are the rest of the columns\n",
        "X = data[:, 1:]\n",
        "\n",
        "print(f\"X: {X.shape}, y: {y.shape}\")\n",
        "\n",
        "X_train, X_test, y_train, y_test = train_test_split(X, y, test_size=0.2, random_state=42)\n",
        "\n",
        "print(f\"X_train: {X_train.shape}, y_train: {y_train.shape}\")\n",
        "\n",
        "# Delete data variable since it is no longer needed\n",
        "del data"
      ]
    },
    {
      "cell_type": "markdown",
      "metadata": {
        "id": "EAvE-APyJSqD"
      },
      "source": [
        "\n",
        "## Case 1\n",
        "\n",
        "* No of hidden layers: 1\n",
        "* No. of neurons in hidden layer: 32\n",
        "* Activation function in the hidden layer: Sigmoid\n",
        "* 1 neuron in the output layer.\n",
        "* Activation function in the output layer: Linear\n",
        "* Optimisation algorithm: Mini Batch Stochastic Gradient Descent (SGD)\n",
        "* Loss function: Mean Squared Error (MSE)\n",
        "* Learning rate: 0.01\n",
        "* No. of epochs = 200"
      ]
    },
    {
      "cell_type": "markdown",
      "metadata": {
        "id": "eNxZa_KgJSqD"
      },
      "source": [
        "### Custom Class Implementation"
      ]
    },
    {
      "cell_type": "code",
      "execution_count": 49,
      "metadata": {
        "id": "NQjo12nBJSqD"
      },
      "outputs": [],
      "source": [
        "CustomNN = CNN(\n",
        "        hidden_layer_sizes=(32,),\n",
        "        hidden_layer_activation='logistic',\n",
        "        output_layer_activation='linear',\n",
        "        optim_algo='SGD',\n",
        "        loss_function='MSE',\n",
        "        learning_rate=0.01,\n",
        "        epochs=200,\n",
        "        random_state=42,\n",
        "    )"
      ]
    },
    {
      "cell_type": "markdown",
      "metadata": {
        "id": "s9-Q5_k2JSqE"
      },
      "source": [
        "Data Loading"
      ]
    },
    {
      "cell_type": "code",
      "execution_count": 50,
      "metadata": {
        "id": "McW_Q_jmJSqE"
      },
      "outputs": [],
      "source": [
        "# Load data into the model with split size 80:20\n",
        "CustomNN.train_test_split(X, y, test_size=0.2)"
      ]
    },
    {
      "cell_type": "markdown",
      "metadata": {
        "id": "uMV8NtNJJSqE"
      },
      "source": [
        "Training the model. Weight initialisation is also included since this is the first pass."
      ]
    },
    {
      "cell_type": "code",
      "execution_count": 51,
      "metadata": {
        "id": "tLz-NqpZJSqE",
        "colab": {
          "base_uri": "https://localhost:8080/",
          "height": 564
        },
        "outputId": "00d56967-eb3c-4183-a7a4-b90605f5a7fe"
      },
      "outputs": [
        {
          "output_type": "display_data",
          "data": {
            "text/plain": [
              "<Figure size 1000x600 with 1 Axes>"
            ],
            "image/png": "[encoded data removed]"
          },
          "metadata": {}
        }
      ],
      "source": [
        "# Call train loop\n",
        "CustomNN.train(plot_losses=True)"
      ]
    },
    {
      "cell_type": "code",
      "source": [
        "print(f\"train score for the custom model: {CustomNN.score(y_train, CustomNN.predict(X_train))}\")"
      ],
      "metadata": {
        "colab": {
          "base_uri": "https://localhost:8080/"
        },
        "id": "r-EjZ6SZaAh6",
        "outputId": "66ac0060-c99a-4b6e-b8cc-ed694b4b9fd8"
      },
      "execution_count": 33,
      "outputs": [
        {
          "output_type": "stream",
          "name": "stdout",
          "text": [
            "train score for the custom model: 0.5706652533644992\n"
          ]
        }
      ]
    },
    {
      "cell_type": "code",
      "source": [
        "test_score = CustomNN.score(y_test, CustomNN.predict(X_test))\n",
        "\n",
        "print(f\"test score for the custom model: {test_score}\")"
      ],
      "metadata": {
        "id": "5rxdC3ZNaiN5",
        "colab": {
          "base_uri": "https://localhost:8080/"
        },
        "outputId": "c286fe6b-83c2-4aa0-ecd5-55daf2fd3572"
      },
      "execution_count": 35,
      "outputs": [
        {
          "output_type": "stream",
          "name": "stdout",
          "text": [
            "test score for the custom model: 0.5476801822108012\n"
          ]
        }
      ]
    },
    {
      "cell_type": "markdown",
      "metadata": {
        "id": "m5TU6kKRJSqE"
      },
      "source": [
        "### Sklearn Implementation"
      ]
    },
    {
      "cell_type": "code",
      "execution_count": 36,
      "metadata": {
        "id": "zQp9LrtYJSqF"
      },
      "outputs": [],
      "source": [
        "MLP = MLPRegressor(\n",
        "    hidden_layer_sizes=(32,),\n",
        "    activation='logistic',\n",
        "    solver='sgd',\n",
        "    learning_rate_init=0.01,\n",
        "    max_iter=200,\n",
        "    random_state=42\n",
        ")"
      ]
    },
    {
      "cell_type": "markdown",
      "metadata": {
        "id": "VUu_OZ8cJSqF"
      },
      "source": [
        "Training the model using X_train and y_train"
      ]
    },
    {
      "cell_type": "code",
      "execution_count": 38,
      "metadata": {
        "id": "UgO8KlxLJSqF",
        "colab": {
          "base_uri": "https://localhost:8080/"
        },
        "outputId": "0886fb61-93ff-44ca-eeb3-d7946bafddf2"
      },
      "outputs": [
        {
          "output_type": "stream",
          "name": "stdout",
          "text": [
            "Train score for the MLP model: 0.5785410418301786\n"
          ]
        }
      ],
      "source": [
        "MLP.fit(X_train, y_train)\n",
        "\n",
        "print(f\"Train score for the MLP model: {MLP.score(X_train, y_train)}\")"
      ]
    },
    {
      "cell_type": "markdown",
      "metadata": {
        "id": "WtecmA9TJSqG"
      },
      "source": [
        "Testing the model using X_test"
      ]
    },
    {
      "cell_type": "code",
      "source": [
        "print(f\"Test score for MLP model {MLP.score(X_test, y_test)}\")\n"
      ],
      "metadata": {
        "colab": {
          "base_uri": "https://localhost:8080/"
        },
        "id": "tZyE0Pc5QC7p",
        "outputId": "9814d9ef-362d-43a3-c467-44e172bd3b6d"
      },
      "execution_count": 39,
      "outputs": [
        {
          "output_type": "stream",
          "name": "stdout",
          "text": [
            "Test score for MLP model 0.5574149450460854\n"
          ]
        }
      ]
    },
    {
      "cell_type": "markdown",
      "metadata": {
        "id": "UKQcny_uJSqG"
      },
      "source": [
        "## Case 2\n",
        "* No of hidden layers: 2\n",
        "* No. of neurons in the 1st hidden layer: 64\n",
        "* No. of neurons in the 2nd hidden layer: 32\n",
        "* Activation function in both the hidden layers: ReLU\n",
        "* 1 neuron in the output layer.\n",
        "* Activation function in the output layer: Linear\n",
        "* Optimisation algorithm: Mini Batch Stochastic Gradient Descent (SGD)\n",
        "* Loss function: Mean Squared Error (MSE)\n",
        "* Learning rate: 0.01\n",
        "* No. of epochs = 200"
      ]
    },
    {
      "cell_type": "markdown",
      "source": [
        "### Custom Class Implementation"
      ],
      "metadata": {
        "id": "IbrPxxHkMxNa"
      }
    },
    {
      "cell_type": "code",
      "source": [
        "CustomNN = CNN(\n",
        "        hidden_layer_sizes=(64, 32,),\n",
        "        hidden_layer_activation='Relu',\n",
        "        output_layer_activation='linear',\n",
        "        optim_algo='SGD',\n",
        "        loss_function='MSE',\n",
        "        learning_rate=0.01,\n",
        "        epochs=200,\n",
        "        random_state=42,\n",
        "        l2_lamda=0.001\n",
        "    )"
      ],
      "metadata": {
        "id": "HfDH2pZiM1dv"
      },
      "execution_count": 40,
      "outputs": []
    },
    {
      "cell_type": "code",
      "source": [
        "CustomNN.train_test_split(X, y)"
      ],
      "metadata": {
        "id": "VPs9afQky4Cn"
      },
      "execution_count": 41,
      "outputs": []
    },
    {
      "cell_type": "code",
      "source": [
        "CustomNN.train(plot_losses=True)\n",
        "\n",
        "print(f\"Train score for the custom model: {CustomNN.score(y_train, CustomNN.predict(X_train))}\")"
      ],
      "metadata": {
        "colab": {
          "base_uri": "https://localhost:8080/",
          "height": 582
        },
        "id": "bJhoOquVy5Gc",
        "outputId": "12006621-5418-4ec9-ea39-6d30859f756a"
      },
      "execution_count": 42,
      "outputs": [
        {
          "output_type": "display_data",
          "data": {
            "text/plain": [
              "<Figure size 1000x600 with 1 Axes>"
            ],
            "image/png": "[encoded data removed]"
          },
          "metadata": {}
        },
        {
          "output_type": "stream",
          "name": "stdout",
          "text": [
            "Train score for the custom model: 0.5362440788227133\n"
          ]
        }
      ]
    },
    {
      "cell_type": "code",
      "source": [
        "test_score = CustomNN.score(y_test, CustomNN.predict(X_test))\n",
        "\n",
        "print(f\"Test score for the custom model: {test_score}\")"
      ],
      "metadata": {
        "colab": {
          "base_uri": "https://localhost:8080/"
        },
        "id": "iSrYhxd3HLRv",
        "outputId": "bcea6274-1544-42e2-e167-0f4a750cb3ab"
      },
      "execution_count": 44,
      "outputs": [
        {
          "output_type": "stream",
          "name": "stdout",
          "text": [
            "Test score for the custom model: 0.5137340892948749\n"
          ]
        }
      ]
    },
    {
      "cell_type": "markdown",
      "source": [
        "### SkLearn Implementation"
      ],
      "metadata": {
        "id": "L58ayWaZHlAu"
      }
    },
    {
      "cell_type": "code",
      "source": [
        "MLP = MLPRegressor(\n",
        "    hidden_layer_sizes=(64,32,),\n",
        "    activation='relu',\n",
        "    solver='sgd',\n",
        "    learning_rate_init=0.01,\n",
        "    max_iter=200,\n",
        "    random_state=42\n",
        ")"
      ],
      "metadata": {
        "id": "6mf4I0tPHm4U"
      },
      "execution_count": 45,
      "outputs": []
    },
    {
      "cell_type": "code",
      "source": [
        "MLP.fit(X_train, y_train)\n",
        "\n",
        "print(f\"Train score for the MLP model: {MLP.score(X_train, y_train)}\")"
      ],
      "metadata": {
        "colab": {
          "base_uri": "https://localhost:8080/"
        },
        "id": "p5o35jjQI9C5",
        "outputId": "d7913aca-832c-4554-f855-e0d779116be3"
      },
      "execution_count": 46,
      "outputs": [
        {
          "output_type": "stream",
          "name": "stdout",
          "text": [
            "Train score for the MLP model: -0.000275119310358507\n"
          ]
        }
      ]
    },
    {
      "cell_type": "code",
      "source": [
        "pred = MLP.predict(X_test)\n",
        "\n",
        "print(f\"Test score for MLP model {MLP.score(X_test, y_test)}\")\n"
      ],
      "metadata": {
        "colab": {
          "base_uri": "https://localhost:8080/"
        },
        "id": "qBM3-ZgfI90O",
        "outputId": "3efc209c-ce48-4ef7-bcf4-d9f8431e4126"
      },
      "execution_count": 47,
      "outputs": [
        {
          "output_type": "stream",
          "name": "stdout",
          "text": [
            "Test score for MLP model -0.00042094729698116673\n"
          ]
        }
      ]
    }
  ],
  "metadata": {
    "kernelspec": {
      "display_name": "Python 3",
      "name": "python3"
    },
    "language_info": {
      "codemirror_mode": {
        "name": "ipython",
        "version": 3
      },
      "file_extension": ".py",
      "mimetype": "text/x-python",
      "name": "python",
      "nbconvert_exporter": "python",
      "pygments_lexer": "ipython3",
      "version": "3.10.5"
    },
    "colab": {
      "provenance": [],
      "gpuType": "T4"
    }
  },
  "nbformat": 4,
  "nbformat_minor": 0
}