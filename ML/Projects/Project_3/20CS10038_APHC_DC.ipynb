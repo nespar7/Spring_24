{
  "cells": [
    {
      "cell_type": "markdown",
      "metadata": {
        "id": "1fpkwxMSKRuW"
      },
      "source": [
        "* Complete Linkage Criterion - Distance between two clusters is the largest distance between all possible pairs of points chosen from the clusters\n",
        "* Divisive Clustering - Initially, all the data points are put into one cluster and then the cluster is divided into smaller clusters based upon the linkage criterion"
      ]
    },
    {
      "cell_type": "markdown",
      "metadata": {
        "id": "z6RrJNqkKRuX"
      },
      "source": [
        "# Imports"
      ]
    },
    {
      "cell_type": "code",
      "execution_count": 93,
      "metadata": {
        "id": "4_AgieqPKRuY"
      },
      "outputs": [],
      "source": [
        "import csv\n",
        "import numpy as np\n",
        "import time"
      ]
    },
    {
      "cell_type": "code",
      "execution_count": 94,
      "metadata": {
        "id": "LMGGGlcBKRuZ"
      },
      "outputs": [],
      "source": [
        "# These mappings are for string type data which cannot be\n",
        "# Converted to integers while reading the rows as numpy arrays\n",
        "genders = {\n",
        "    'Male': 0,\n",
        "    'Female': 1\n",
        "}\n",
        "\n",
        "custType = {\n",
        "    'disloyal Customer': 0,\n",
        "    'Loyal Customer': 1\n",
        "}\n",
        "\n",
        "typeTravel = {\n",
        "    'Personal Travel': 0,\n",
        "    'Business travel': 1\n",
        "}\n",
        "\n",
        "travelClass = {\n",
        "    'Eco': 0,\n",
        "    'Business': 1,\n",
        "    'Eco Plus': 2\n",
        "}\n",
        "\n",
        "file_format_string = 'kmeans_{}.txt'"
      ]
    },
    {
      "cell_type": "markdown",
      "metadata": {
        "id": "Ynz4O5I0KRua"
      },
      "source": [
        "# Functions and Classes"
      ]
    },
    {
      "cell_type": "code",
      "execution_count": 95,
      "metadata": {
        "id": "vW7kLnokKRua"
      },
      "outputs": [],
      "source": [
        "# Function to read the csv file and return a 2D numpy array\n",
        "def read_data(data_file):\n",
        "    data = []\n",
        "\n",
        "    with open(data_file, 'r') as f:\n",
        "        reader = csv.DictReader(f)\n",
        "\n",
        "        for row in reader:\n",
        "            try:\n",
        "                # Store the data as a numpy array\n",
        "                data.append([\n",
        "                    int(row['id']),\n",
        "                    genders[row['Gender']],\n",
        "                    custType[row['Customer Type']],\n",
        "                    int(row['Age']),\n",
        "                    typeTravel[row['Type of Travel']],\n",
        "                    travelClass[row['Class']],\n",
        "                    int(row['Flight Distance']),\n",
        "                    int(row['Inflight wifi service']),\n",
        "                    int(row['Departure/Arrival time convenient']),\n",
        "                    int(row['Ease of Online booking']),\n",
        "                    int(row['Gate location']),\n",
        "                    int(row['Food and drink']),\n",
        "                    int(row['Online boarding']),\n",
        "                    int(row['Seat comfort']),\n",
        "                    int(row['Inflight entertainment']),\n",
        "                    int(row['On-board service']),\n",
        "                    int(row['Leg room service']),\n",
        "                    int(row['Baggage handling']),\n",
        "                    int(row['Checkin service']),\n",
        "                    int(row['Inflight service']),\n",
        "                    int(row['Cleanliness']),\n",
        "                    int(row['Departure Delay in Minutes']),\n",
        "                    # This is done since there were a few instances when Arrival Delay in Minutes was empty\n",
        "                    (int(row['Arrival Delay in Minutes']) if row['Arrival Delay in Minutes'] else 0),\n",
        "                ])\n",
        "            except Exception as e:\n",
        "                print(e)\n",
        "                print(row)\n",
        "                break\n",
        "\n",
        "    data = np.array(data)\n",
        "\n",
        "    return data\n",
        "\n",
        "# Function to retrieve clusters written onto a file\n",
        "def read_cluster_data(cluster_file):\n",
        "    clusters = []\n",
        "\n",
        "    with open(cluster_file, 'r') as f:\n",
        "        lines = f.readlines()\n",
        "\n",
        "        # Since each line is a cluster, we add this line to\n",
        "        # clusters after splitting by ','\n",
        "        for line in lines:\n",
        "            indices = line.split(',')\n",
        "\n",
        "            clusters.append([int(i) for i in indices])\n",
        "\n",
        "    return clusters"
      ]
    },
    {
      "cell_type": "code",
      "source": [
        "# Function to write clusters information to output file\n",
        "def save_cluster_info(clusters, k, output_file):\n",
        "    # Clearing the output file\n",
        "    print('', end='', file=open(output_file, 'w'))\n",
        "\n",
        "    # For each cluster, printing the indices of the data points in that cluster\n",
        "\n",
        "    # Had to do this check since numpy gave issues when deleting and adding\n",
        "    # Clusters in divisive clustering, so a simple array is returned there\n",
        "    if isinstance(clusters, np.ndarray):\n",
        "        for i in range(k):\n",
        "            inds = np.where(clusters == i)[0]\n",
        "            print(\",\".join(str(ind) for ind in inds), file=open(output_file, 'a'))\n",
        "    else:\n",
        "        for cluster in clusters:\n",
        "            print(\",\".join(str(ind) for ind in cluster), file=open(output_file, 'a'))"
      ],
      "metadata": {
        "id": "-x8HLplaLUCg"
      },
      "execution_count": 96,
      "outputs": []
    },
    {
      "cell_type": "code",
      "source": [
        "# cosine similarity = A.B/|A||B|\n",
        "def cosine_similarity(a, b):\n",
        "    dot_product = np.dot(a, b)\n",
        "    norm_a = np.linalg.norm(a)\n",
        "    norm_b = np.linalg.norm(b)\n",
        "    return dot_product / (norm_a * norm_b)\n",
        "\n",
        "# Mean distance from the sample at i to all other data points in the cluster\n",
        "def mean_intra_cluster_distance(i, data, clusters, cluster):\n",
        "    cluster_data = data[clusters == cluster]\n",
        "    data_point = data[i]\n",
        "\n",
        "    distances = [1 - cosine_similarity(data_point, point) for point in cluster_data]\n",
        "    return np.mean(distances)\n",
        "\n",
        "# Mean distance from the sample to all other data points in the nearest cluster\n",
        "def mean_inter_cluster_distance(i, data, clusters, cluster):\n",
        "    # Distance to each cluster\n",
        "    cluster_distances = []\n",
        "    data_point = data[i]\n",
        "\n",
        "    k = len(np.unique(clusters))\n",
        "\n",
        "    for j in range(k):\n",
        "        if j == cluster:\n",
        "            continue\n",
        "\n",
        "        current_cluster_data = data[clusters == j]\n",
        "\n",
        "        distances = np.array([1 - cosine_similarity(data_point, point) for point in current_cluster_data])\n",
        "\n",
        "        cluster_distances.append(np.mean(distances))\n",
        "\n",
        "    # return the minimum distance to the other clusters\n",
        "    return np.min(cluster_distances)\n",
        "\n",
        "# Silhouette coefficient = inter - intra / max(intra, inter)\n",
        "def silhouette_coefficient(i, data, clusters):\n",
        "    cluster = clusters[i]\n",
        "\n",
        "    a = mean_intra_cluster_distance(i, data, clusters, cluster)\n",
        "    b = mean_inter_cluster_distance(i, data, clusters, cluster)\n",
        "\n",
        "    return (b - a) / max(a, b)\n",
        "\n",
        "# Final score is the mean of scores of all samples\n",
        "def silhouette_score(data, clusters):\n",
        "    scores = [silhouette_coefficient(i, data, clusters) for i in range(len(data))]\n",
        "    return np.mean(scores)\n",
        "\n",
        "# Assign data points to clusters depending on which\n",
        "# centroid it is most similar(closest) to\n",
        "def assign_clusters(data, centroids):\n",
        "    clusters = []\n",
        "\n",
        "    for point in data:\n",
        "        similarities = [cosine_similarity(point, centroid) for centroid in centroids]\n",
        "        cluster = np.argmax(similarities)\n",
        "        clusters.append(cluster)\n",
        "\n",
        "    return np.array(clusters)\n",
        "\n",
        "# After assigning points to clusters, we find the new\n",
        "# centroids of each cluster\n",
        "def update_centroids(data, clusters, k):\n",
        "    centroids = []\n",
        "\n",
        "    for i in range(k):\n",
        "        cluster_data = data[clusters == i]\n",
        "        centroid = np.mean(cluster_data, axis=0)\n",
        "        centroids.append(centroid)\n",
        "\n",
        "    return np.array(centroids)\n",
        "\n",
        "# We put data points in each cluster based on\n",
        "# their distance to the centroids\n",
        "def k_means_clustering(data, k, iterations=20):\n",
        "    # Randomly initialize centroids\n",
        "    np.random.seed(0)\n",
        "    centroids = data[np.random.choice(data.shape[0], k, replace=False)]\n",
        "\n",
        "    for _ in range(iterations):\n",
        "        # In each iteration, assign clusters and update centroids\n",
        "        clusters = assign_clusters(data, centroids)\n",
        "        centroids = update_centroids(data, clusters, k)\n",
        "\n",
        "    # Write final cluster information to a file named kmeans_k.txt\n",
        "    save_cluster_info(clusters, k, file_format_string.format(k))\n",
        "\n",
        "    return clusters"
      ],
      "metadata": {
        "id": "lgZGncnpLIsl"
      },
      "execution_count": 97,
      "outputs": []
    },
    {
      "cell_type": "code",
      "execution_count": 98,
      "metadata": {
        "id": "SlMUOJCrKRub"
      },
      "outputs": [],
      "source": [
        "# Function to get the distance matrix\n",
        "# Distance is 1 - cos(a, b)\n",
        "def get_distance_matrix(data):\n",
        "    n = len(data)\n",
        "    dist_mat = np.zeros((n, n))\n",
        "\n",
        "    for i in range(n):\n",
        "        for j in range(i+1, n):\n",
        "            dist_mat[i][j] = 1 - cosine_similarity(data[i], data[j])\n",
        "            dist_mat[j][i] = dist_mat[i][j]\n",
        "\n",
        "    return dist_mat\n",
        "\n",
        "# Function to choose the cluster that we split at the current iteration\n",
        "# Here we choose the larger of the two clusters that are the farthest away\n",
        "def choose_cluster(distance_matrix, clusters):\n",
        "    max_dist = 0\n",
        "    max_i = -1\n",
        "    max_j = -1\n",
        "\n",
        "    for i in range(len(clusters)):\n",
        "        for j in range(i+1, len(clusters)):\n",
        "            cluster_i = clusters[i]\n",
        "            cluster_j = clusters[j]\n",
        "            # Distance between clusters is according to complete linkage\n",
        "            dist = np.max(distance_matrix[cluster_i][:, cluster_j])\n",
        "            if dist > max_dist:\n",
        "                max_dist = dist\n",
        "                max_i = i\n",
        "                max_j = j\n",
        "\n",
        "    if max_i == -1:\n",
        "        return clusters[0], 0\n",
        "\n",
        "    # Between max_i and max_j choose the larger cluster\n",
        "    if len(clusters[max_i]) > len(clusters[max_j]):\n",
        "        return clusters[max_i], max_i\n",
        "    else:\n",
        "        return clusters[max_j], max_j\n",
        "\n",
        "# Top down divisive clustering\n",
        "def divisive_clustering(data, k):\n",
        "    dist_mat = get_distance_matrix(data)\n",
        "\n",
        "    # Initially all data points are in the same cluster\n",
        "    clusters = [[i for i in range(len(data))]]\n",
        "\n",
        "    while len(clusters) < k:\n",
        "        # Choose a cluster and the pair of points with the maximum distance\n",
        "        cluster, c = choose_cluster(dist_mat, clusters)\n",
        "\n",
        "        # Divide this cluster into two using a flat clustering subroutine\n",
        "        # We will use k-means with k=2 to divide the cluster\n",
        "        cluster_data = data[cluster]\n",
        "        cluster_clusters = k_means_clustering(cluster_data, 2)\n",
        "\n",
        "        # Update the clusters\n",
        "        new_clusters = []\n",
        "        for i in range(2):\n",
        "            new_cluster = [cluster[j] for j in range(len(cluster)) if cluster_clusters[j] == i]\n",
        "            new_clusters.append(new_cluster)\n",
        "\n",
        "        # Remove the old cluster and add the new clusters\n",
        "        clusters.pop(c)\n",
        "        clusters.extend(new_clusters)\n",
        "\n",
        "    # Write final cluster information to a file named divisive.txt\n",
        "    save_cluster_info(clusters, k, './divisive.txt')\n",
        "\n",
        "    return clusters\n",
        "\n",
        "# Jaccard similarity of two sets is the length of their intersection divided by the length of their union\n",
        "def jaccard_similarity(cluster1, cluster2):\n",
        "    intersection = len(np.intersect1d(cluster1, cluster2))\n",
        "    union = len(np.union1d(cluster1, cluster2))\n",
        "    return intersection / union"
      ]
    },
    {
      "cell_type": "markdown",
      "metadata": {
        "id": "KxjmfrO2KRub"
      },
      "source": [
        "# Main"
      ]
    },
    {
      "cell_type": "markdown",
      "metadata": {
        "id": "Irp5cVHhKRuc"
      },
      "source": [
        "## Data Reading"
      ]
    },
    {
      "cell_type": "code",
      "execution_count": 99,
      "metadata": {
        "id": "WQreEGIIKRuc"
      },
      "outputs": [],
      "source": [
        "data_file = './airpass.csv'\n",
        "kmeans_file = './kmeans.txt'"
      ]
    },
    {
      "cell_type": "code",
      "execution_count": 100,
      "metadata": {
        "id": "6W0WHdT4KRud"
      },
      "outputs": [],
      "source": [
        "data = read_data(data_file)"
      ]
    },
    {
      "cell_type": "markdown",
      "metadata": {
        "id": "NTMqDixaKRud"
      },
      "source": [
        "## Finding Optimal K"
      ]
    },
    {
      "cell_type": "code",
      "source": [
        "sil_scores = []"
      ],
      "metadata": {
        "id": "WoXbgeFqPZaB"
      },
      "execution_count": 101,
      "outputs": []
    },
    {
      "cell_type": "markdown",
      "metadata": {
        "id": "zFnO2aUKKRue"
      },
      "source": [
        "### K = 3"
      ]
    },
    {
      "cell_type": "code",
      "execution_count": 102,
      "metadata": {
        "colab": {
          "base_uri": "https://localhost:8080/"
        },
        "id": "6ovcc0G2KRuf",
        "outputId": "0fcaf003-f1d1-4973-ce5b-4e3ac8050cf5"
      },
      "outputs": [
        {
          "output_type": "stream",
          "name": "stdout",
          "text": [
            "Time taken for clustering k = 3: 2.9101600646972656\n",
            "Silhouette score for k = 3: 0.627480508197062\n",
            "Time taken for silhouette score calculation for k = 3: 102.20136094093323\n"
          ]
        }
      ],
      "source": [
        "start = time.time()\n",
        "clusters_3 = k_means_clustering(data, 3)\n",
        "end = time.time()\n",
        "\n",
        "print('Time taken for clustering k = 3:', end - start)\n",
        "\n",
        "start = time.time()\n",
        "sil_scores.append(silhouette_score(data, clusters_3))\n",
        "end = time.time()\n",
        "\n",
        "print('Silhouette score for k = 3:', sil_scores[-1])\n",
        "print('Time taken for silhouette score calculation for k = 3:', end - start)"
      ]
    },
    {
      "cell_type": "markdown",
      "metadata": {
        "id": "SShMZC2zKRuf"
      },
      "source": [
        "### K = 4"
      ]
    },
    {
      "cell_type": "code",
      "execution_count": 103,
      "metadata": {
        "colab": {
          "base_uri": "https://localhost:8080/"
        },
        "id": "cHSxyihKKRuf",
        "outputId": "26172000-b87a-4c9b-ea92-f61db2dbd5c9"
      },
      "outputs": [
        {
          "output_type": "stream",
          "name": "stdout",
          "text": [
            "Time taken for clustering k = 4: 2.646796703338623s\n",
            "Silhouette score for k = 4: 0.6331171650201574\n",
            "Time taken for silhouette score calculation for k = 4: 99.39695525169373s\n"
          ]
        }
      ],
      "source": [
        "start = time.time()\n",
        "clusters_4 = k_means_clustering(data, 4)\n",
        "end = time.time()\n",
        "\n",
        "print(f'Time taken for clustering k = 4: {end - start}s')\n",
        "\n",
        "start = time.time()\n",
        "sil_scores.append(silhouette_score(data, clusters_4))\n",
        "end = time.time()\n",
        "\n",
        "print(f'Silhouette score for k = 4: {sil_scores[-1]}')\n",
        "print(f'Time taken for silhouette score calculation for k = 4: {end - start}s')"
      ]
    },
    {
      "cell_type": "markdown",
      "metadata": {
        "id": "0dASi_YhKRug"
      },
      "source": [
        "### K = 5"
      ]
    },
    {
      "cell_type": "code",
      "execution_count": 104,
      "metadata": {
        "colab": {
          "base_uri": "https://localhost:8080/"
        },
        "id": "4GfovARCKRug",
        "outputId": "8ce1e44e-a740-4fda-df25-96475ed6668e"
      },
      "outputs": [
        {
          "output_type": "stream",
          "name": "stdout",
          "text": [
            "Time taken for clustering k = 5: 3.2327077388763428s\n",
            "Silhouette score for k = 5: 0.558882776386343\n",
            "Time taken for silhouette score calculation for k = 5: 98.14795994758606s\n"
          ]
        }
      ],
      "source": [
        "start = time.time()\n",
        "clusters_5 = k_means_clustering(data, 5)\n",
        "end = time.time()\n",
        "\n",
        "print(f'Time taken for clustering k = 5: {end - start}s')\n",
        "\n",
        "start = time.time()\n",
        "sil_scores.append(silhouette_score(data, clusters_5))\n",
        "end = time.time()\n",
        "\n",
        "print(f'Silhouette score for k = 5: {sil_scores[-1]}')\n",
        "print(f'Time taken for silhouette score calculation for k = 5: {end - start}s')"
      ]
    },
    {
      "cell_type": "markdown",
      "metadata": {
        "id": "do3RADxPKRug"
      },
      "source": [
        "### K = 6"
      ]
    },
    {
      "cell_type": "code",
      "execution_count": 105,
      "metadata": {
        "colab": {
          "base_uri": "https://localhost:8080/"
        },
        "id": "GOUH_bBFKRuh",
        "outputId": "bc75cc5a-eec5-4fa0-c7de-5c6eccbee7ae"
      },
      "outputs": [
        {
          "output_type": "stream",
          "name": "stdout",
          "text": [
            "Time taken for clustering k = 6: 3.7355403900146484s\n",
            "Silhouette score for k = 6: 0.5229627147356585\n",
            "Time taken for silhouette score calculation for k = 6: 100.0646448135376s\n"
          ]
        }
      ],
      "source": [
        "start = time.time()\n",
        "clusters_6 = k_means_clustering(data, 6)\n",
        "end = time.time()\n",
        "\n",
        "print(f'Time taken for clustering k = 6: {end - start}s')\n",
        "\n",
        "start = time.time()\n",
        "sil_scores.append(silhouette_score(data, clusters_6))\n",
        "end = time.time()\n",
        "\n",
        "print(f'Silhouette score for k = 6: {sil_scores[-1]}')\n",
        "print(f'Time taken for silhouette score calculation for k = 6: {end - start}s')\n"
      ]
    },
    {
      "cell_type": "code",
      "execution_count": 106,
      "metadata": {
        "colab": {
          "base_uri": "https://localhost:8080/"
        },
        "id": "LF831DBlKRuh",
        "outputId": "d9b7d455-c181-4705-e84f-88884cd586dc"
      },
      "outputs": [
        {
          "output_type": "stream",
          "name": "stdout",
          "text": [
            "Best K value: 4\n"
          ]
        }
      ],
      "source": [
        "# K value with highest silhouette score\n",
        "best_k = np.argmax(sil_scores) + 3\n",
        "\n",
        "print(f\"Best K value: {best_k}\")\n",
        "\n",
        "best_k_clusters = read_cluster_data(file_format_string.format(best_k))\n"
      ]
    },
    {
      "cell_type": "code",
      "execution_count": 107,
      "metadata": {
        "id": "vi4VEclDKRuh"
      },
      "outputs": [],
      "source": [
        "# take the file kmeans_{best_k}.txt and copy the text to kmeans.txt\n",
        "print('', end='', file=open(kmeans_file, 'w'))\n",
        "with open(file_format_string.format(best_k), 'r') as f:\n",
        "    for line in f:\n",
        "        print(line, end='', file=open(kmeans_file, 'a'))"
      ]
    },
    {
      "cell_type": "markdown",
      "metadata": {
        "id": "rIu9KSQwKRuh"
      },
      "source": [
        "## Heirarchal Clustering"
      ]
    },
    {
      "cell_type": "code",
      "execution_count": 108,
      "metadata": {
        "colab": {
          "base_uri": "https://localhost:8080/"
        },
        "id": "aLCX83i0KRuh",
        "outputId": "0a7c69fc-09e1-4c87-d761-68487d0d60a8"
      },
      "outputs": [
        {
          "output_type": "stream",
          "name": "stdout",
          "text": [
            "Time taken for divisive clustering: 59.84216022491455s\n"
          ]
        }
      ],
      "source": [
        "start = time.time()\n",
        "div_clusters = divisive_clustering(data, best_k)\n",
        "end = time.time()\n",
        "\n",
        "print(f'Time taken for divisive clustering: {end - start}s')"
      ]
    },
    {
      "cell_type": "code",
      "source": [
        "print(div_clusters)"
      ],
      "metadata": {
        "colab": {
          "base_uri": "https://localhost:8080/"
        },
        "id": "CGYFS5Q-Kcvq",
        "outputId": "20c20674-24fc-4f7d-cf50-dd3b1d5ec233"
      },
      "execution_count": 109,
      "outputs": [
        {
          "output_type": "stream",
          "name": "stdout",
          "text": [
            "[[14, 55, 60, 77, 82, 109, 117, 135, 145, 167, 193, 206, 207, 212, 222, 233, 239, 240, 274, 303, 317, 331, 334, 344, 378, 427, 434, 477, 496, 503, 517, 525, 532, 545, 552, 568, 675, 681, 701, 704, 740, 789, 842, 851, 853, 869, 872, 885, 909, 968, 971, 994, 997, 1003, 1020, 1034, 1116, 1130, 1136, 1155, 1166, 1168, 1200, 1205, 1231, 1234, 1244, 1245, 1272, 1283, 1284, 1291, 1326, 1353, 1365, 1385, 1397, 1412, 1423, 1451, 1455, 1465, 1493, 1524, 1539, 1546, 1547, 1565, 1588, 1595, 1605, 1613, 1635, 1675, 1683, 1694, 1705, 1754, 1758, 1761, 1766, 1785, 1811, 1817, 1824, 1839, 1858, 1895, 1897, 1930, 1961, 1980, 1991, 2039, 2075, 2082, 2084, 2104, 2109, 2113, 2138, 2142, 2147, 2162, 2169, 2172, 2189, 2256, 2262, 2275, 2281, 2282, 2330, 2352, 2354, 2378, 2427, 2432, 2435, 2516, 2517, 2527, 2562, 2565, 2580, 2585, 2663, 2665, 2671, 2677, 2680, 2698, 2750, 2767, 2846, 2858, 2887, 2916, 2928, 2939, 2954, 2958, 2959, 2969, 2982, 2991, 2994], [1, 3, 4, 6, 9, 17, 19, 23, 25, 26, 27, 37, 41, 48, 64, 66, 67, 69, 70, 71, 75, 78, 79, 87, 90, 92, 97, 99, 104, 118, 125, 127, 128, 129, 130, 134, 136, 137, 141, 142, 143, 144, 147, 149, 152, 165, 170, 173, 174, 176, 177, 180, 184, 189, 198, 204, 205, 211, 218, 225, 227, 235, 236, 237, 238, 243, 249, 253, 258, 259, 261, 264, 266, 268, 269, 273, 275, 281, 283, 288, 290, 294, 300, 304, 305, 308, 314, 319, 321, 322, 332, 333, 346, 350, 358, 369, 372, 375, 382, 383, 389, 393, 394, 397, 398, 402, 407, 414, 415, 416, 417, 421, 423, 424, 428, 432, 435, 436, 437, 438, 442, 445, 449, 451, 452, 459, 460, 463, 468, 474, 481, 486, 489, 495, 499, 510, 513, 522, 523, 531, 536, 540, 543, 546, 549, 551, 553, 555, 561, 565, 566, 567, 572, 575, 576, 577, 578, 584, 585, 588, 592, 597, 600, 603, 608, 610, 615, 616, 621, 623, 624, 628, 635, 636, 638, 642, 645, 649, 650, 653, 654, 655, 657, 658, 664, 670, 672, 674, 678, 684, 690, 691, 697, 706, 710, 714, 715, 719, 722, 731, 737, 738, 744, 748, 749, 753, 757, 758, 760, 761, 767, 768, 769, 780, 782, 786, 790, 794, 802, 804, 806, 809, 819, 823, 824, 828, 831, 834, 835, 838, 839, 841, 844, 846, 847, 855, 860, 865, 866, 868, 870, 880, 887, 891, 892, 894, 895, 896, 897, 911, 914, 919, 920, 922, 924, 925, 926, 927, 928, 929, 933, 936, 938, 939, 946, 947, 954, 955, 957, 960, 963, 966, 967, 978, 996, 998, 1001, 1006, 1011, 1014, 1015, 1017, 1024, 1029, 1036, 1041, 1043, 1046, 1047, 1052, 1053, 1057, 1059, 1060, 1061, 1062, 1063, 1068, 1071, 1072, 1077, 1080, 1081, 1082, 1085, 1092, 1097, 1100, 1101, 1106, 1107, 1119, 1125, 1126, 1132, 1137, 1140, 1145, 1146, 1152, 1156, 1157, 1159, 1163, 1171, 1173, 1174, 1176, 1177, 1178, 1181, 1188, 1189, 1193, 1199, 1210, 1211, 1213, 1218, 1220, 1221, 1227, 1229, 1230, 1235, 1242, 1243, 1248, 1257, 1258, 1259, 1267, 1268, 1270, 1276, 1277, 1279, 1285, 1286, 1289, 1290, 1293, 1294, 1299, 1301, 1303, 1309, 1315, 1316, 1317, 1318, 1319, 1321, 1323, 1327, 1333, 1337, 1338, 1339, 1344, 1346, 1351, 1352, 1355, 1358, 1360, 1361, 1364, 1366, 1367, 1368, 1370, 1372, 1375, 1382, 1383, 1390, 1393, 1394, 1395, 1396, 1402, 1403, 1410, 1413, 1418, 1422, 1424, 1430, 1435, 1436, 1441, 1443, 1447, 1448, 1449, 1450, 1461, 1463, 1468, 1469, 1471, 1476, 1481, 1488, 1490, 1495, 1497, 1503, 1504, 1512, 1515, 1517, 1519, 1521, 1527, 1534, 1535, 1538, 1542, 1548, 1557, 1563, 1564, 1566, 1570, 1571, 1579, 1580, 1590, 1593, 1594, 1598, 1607, 1617, 1630, 1633, 1637, 1639, 1640, 1644, 1657, 1658, 1663, 1673, 1681, 1685, 1686, 1703, 1707, 1709, 1715, 1716, 1721, 1726, 1729, 1740, 1743, 1744, 1745, 1750, 1757, 1768, 1774, 1779, 1780, 1782, 1783, 1787, 1788, 1790, 1791, 1808, 1819, 1821, 1823, 1825, 1828, 1831, 1841, 1848, 1849, 1850, 1856, 1861, 1864, 1870, 1875, 1878, 1879, 1880, 1881, 1887, 1888, 1891, 1893, 1894, 1896, 1898, 1899, 1901, 1905, 1909, 1913, 1919, 1922, 1926, 1937, 1939, 1941, 1942, 1944, 1946, 1947, 1948, 1951, 1953, 1956, 1957, 1959, 1960, 1962, 1963, 1966, 1967, 1970, 1973, 1974, 1978, 1979, 1983, 1984, 1987, 1990, 1995, 2000, 2003, 2012, 2015, 2016, 2017, 2018, 2019, 2021, 2022, 2028, 2030, 2031, 2032, 2036, 2038, 2043, 2044, 2045, 2049, 2055, 2057, 2061, 2065, 2067, 2071, 2073, 2078, 2085, 2090, 2091, 2092, 2094, 2116, 2118, 2119, 2121, 2126, 2127, 2128, 2129, 2133, 2135, 2144, 2145, 2149, 2151, 2152, 2153, 2154, 2156, 2158, 2161, 2163, 2173, 2181, 2182, 2187, 2192, 2196, 2199, 2200, 2204, 2205, 2206, 2211, 2214, 2219, 2221, 2225, 2235, 2238, 2246, 2251, 2253, 2259, 2263, 2264, 2267, 2268, 2269, 2272, 2273, 2278, 2279, 2280, 2284, 2289, 2291, 2292, 2294, 2298, 2304, 2312, 2313, 2315, 2320, 2327, 2333, 2341, 2342, 2344, 2346, 2347, 2356, 2357, 2359, 2360, 2368, 2372, 2374, 2376, 2377, 2381, 2385, 2388, 2390, 2397, 2398, 2400, 2401, 2402, 2407, 2417, 2419, 2424, 2430, 2431, 2439, 2440, 2441, 2448, 2452, 2457, 2463, 2466, 2471, 2472, 2474, 2475, 2476, 2478, 2479, 2485, 2486, 2490, 2494, 2497, 2501, 2502, 2504, 2513, 2515, 2530, 2531, 2532, 2533, 2537, 2543, 2547, 2548, 2551, 2558, 2563, 2570, 2572, 2573, 2576, 2581, 2582, 2589, 2602, 2611, 2618, 2619, 2621, 2631, 2632, 2633, 2635, 2637, 2640, 2641, 2645, 2647, 2650, 2654, 2658, 2659, 2660, 2661, 2664, 2668, 2673, 2675, 2676, 2683, 2684, 2685, 2687, 2690, 2692, 2699, 2701, 2712, 2715, 2719, 2724, 2725, 2731, 2736, 2738, 2744, 2745, 2749, 2751, 2757, 2758, 2762, 2770, 2777, 2782, 2784, 2785, 2791, 2794, 2795, 2802, 2803, 2804, 2806, 2808, 2809, 2811, 2815, 2816, 2818, 2820, 2821, 2823, 2824, 2829, 2830, 2831, 2836, 2837, 2839, 2841, 2843, 2845, 2847, 2852, 2856, 2859, 2862, 2863, 2865, 2866, 2870, 2877, 2886, 2888, 2892, 2893, 2895, 2903, 2908, 2911, 2919, 2923, 2934, 2937, 2938, 2952, 2963, 2970, 2974, 2986, 2987], [2, 7, 8, 10, 18, 21, 28, 30, 33, 34, 35, 42, 44, 46, 49, 57, 61, 63, 65, 68, 74, 76, 80, 83, 88, 96, 100, 103, 105, 106, 108, 110, 111, 112, 116, 119, 120, 121, 122, 123, 124, 126, 140, 146, 153, 157, 158, 159, 160, 162, 163, 178, 182, 190, 191, 195, 200, 203, 208, 210, 214, 215, 216, 219, 221, 223, 228, 229, 234, 241, 244, 248, 251, 254, 263, 267, 270, 271, 277, 278, 279, 291, 295, 298, 299, 301, 302, 309, 313, 315, 320, 325, 326, 329, 339, 340, 341, 345, 348, 351, 353, 354, 355, 356, 360, 362, 367, 368, 370, 373, 379, 380, 381, 387, 390, 399, 405, 409, 412, 413, 420, 425, 429, 430, 441, 448, 450, 456, 458, 461, 469, 470, 472, 473, 475, 480, 482, 484, 488, 492, 494, 501, 505, 506, 507, 515, 520, 526, 527, 530, 534, 535, 538, 539, 541, 542, 547, 558, 564, 571, 579, 580, 581, 582, 587, 589, 590, 607, 609, 611, 614, 618, 625, 626, 629, 631, 633, 637, 641, 648, 651, 652, 660, 661, 666, 667, 669, 671, 677, 679, 682, 686, 696, 703, 705, 725, 727, 729, 739, 743, 747, 752, 756, 773, 777, 779, 784, 793, 795, 798, 800, 805, 808, 810, 814, 816, 817, 818, 821, 836, 837, 840, 845, 850, 876, 877, 879, 881, 882, 889, 890, 901, 905, 907, 908, 910, 918, 930, 931, 935, 937, 941, 943, 944, 949, 952, 953, 956, 959, 964, 965, 970, 973, 984, 985, 989, 991, 993, 995, 999, 1000, 1002, 1007, 1009, 1019, 1021, 1022, 1027, 1028, 1032, 1033, 1037, 1038, 1039, 1040, 1042, 1050, 1054, 1064, 1065, 1067, 1070, 1073, 1076, 1079, 1083, 1087, 1089, 1091, 1094, 1095, 1096, 1099, 1105, 1108, 1109, 1111, 1113, 1114, 1115, 1120, 1122, 1123, 1127, 1133, 1139, 1141, 1150, 1151, 1158, 1160, 1161, 1162, 1164, 1170, 1180, 1182, 1183, 1184, 1187, 1190, 1191, 1192, 1194, 1197, 1209, 1212, 1215, 1222, 1224, 1228, 1236, 1239, 1246, 1247, 1249, 1250, 1255, 1256, 1263, 1269, 1271, 1280, 1282, 1287, 1296, 1298, 1302, 1304, 1307, 1308, 1312, 1320, 1322, 1324, 1328, 1329, 1330, 1334, 1336, 1345, 1348, 1349, 1359, 1363, 1373, 1374, 1376, 1387, 1388, 1398, 1400, 1401, 1407, 1408, 1409, 1411, 1415, 1426, 1429, 1431, 1433, 1439, 1454, 1456, 1457, 1462, 1464, 1466, 1473, 1475, 1478, 1483, 1485, 1486, 1489, 1491, 1494, 1496, 1499, 1501, 1502, 1505, 1509, 1514, 1516, 1518, 1522, 1526, 1529, 1533, 1540, 1541, 1543, 1544, 1550, 1556, 1558, 1559, 1567, 1572, 1575, 1578, 1582, 1583, 1596, 1597, 1600, 1609, 1610, 1614, 1616, 1619, 1622, 1624, 1625, 1628, 1636, 1645, 1646, 1648, 1649, 1652, 1653, 1655, 1659, 1661, 1664, 1666, 1668, 1669, 1670, 1676, 1678, 1679, 1680, 1682, 1684, 1688, 1689, 1690, 1691, 1696, 1697, 1698, 1699, 1701, 1704, 1706, 1711, 1712, 1713, 1714, 1718, 1720, 1727, 1728, 1732, 1736, 1739, 1741, 1742, 1748, 1749, 1752, 1756, 1759, 1763, 1765, 1770, 1771, 1778, 1781, 1784, 1786, 1789, 1792, 1793, 1795, 1799, 1802, 1804, 1806, 1807, 1812, 1813, 1816, 1818, 1820, 1822, 1832, 1834, 1835, 1838, 1840, 1844, 1845, 1847, 1854, 1859, 1860, 1862, 1867, 1871, 1874, 1876, 1877, 1883, 1902, 1903, 1904, 1907, 1910, 1923, 1924, 1927, 1928, 1932, 1938, 1943, 1952, 1954, 1955, 1958, 1968, 1971, 1975, 1976, 1981, 1988, 1993, 1996, 1997, 1998, 2001, 2002, 2004, 2008, 2009, 2011, 2014, 2020, 2025, 2026, 2029, 2033, 2034, 2035, 2037, 2047, 2048, 2051, 2053, 2056, 2059, 2060, 2062, 2064, 2069, 2070, 2076, 2079, 2080, 2083, 2087, 2093, 2096, 2097, 2102, 2105, 2108, 2114, 2124, 2131, 2132, 2140, 2141, 2143, 2146, 2155, 2157, 2160, 2166, 2167, 2168, 2178, 2183, 2186, 2188, 2197, 2198, 2202, 2212, 2213, 2215, 2216, 2217, 2223, 2226, 2228, 2233, 2242, 2243, 2245, 2248, 2250, 2255, 2257, 2258, 2271, 2274, 2276, 2283, 2285, 2290, 2296, 2297, 2299, 2300, 2301, 2302, 2303, 2310, 2316, 2321, 2328, 2335, 2336, 2337, 2338, 2343, 2348, 2349, 2351, 2361, 2362, 2363, 2364, 2365, 2370, 2373, 2392, 2399, 2403, 2404, 2405, 2406, 2408, 2412, 2413, 2414, 2418, 2437, 2438, 2442, 2443, 2444, 2447, 2449, 2451, 2454, 2464, 2467, 2470, 2473, 2477, 2482, 2484, 2488, 2491, 2493, 2503, 2507, 2511, 2512, 2521, 2524, 2526, 2539, 2540, 2541, 2561, 2567, 2569, 2574, 2575, 2583, 2597, 2599, 2601, 2603, 2608, 2609, 2615, 2616, 2617, 2622, 2629, 2638, 2648, 2651, 2656, 2657, 2662, 2672, 2682, 2688, 2689, 2691, 2693, 2695, 2697, 2700, 2702, 2704, 2705, 2707, 2708, 2709, 2710, 2716, 2717, 2720, 2728, 2734, 2739, 2742, 2743, 2747, 2752, 2753, 2755, 2756, 2759, 2760, 2761, 2763, 2768, 2771, 2772, 2773, 2775, 2778, 2780, 2783, 2786, 2788, 2792, 2793, 2798, 2805, 2813, 2817, 2822, 2825, 2826, 2835, 2838, 2848, 2851, 2854, 2860, 2861, 2864, 2867, 2868, 2871, 2872, 2873, 2874, 2875, 2878, 2880, 2881, 2882, 2890, 2894, 2898, 2899, 2900, 2901, 2902, 2905, 2912, 2913, 2914, 2915, 2917, 2918, 2924, 2930, 2932, 2933, 2944, 2947, 2948, 2956, 2957, 2960, 2962, 2964, 2966, 2967, 2971, 2972, 2975, 2981, 2983, 2985, 2988, 2990, 2992, 2993, 2995, 2996, 2998], [0, 5, 11, 12, 13, 15, 16, 20, 22, 24, 29, 31, 32, 36, 38, 39, 40, 43, 45, 47, 50, 51, 52, 53, 54, 56, 58, 59, 62, 72, 73, 81, 84, 85, 86, 89, 91, 93, 94, 95, 98, 101, 102, 107, 113, 114, 115, 131, 132, 133, 138, 139, 148, 150, 151, 154, 155, 156, 161, 164, 166, 168, 169, 171, 172, 175, 179, 181, 183, 185, 186, 187, 188, 192, 194, 196, 197, 199, 201, 202, 209, 213, 217, 220, 224, 226, 230, 231, 232, 242, 245, 246, 247, 250, 252, 255, 256, 257, 260, 262, 265, 272, 276, 280, 282, 284, 285, 286, 287, 289, 292, 293, 296, 297, 306, 307, 310, 311, 312, 316, 318, 323, 324, 327, 328, 330, 335, 336, 337, 338, 342, 343, 347, 349, 352, 357, 359, 361, 363, 364, 365, 366, 371, 374, 376, 377, 384, 385, 386, 388, 391, 392, 395, 396, 400, 401, 403, 404, 406, 408, 410, 411, 418, 419, 422, 426, 431, 433, 439, 440, 443, 444, 446, 447, 453, 454, 455, 457, 462, 464, 465, 466, 467, 471, 476, 478, 479, 483, 485, 487, 490, 491, 493, 497, 498, 500, 502, 504, 508, 509, 511, 512, 514, 516, 518, 519, 521, 524, 528, 529, 533, 537, 544, 548, 550, 554, 556, 557, 559, 560, 562, 563, 569, 570, 573, 574, 583, 586, 591, 593, 594, 595, 596, 598, 599, 601, 602, 604, 605, 606, 612, 613, 617, 619, 620, 622, 627, 630, 632, 634, 639, 640, 643, 644, 646, 647, 656, 659, 662, 663, 665, 668, 673, 676, 680, 683, 685, 687, 688, 689, 692, 693, 694, 695, 698, 699, 700, 702, 707, 708, 709, 711, 712, 713, 716, 717, 718, 720, 721, 723, 724, 726, 728, 730, 732, 733, 734, 735, 736, 741, 742, 745, 746, 750, 751, 754, 755, 759, 762, 763, 764, 765, 766, 770, 771, 772, 774, 775, 776, 778, 781, 783, 785, 787, 788, 791, 792, 796, 797, 799, 801, 803, 807, 811, 812, 813, 815, 820, 822, 825, 826, 827, 829, 830, 832, 833, 843, 848, 849, 852, 854, 856, 857, 858, 859, 861, 862, 863, 864, 867, 871, 873, 874, 875, 878, 883, 884, 886, 888, 893, 898, 899, 900, 902, 903, 904, 906, 912, 913, 915, 916, 917, 921, 923, 932, 934, 940, 942, 945, 948, 950, 951, 958, 961, 962, 969, 972, 974, 975, 976, 977, 979, 980, 981, 982, 983, 986, 987, 988, 990, 992, 1004, 1005, 1008, 1010, 1012, 1013, 1016, 1018, 1023, 1025, 1026, 1030, 1031, 1035, 1044, 1045, 1048, 1049, 1051, 1055, 1056, 1058, 1066, 1069, 1074, 1075, 1078, 1084, 1086, 1088, 1090, 1093, 1098, 1102, 1103, 1104, 1110, 1112, 1117, 1118, 1121, 1124, 1128, 1129, 1131, 1134, 1135, 1138, 1142, 1143, 1144, 1147, 1148, 1149, 1153, 1154, 1165, 1167, 1169, 1172, 1175, 1179, 1185, 1186, 1195, 1196, 1198, 1201, 1202, 1203, 1204, 1206, 1207, 1208, 1214, 1216, 1217, 1219, 1223, 1225, 1226, 1232, 1233, 1237, 1238, 1240, 1241, 1251, 1252, 1253, 1254, 1260, 1261, 1262, 1264, 1265, 1266, 1273, 1274, 1275, 1278, 1281, 1288, 1292, 1295, 1297, 1300, 1305, 1306, 1310, 1311, 1313, 1314, 1325, 1331, 1332, 1335, 1340, 1341, 1342, 1343, 1347, 1350, 1354, 1356, 1357, 1362, 1369, 1371, 1377, 1378, 1379, 1380, 1381, 1384, 1386, 1389, 1391, 1392, 1399, 1404, 1405, 1406, 1414, 1416, 1417, 1419, 1420, 1421, 1425, 1427, 1428, 1432, 1434, 1437, 1438, 1440, 1442, 1444, 1445, 1446, 1452, 1453, 1458, 1459, 1460, 1467, 1470, 1472, 1474, 1477, 1479, 1480, 1482, 1484, 1487, 1492, 1498, 1500, 1506, 1507, 1508, 1510, 1511, 1513, 1520, 1523, 1525, 1528, 1530, 1531, 1532, 1536, 1537, 1545, 1549, 1551, 1552, 1553, 1554, 1555, 1560, 1561, 1562, 1568, 1569, 1573, 1574, 1576, 1577, 1581, 1584, 1585, 1586, 1587, 1589, 1591, 1592, 1599, 1601, 1602, 1603, 1604, 1606, 1608, 1611, 1612, 1615, 1618, 1620, 1621, 1623, 1626, 1627, 1629, 1631, 1632, 1634, 1638, 1641, 1642, 1643, 1647, 1650, 1651, 1654, 1656, 1660, 1662, 1665, 1667, 1671, 1672, 1674, 1677, 1687, 1692, 1693, 1695, 1700, 1702, 1708, 1710, 1717, 1719, 1722, 1723, 1724, 1725, 1730, 1731, 1733, 1734, 1735, 1737, 1738, 1746, 1747, 1751, 1753, 1755, 1760, 1762, 1764, 1767, 1769, 1772, 1773, 1775, 1776, 1777, 1794, 1796, 1797, 1798, 1800, 1801, 1803, 1805, 1809, 1810, 1814, 1815, 1826, 1827, 1829, 1830, 1833, 1836, 1837, 1842, 1843, 1846, 1851, 1852, 1853, 1855, 1857, 1863, 1865, 1866, 1868, 1869, 1872, 1873, 1882, 1884, 1885, 1886, 1889, 1890, 1892, 1900, 1906, 1908, 1911, 1912, 1914, 1915, 1916, 1917, 1918, 1920, 1921, 1925, 1929, 1931, 1933, 1934, 1935, 1936, 1940, 1945, 1949, 1950, 1964, 1965, 1969, 1972, 1977, 1982, 1985, 1986, 1989, 1992, 1994, 1999, 2005, 2006, 2007, 2010, 2013, 2023, 2024, 2027, 2040, 2041, 2042, 2046, 2050, 2052, 2054, 2058, 2063, 2066, 2068, 2072, 2074, 2077, 2081, 2086, 2088, 2089, 2095, 2098, 2099, 2100, 2101, 2103, 2106, 2107, 2110, 2111, 2112, 2115, 2117, 2120, 2122, 2123, 2125, 2130, 2134, 2136, 2137, 2139, 2148, 2150, 2159, 2164, 2165, 2170, 2171, 2174, 2175, 2176, 2177, 2179, 2180, 2184, 2185, 2190, 2191, 2193, 2194, 2195, 2201, 2203, 2207, 2208, 2209, 2210, 2218, 2220, 2222, 2224, 2227, 2229, 2230, 2231, 2232, 2234, 2236, 2237, 2239, 2240, 2241, 2244, 2247, 2249, 2252, 2254, 2260, 2261, 2265, 2266, 2270, 2277, 2286, 2287, 2288, 2293, 2295, 2305, 2306, 2307, 2308, 2309, 2311, 2314, 2317, 2318, 2319, 2322, 2323, 2324, 2325, 2326, 2329, 2331, 2332, 2334, 2339, 2340, 2345, 2350, 2353, 2355, 2358, 2366, 2367, 2369, 2371, 2375, 2379, 2380, 2382, 2383, 2384, 2386, 2387, 2389, 2391, 2393, 2394, 2395, 2396, 2409, 2410, 2411, 2415, 2416, 2420, 2421, 2422, 2423, 2425, 2426, 2428, 2429, 2433, 2434, 2436, 2445, 2446, 2450, 2453, 2455, 2456, 2458, 2459, 2460, 2461, 2462, 2465, 2468, 2469, 2480, 2481, 2483, 2487, 2489, 2492, 2495, 2496, 2498, 2499, 2500, 2505, 2506, 2508, 2509, 2510, 2514, 2518, 2519, 2520, 2522, 2523, 2525, 2528, 2529, 2534, 2535, 2536, 2538, 2542, 2544, 2545, 2546, 2549, 2550, 2552, 2553, 2554, 2555, 2556, 2557, 2559, 2560, 2564, 2566, 2568, 2571, 2577, 2578, 2579, 2584, 2586, 2587, 2588, 2590, 2591, 2592, 2593, 2594, 2595, 2596, 2598, 2600, 2604, 2605, 2606, 2607, 2610, 2612, 2613, 2614, 2620, 2623, 2624, 2625, 2626, 2627, 2628, 2630, 2634, 2636, 2639, 2642, 2643, 2644, 2646, 2649, 2652, 2653, 2655, 2666, 2667, 2669, 2670, 2674, 2678, 2679, 2681, 2686, 2694, 2696, 2703, 2706, 2711, 2713, 2714, 2718, 2721, 2722, 2723, 2726, 2727, 2729, 2730, 2732, 2733, 2735, 2737, 2740, 2741, 2746, 2748, 2754, 2764, 2765, 2766, 2769, 2774, 2776, 2779, 2781, 2787, 2789, 2790, 2796, 2797, 2799, 2800, 2801, 2807, 2810, 2812, 2814, 2819, 2827, 2828, 2832, 2833, 2834, 2840, 2842, 2844, 2849, 2850, 2853, 2855, 2857, 2869, 2876, 2879, 2883, 2884, 2885, 2889, 2891, 2896, 2897, 2904, 2906, 2907, 2909, 2910, 2920, 2921, 2922, 2925, 2926, 2927, 2929, 2931, 2935, 2936, 2940, 2941, 2942, 2943, 2945, 2946, 2949, 2950, 2951, 2953, 2955, 2961, 2965, 2968, 2973, 2976, 2977, 2978, 2979, 2980, 2984, 2989, 2997, 2999]]\n"
          ]
        }
      ]
    },
    {
      "cell_type": "markdown",
      "source": [
        "## Mapping the clusters"
      ],
      "metadata": {
        "id": "daqsfNUPNlpB"
      }
    },
    {
      "cell_type": "code",
      "source": [
        "# Computing the Jaccard similarity matrix\n",
        "similarity_matrix = np.zeros((best_k, best_k))\n",
        "for i in range(best_k):\n",
        "    for j in range(best_k):\n",
        "        clusterA = best_k_clusters[i]\n",
        "        clusterB = div_clusters[j]\n",
        "\n",
        "        similarity_matrix[i][j] = jaccard_similarity(clusterA, clusterB)\n",
        "\n",
        "print('Similarity matrix:')\n",
        "print(similarity_matrix)"
      ],
      "metadata": {
        "colab": {
          "base_uri": "https://localhost:8080/"
        },
        "id": "w7nK4HXJNmJd",
        "outputId": "16451625-5cfa-46a2-ac28-7110ba2a5248"
      },
      "execution_count": 110,
      "outputs": [
        {
          "output_type": "stream",
          "name": "stdout",
          "text": [
            "Similarity matrix:\n",
            "[[0.48502994 0.         0.         0.        ]\n",
            " [0.         0.         0.22111056 0.72461059]\n",
            " [0.20427553 0.27608696 0.         0.        ]\n",
            " [0.         0.4723127  0.27824859 0.        ]]\n"
          ]
        }
      ]
    },
    {
      "cell_type": "code",
      "source": [
        "# Now we map the div_clusters to the best_k_clusters\n",
        "mapped_clusters = []\n",
        "\n",
        "for i in range(best_k):\n",
        "    max_similarity = 0\n",
        "    max_j = -1\n",
        "    for j in range(best_k):\n",
        "        if similarity_matrix[i][j] > max_similarity and j not in mapped_clusters:\n",
        "            max_similarity = similarity_matrix[i][j]\n",
        "            max_j = j\n",
        "    mapped_clusters.append(max_j)\n",
        "\n",
        "\n",
        "# Print the mapping and the jaccard similarity score for each cluster\n",
        "for i in range(best_k):\n",
        "    print(f'Cluster {i} in k-means clustering maps to cluster {mapped_clusters[i]} in divisive clustering with a Jaccard similarity score of {similarity_matrix[i][mapped_clusters[i]]}')\n"
      ],
      "metadata": {
        "colab": {
          "base_uri": "https://localhost:8080/"
        },
        "id": "GP5n9PDkAE_S",
        "outputId": "01cb478d-51d1-4f36-ffb6-038cf6223a6f"
      },
      "execution_count": 112,
      "outputs": [
        {
          "output_type": "stream",
          "name": "stdout",
          "text": [
            "Cluster 0 in k-means clustering maps to cluster 0 in divisive clustering with a Jaccard similarity score of 0.48502994011976047\n",
            "Cluster 1 in k-means clustering maps to cluster 3 in divisive clustering with a Jaccard similarity score of 0.7246105919003115\n",
            "Cluster 2 in k-means clustering maps to cluster 1 in divisive clustering with a Jaccard similarity score of 0.27608695652173915\n",
            "Cluster 3 in k-means clustering maps to cluster 2 in divisive clustering with a Jaccard similarity score of 0.2782485875706215\n"
          ]
        }
      ]
    }
  ],
  "metadata": {
    "kernelspec": {
      "display_name": "Python 3",
      "language": "python",
      "name": "python3"
    },
    "language_info": {
      "codemirror_mode": {
        "name": "ipython",
        "version": 3
      },
      "file_extension": ".py",
      "mimetype": "text/x-python",
      "name": "python",
      "nbconvert_exporter": "python",
      "pygments_lexer": "ipython3",
      "version": "3.10.5"
    },
    "colab": {
      "provenance": []
    }
  },
  "nbformat": 4,
  "nbformat_minor": 0
}