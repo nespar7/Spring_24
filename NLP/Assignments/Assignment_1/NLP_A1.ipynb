{
  "nbformat": 4,
  "nbformat_minor": 0,
  "metadata": {
    "colab": {
      "provenance": [],
      "authorship_tag": "ABX9TyMzO1hZ/PqLT4ddn47b2DHZ",
      "include_colab_link": true
    },
    "kernelspec": {
      "name": "python3",
      "display_name": "Python 3"
    },
    "language_info": {
      "name": "python"
    },
    "widgets": {
      "application/vnd.jupyter.widget-state+json": {
        "5dbac99a01c9493589c479cc096fb09f": {
          "model_module": "@jupyter-widgets/controls",
          "model_name": "HBoxModel",
          "model_module_version": "1.5.0",
          "state": {
            "_dom_classes": [],
            "_model_module": "@jupyter-widgets/controls",
            "_model_module_version": "1.5.0",
            "_model_name": "HBoxModel",
            "_view_count": null,
            "_view_module": "@jupyter-widgets/controls",
            "_view_module_version": "1.5.0",
            "_view_name": "HBoxView",
            "box_style": "",
            "children": [
              "IPY_MODEL_9f17027084dc405ab5d054950cc19400",
              "IPY_MODEL_37e2611979b046b6841c13e8e29681a2",
              "IPY_MODEL_b2e20c6828ff475da5d8b69c0249ecf3"
            ],
            "layout": "IPY_MODEL_0fed1c06a24e4d8c9cec7a41b58447d7"
          }
        },
        "9f17027084dc405ab5d054950cc19400": {
          "model_module": "@jupyter-widgets/controls",
          "model_name": "HTMLModel",
          "model_module_version": "1.5.0",
          "state": {
            "_dom_classes": [],
            "_model_module": "@jupyter-widgets/controls",
            "_model_module_version": "1.5.0",
            "_model_name": "HTMLModel",
            "_view_count": null,
            "_view_module": "@jupyter-widgets/controls",
            "_view_module_version": "1.5.0",
            "_view_name": "HTMLView",
            "description": "",
            "description_tooltip": null,
            "layout": "IPY_MODEL_ce12a32bcb484640a29ee42300413768",
            "placeholder": "​",
            "style": "IPY_MODEL_181d75d10f2843eebe74c4f033c123d1",
            "value": "tokenizer_config.json: 100%"
          }
        },
        "37e2611979b046b6841c13e8e29681a2": {
          "model_module": "@jupyter-widgets/controls",
          "model_name": "FloatProgressModel",
          "model_module_version": "1.5.0",
          "state": {
            "_dom_classes": [],
            "_model_module": "@jupyter-widgets/controls",
            "_model_module_version": "1.5.0",
            "_model_name": "FloatProgressModel",
            "_view_count": null,
            "_view_module": "@jupyter-widgets/controls",
            "_view_module_version": "1.5.0",
            "_view_name": "ProgressView",
            "bar_style": "success",
            "description": "",
            "description_tooltip": null,
            "layout": "IPY_MODEL_ea68dc33ab994f559b2449ae148a340e",
            "max": 29,
            "min": 0,
            "orientation": "horizontal",
            "style": "IPY_MODEL_e4d10c31f7c1452e8ae40819c7c1b923",
            "value": 29
          }
        },
        "b2e20c6828ff475da5d8b69c0249ecf3": {
          "model_module": "@jupyter-widgets/controls",
          "model_name": "HTMLModel",
          "model_module_version": "1.5.0",
          "state": {
            "_dom_classes": [],
            "_model_module": "@jupyter-widgets/controls",
            "_model_module_version": "1.5.0",
            "_model_name": "HTMLModel",
            "_view_count": null,
            "_view_module": "@jupyter-widgets/controls",
            "_view_module_version": "1.5.0",
            "_view_name": "HTMLView",
            "description": "",
            "description_tooltip": null,
            "layout": "IPY_MODEL_452582d90f2044598154b86a63623d88",
            "placeholder": "​",
            "style": "IPY_MODEL_2f9ceb73a9044406becb23f408d1c2ec",
            "value": " 29.0/29.0 [00:00&lt;00:00, 1.44kB/s]"
          }
        },
        "0fed1c06a24e4d8c9cec7a41b58447d7": {
          "model_module": "@jupyter-widgets/base",
          "model_name": "LayoutModel",
          "model_module_version": "1.2.0",
          "state": {
            "_model_module": "@jupyter-widgets/base",
            "_model_module_version": "1.2.0",
            "_model_name": "LayoutModel",
            "_view_count": null,
            "_view_module": "@jupyter-widgets/base",
            "_view_module_version": "1.2.0",
            "_view_name": "LayoutView",
            "align_content": null,
            "align_items": null,
            "align_self": null,
            "border": null,
            "bottom": null,
            "display": null,
            "flex": null,
            "flex_flow": null,
            "grid_area": null,
            "grid_auto_columns": null,
            "grid_auto_flow": null,
            "grid_auto_rows": null,
            "grid_column": null,
            "grid_gap": null,
            "grid_row": null,
            "grid_template_areas": null,
            "grid_template_columns": null,
            "grid_template_rows": null,
            "height": null,
            "justify_content": null,
            "justify_items": null,
            "left": null,
            "margin": null,
            "max_height": null,
            "max_width": null,
            "min_height": null,
            "min_width": null,
            "object_fit": null,
            "object_position": null,
            "order": null,
            "overflow": null,
            "overflow_x": null,
            "overflow_y": null,
            "padding": null,
            "right": null,
            "top": null,
            "visibility": null,
            "width": null
          }
        },
        "ce12a32bcb484640a29ee42300413768": {
          "model_module": "@jupyter-widgets/base",
          "model_name": "LayoutModel",
          "model_module_version": "1.2.0",
          "state": {
            "_model_module": "@jupyter-widgets/base",
            "_model_module_version": "1.2.0",
            "_model_name": "LayoutModel",
            "_view_count": null,
            "_view_module": "@jupyter-widgets/base",
            "_view_module_version": "1.2.0",
            "_view_name": "LayoutView",
            "align_content": null,
            "align_items": null,
            "align_self": null,
            "border": null,
            "bottom": null,
            "display": null,
            "flex": null,
            "flex_flow": null,
            "grid_area": null,
            "grid_auto_columns": null,
            "grid_auto_flow": null,
            "grid_auto_rows": null,
            "grid_column": null,
            "grid_gap": null,
            "grid_row": null,
            "grid_template_areas": null,
            "grid_template_columns": null,
            "grid_template_rows": null,
            "height": null,
            "justify_content": null,
            "justify_items": null,
            "left": null,
            "margin": null,
            "max_height": null,
            "max_width": null,
            "min_height": null,
            "min_width": null,
            "object_fit": null,
            "object_position": null,
            "order": null,
            "overflow": null,
            "overflow_x": null,
            "overflow_y": null,
            "padding": null,
            "right": null,
            "top": null,
            "visibility": null,
            "width": null
          }
        },
        "181d75d10f2843eebe74c4f033c123d1": {
          "model_module": "@jupyter-widgets/controls",
          "model_name": "DescriptionStyleModel",
          "model_module_version": "1.5.0",
          "state": {
            "_model_module": "@jupyter-widgets/controls",
            "_model_module_version": "1.5.0",
            "_model_name": "DescriptionStyleModel",
            "_view_count": null,
            "_view_module": "@jupyter-widgets/base",
            "_view_module_version": "1.2.0",
            "_view_name": "StyleView",
            "description_width": ""
          }
        },
        "ea68dc33ab994f559b2449ae148a340e": {
          "model_module": "@jupyter-widgets/base",
          "model_name": "LayoutModel",
          "model_module_version": "1.2.0",
          "state": {
            "_model_module": "@jupyter-widgets/base",
            "_model_module_version": "1.2.0",
            "_model_name": "LayoutModel",
            "_view_count": null,
            "_view_module": "@jupyter-widgets/base",
            "_view_module_version": "1.2.0",
            "_view_name": "LayoutView",
            "align_content": null,
            "align_items": null,
            "align_self": null,
            "border": null,
            "bottom": null,
            "display": null,
            "flex": null,
            "flex_flow": null,
            "grid_area": null,
            "grid_auto_columns": null,
            "grid_auto_flow": null,
            "grid_auto_rows": null,
            "grid_column": null,
            "grid_gap": null,
            "grid_row": null,
            "grid_template_areas": null,
            "grid_template_columns": null,
            "grid_template_rows": null,
            "height": null,
            "justify_content": null,
            "justify_items": null,
            "left": null,
            "margin": null,
            "max_height": null,
            "max_width": null,
            "min_height": null,
            "min_width": null,
            "object_fit": null,
            "object_position": null,
            "order": null,
            "overflow": null,
            "overflow_x": null,
            "overflow_y": null,
            "padding": null,
            "right": null,
            "top": null,
            "visibility": null,
            "width": null
          }
        },
        "e4d10c31f7c1452e8ae40819c7c1b923": {
          "model_module": "@jupyter-widgets/controls",
          "model_name": "ProgressStyleModel",
          "model_module_version": "1.5.0",
          "state": {
            "_model_module": "@jupyter-widgets/controls",
            "_model_module_version": "1.5.0",
            "_model_name": "ProgressStyleModel",
            "_view_count": null,
            "_view_module": "@jupyter-widgets/base",
            "_view_module_version": "1.2.0",
            "_view_name": "StyleView",
            "bar_color": null,
            "description_width": ""
          }
        },
        "452582d90f2044598154b86a63623d88": {
          "model_module": "@jupyter-widgets/base",
          "model_name": "LayoutModel",
          "model_module_version": "1.2.0",
          "state": {
            "_model_module": "@jupyter-widgets/base",
            "_model_module_version": "1.2.0",
            "_model_name": "LayoutModel",
            "_view_count": null,
            "_view_module": "@jupyter-widgets/base",
            "_view_module_version": "1.2.0",
            "_view_name": "LayoutView",
            "align_content": null,
            "align_items": null,
            "align_self": null,
            "border": null,
            "bottom": null,
            "display": null,
            "flex": null,
            "flex_flow": null,
            "grid_area": null,
            "grid_auto_columns": null,
            "grid_auto_flow": null,
            "grid_auto_rows": null,
            "grid_column": null,
            "grid_gap": null,
            "grid_row": null,
            "grid_template_areas": null,
            "grid_template_columns": null,
            "grid_template_rows": null,
            "height": null,
            "justify_content": null,
            "justify_items": null,
            "left": null,
            "margin": null,
            "max_height": null,
            "max_width": null,
            "min_height": null,
            "min_width": null,
            "object_fit": null,
            "object_position": null,
            "order": null,
            "overflow": null,
            "overflow_x": null,
            "overflow_y": null,
            "padding": null,
            "right": null,
            "top": null,
            "visibility": null,
            "width": null
          }
        },
        "2f9ceb73a9044406becb23f408d1c2ec": {
          "model_module": "@jupyter-widgets/controls",
          "model_name": "DescriptionStyleModel",
          "model_module_version": "1.5.0",
          "state": {
            "_model_module": "@jupyter-widgets/controls",
            "_model_module_version": "1.5.0",
            "_model_name": "DescriptionStyleModel",
            "_view_count": null,
            "_view_module": "@jupyter-widgets/base",
            "_view_module_version": "1.2.0",
            "_view_name": "StyleView",
            "description_width": ""
          }
        },
        "8feff59e7ae8494494e249068ae45bf4": {
          "model_module": "@jupyter-widgets/controls",
          "model_name": "HBoxModel",
          "model_module_version": "1.5.0",
          "state": {
            "_dom_classes": [],
            "_model_module": "@jupyter-widgets/controls",
            "_model_module_version": "1.5.0",
            "_model_name": "HBoxModel",
            "_view_count": null,
            "_view_module": "@jupyter-widgets/controls",
            "_view_module_version": "1.5.0",
            "_view_name": "HBoxView",
            "box_style": "",
            "children": [
              "IPY_MODEL_fddc64fe3b9149c9bac50866d9f2a287",
              "IPY_MODEL_ebfe4c4f28bc4feda59958baaf7b78d7",
              "IPY_MODEL_f09553e8990d4d63b6252eaa8af12176"
            ],
            "layout": "IPY_MODEL_b79e49008f3b44f3a22105b1f1b7f1e8"
          }
        },
        "fddc64fe3b9149c9bac50866d9f2a287": {
          "model_module": "@jupyter-widgets/controls",
          "model_name": "HTMLModel",
          "model_module_version": "1.5.0",
          "state": {
            "_dom_classes": [],
            "_model_module": "@jupyter-widgets/controls",
            "_model_module_version": "1.5.0",
            "_model_name": "HTMLModel",
            "_view_count": null,
            "_view_module": "@jupyter-widgets/controls",
            "_view_module_version": "1.5.0",
            "_view_name": "HTMLView",
            "description": "",
            "description_tooltip": null,
            "layout": "IPY_MODEL_a0bcba57b35e4e33b47de2240704fad9",
            "placeholder": "​",
            "style": "IPY_MODEL_860162a989bd4818acfc8d3eebfcedd0",
            "value": "config.json: 100%"
          }
        },
        "ebfe4c4f28bc4feda59958baaf7b78d7": {
          "model_module": "@jupyter-widgets/controls",
          "model_name": "FloatProgressModel",
          "model_module_version": "1.5.0",
          "state": {
            "_dom_classes": [],
            "_model_module": "@jupyter-widgets/controls",
            "_model_module_version": "1.5.0",
            "_model_name": "FloatProgressModel",
            "_view_count": null,
            "_view_module": "@jupyter-widgets/controls",
            "_view_module_version": "1.5.0",
            "_view_name": "ProgressView",
            "bar_style": "success",
            "description": "",
            "description_tooltip": null,
            "layout": "IPY_MODEL_a344a26d1c7a4bec9ee308d1faf91eaa",
            "max": 570,
            "min": 0,
            "orientation": "horizontal",
            "style": "IPY_MODEL_027567e419ac4532814308ddd0824960",
            "value": 570
          }
        },
        "f09553e8990d4d63b6252eaa8af12176": {
          "model_module": "@jupyter-widgets/controls",
          "model_name": "HTMLModel",
          "model_module_version": "1.5.0",
          "state": {
            "_dom_classes": [],
            "_model_module": "@jupyter-widgets/controls",
            "_model_module_version": "1.5.0",
            "_model_name": "HTMLModel",
            "_view_count": null,
            "_view_module": "@jupyter-widgets/controls",
            "_view_module_version": "1.5.0",
            "_view_name": "HTMLView",
            "description": "",
            "description_tooltip": null,
            "layout": "IPY_MODEL_fcbb3317f73b4954a79198e25b43f520",
            "placeholder": "​",
            "style": "IPY_MODEL_398113a0a18f46639af8144c488ae8a7",
            "value": " 570/570 [00:00&lt;00:00, 14.8kB/s]"
          }
        },
        "b79e49008f3b44f3a22105b1f1b7f1e8": {
          "model_module": "@jupyter-widgets/base",
          "model_name": "LayoutModel",
          "model_module_version": "1.2.0",
          "state": {
            "_model_module": "@jupyter-widgets/base",
            "_model_module_version": "1.2.0",
            "_model_name": "LayoutModel",
            "_view_count": null,
            "_view_module": "@jupyter-widgets/base",
            "_view_module_version": "1.2.0",
            "_view_name": "LayoutView",
            "align_content": null,
            "align_items": null,
            "align_self": null,
            "border": null,
            "bottom": null,
            "display": null,
            "flex": null,
            "flex_flow": null,
            "grid_area": null,
            "grid_auto_columns": null,
            "grid_auto_flow": null,
            "grid_auto_rows": null,
            "grid_column": null,
            "grid_gap": null,
            "grid_row": null,
            "grid_template_areas": null,
            "grid_template_columns": null,
            "grid_template_rows": null,
            "height": null,
            "justify_content": null,
            "justify_items": null,
            "left": null,
            "margin": null,
            "max_height": null,
            "max_width": null,
            "min_height": null,
            "min_width": null,
            "object_fit": null,
            "object_position": null,
            "order": null,
            "overflow": null,
            "overflow_x": null,
            "overflow_y": null,
            "padding": null,
            "right": null,
            "top": null,
            "visibility": null,
            "width": null
          }
        },
        "a0bcba57b35e4e33b47de2240704fad9": {
          "model_module": "@jupyter-widgets/base",
          "model_name": "LayoutModel",
          "model_module_version": "1.2.0",
          "state": {
            "_model_module": "@jupyter-widgets/base",
            "_model_module_version": "1.2.0",
            "_model_name": "LayoutModel",
            "_view_count": null,
            "_view_module": "@jupyter-widgets/base",
            "_view_module_version": "1.2.0",
            "_view_name": "LayoutView",
            "align_content": null,
            "align_items": null,
            "align_self": null,
            "border": null,
            "bottom": null,
            "display": null,
            "flex": null,
            "flex_flow": null,
            "grid_area": null,
            "grid_auto_columns": null,
            "grid_auto_flow": null,
            "grid_auto_rows": null,
            "grid_column": null,
            "grid_gap": null,
            "grid_row": null,
            "grid_template_areas": null,
            "grid_template_columns": null,
            "grid_template_rows": null,
            "height": null,
            "justify_content": null,
            "justify_items": null,
            "left": null,
            "margin": null,
            "max_height": null,
            "max_width": null,
            "min_height": null,
            "min_width": null,
            "object_fit": null,
            "object_position": null,
            "order": null,
            "overflow": null,
            "overflow_x": null,
            "overflow_y": null,
            "padding": null,
            "right": null,
            "top": null,
            "visibility": null,
            "width": null
          }
        },
        "860162a989bd4818acfc8d3eebfcedd0": {
          "model_module": "@jupyter-widgets/controls",
          "model_name": "DescriptionStyleModel",
          "model_module_version": "1.5.0",
          "state": {
            "_model_module": "@jupyter-widgets/controls",
            "_model_module_version": "1.5.0",
            "_model_name": "DescriptionStyleModel",
            "_view_count": null,
            "_view_module": "@jupyter-widgets/base",
            "_view_module_version": "1.2.0",
            "_view_name": "StyleView",
            "description_width": ""
          }
        },
        "a344a26d1c7a4bec9ee308d1faf91eaa": {
          "model_module": "@jupyter-widgets/base",
          "model_name": "LayoutModel",
          "model_module_version": "1.2.0",
          "state": {
            "_model_module": "@jupyter-widgets/base",
            "_model_module_version": "1.2.0",
            "_model_name": "LayoutModel",
            "_view_count": null,
            "_view_module": "@jupyter-widgets/base",
            "_view_module_version": "1.2.0",
            "_view_name": "LayoutView",
            "align_content": null,
            "align_items": null,
            "align_self": null,
            "border": null,
            "bottom": null,
            "display": null,
            "flex": null,
            "flex_flow": null,
            "grid_area": null,
            "grid_auto_columns": null,
            "grid_auto_flow": null,
            "grid_auto_rows": null,
            "grid_column": null,
            "grid_gap": null,
            "grid_row": null,
            "grid_template_areas": null,
            "grid_template_columns": null,
            "grid_template_rows": null,
            "height": null,
            "justify_content": null,
            "justify_items": null,
            "left": null,
            "margin": null,
            "max_height": null,
            "max_width": null,
            "min_height": null,
            "min_width": null,
            "object_fit": null,
            "object_position": null,
            "order": null,
            "overflow": null,
            "overflow_x": null,
            "overflow_y": null,
            "padding": null,
            "right": null,
            "top": null,
            "visibility": null,
            "width": null
          }
        },
        "027567e419ac4532814308ddd0824960": {
          "model_module": "@jupyter-widgets/controls",
          "model_name": "ProgressStyleModel",
          "model_module_version": "1.5.0",
          "state": {
            "_model_module": "@jupyter-widgets/controls",
            "_model_module_version": "1.5.0",
            "_model_name": "ProgressStyleModel",
            "_view_count": null,
            "_view_module": "@jupyter-widgets/base",
            "_view_module_version": "1.2.0",
            "_view_name": "StyleView",
            "bar_color": null,
            "description_width": ""
          }
        },
        "fcbb3317f73b4954a79198e25b43f520": {
          "model_module": "@jupyter-widgets/base",
          "model_name": "LayoutModel",
          "model_module_version": "1.2.0",
          "state": {
            "_model_module": "@jupyter-widgets/base",
            "_model_module_version": "1.2.0",
            "_model_name": "LayoutModel",
            "_view_count": null,
            "_view_module": "@jupyter-widgets/base",
            "_view_module_version": "1.2.0",
            "_view_name": "LayoutView",
            "align_content": null,
            "align_items": null,
            "align_self": null,
            "border": null,
            "bottom": null,
            "display": null,
            "flex": null,
            "flex_flow": null,
            "grid_area": null,
            "grid_auto_columns": null,
            "grid_auto_flow": null,
            "grid_auto_rows": null,
            "grid_column": null,
            "grid_gap": null,
            "grid_row": null,
            "grid_template_areas": null,
            "grid_template_columns": null,
            "grid_template_rows": null,
            "height": null,
            "justify_content": null,
            "justify_items": null,
            "left": null,
            "margin": null,
            "max_height": null,
            "max_width": null,
            "min_height": null,
            "min_width": null,
            "object_fit": null,
            "object_position": null,
            "order": null,
            "overflow": null,
            "overflow_x": null,
            "overflow_y": null,
            "padding": null,
            "right": null,
            "top": null,
            "visibility": null,
            "width": null
          }
        },
        "398113a0a18f46639af8144c488ae8a7": {
          "model_module": "@jupyter-widgets/controls",
          "model_name": "DescriptionStyleModel",
          "model_module_version": "1.5.0",
          "state": {
            "_model_module": "@jupyter-widgets/controls",
            "_model_module_version": "1.5.0",
            "_model_name": "DescriptionStyleModel",
            "_view_count": null,
            "_view_module": "@jupyter-widgets/base",
            "_view_module_version": "1.2.0",
            "_view_name": "StyleView",
            "description_width": ""
          }
        },
        "d6531bc67cf14cc19e6d8e9a168e37cf": {
          "model_module": "@jupyter-widgets/controls",
          "model_name": "HBoxModel",
          "model_module_version": "1.5.0",
          "state": {
            "_dom_classes": [],
            "_model_module": "@jupyter-widgets/controls",
            "_model_module_version": "1.5.0",
            "_model_name": "HBoxModel",
            "_view_count": null,
            "_view_module": "@jupyter-widgets/controls",
            "_view_module_version": "1.5.0",
            "_view_name": "HBoxView",
            "box_style": "",
            "children": [
              "IPY_MODEL_f2c495601ffd488bb490dda6fce3abdc",
              "IPY_MODEL_84b9039f70da4c9a8f5171dbe1878c18",
              "IPY_MODEL_6674001447a24a898c904a97cfbae23d"
            ],
            "layout": "IPY_MODEL_c86a81168bb340eaa48941bc49c60f1d"
          }
        },
        "f2c495601ffd488bb490dda6fce3abdc": {
          "model_module": "@jupyter-widgets/controls",
          "model_name": "HTMLModel",
          "model_module_version": "1.5.0",
          "state": {
            "_dom_classes": [],
            "_model_module": "@jupyter-widgets/controls",
            "_model_module_version": "1.5.0",
            "_model_name": "HTMLModel",
            "_view_count": null,
            "_view_module": "@jupyter-widgets/controls",
            "_view_module_version": "1.5.0",
            "_view_name": "HTMLView",
            "description": "",
            "description_tooltip": null,
            "layout": "IPY_MODEL_28a29ea4e0544fd282d1575455fb92d9",
            "placeholder": "​",
            "style": "IPY_MODEL_42edcd4edf8d490d8195aff5db2f7c80",
            "value": "vocab.txt: 100%"
          }
        },
        "84b9039f70da4c9a8f5171dbe1878c18": {
          "model_module": "@jupyter-widgets/controls",
          "model_name": "FloatProgressModel",
          "model_module_version": "1.5.0",
          "state": {
            "_dom_classes": [],
            "_model_module": "@jupyter-widgets/controls",
            "_model_module_version": "1.5.0",
            "_model_name": "FloatProgressModel",
            "_view_count": null,
            "_view_module": "@jupyter-widgets/controls",
            "_view_module_version": "1.5.0",
            "_view_name": "ProgressView",
            "bar_style": "success",
            "description": "",
            "description_tooltip": null,
            "layout": "IPY_MODEL_842a0bd9aec64b419aa402fe897df358",
            "max": 213450,
            "min": 0,
            "orientation": "horizontal",
            "style": "IPY_MODEL_e35a3bfaef9047f1af3730de627ebbc2",
            "value": 213450
          }
        },
        "6674001447a24a898c904a97cfbae23d": {
          "model_module": "@jupyter-widgets/controls",
          "model_name": "HTMLModel",
          "model_module_version": "1.5.0",
          "state": {
            "_dom_classes": [],
            "_model_module": "@jupyter-widgets/controls",
            "_model_module_version": "1.5.0",
            "_model_name": "HTMLModel",
            "_view_count": null,
            "_view_module": "@jupyter-widgets/controls",
            "_view_module_version": "1.5.0",
            "_view_name": "HTMLView",
            "description": "",
            "description_tooltip": null,
            "layout": "IPY_MODEL_957100ce5ef14b459a83f439ee904ca4",
            "placeholder": "​",
            "style": "IPY_MODEL_4debdcbdea174d839fb3b19c6ef0a5e3",
            "value": " 213k/213k [00:00&lt;00:00, 3.38MB/s]"
          }
        },
        "c86a81168bb340eaa48941bc49c60f1d": {
          "model_module": "@jupyter-widgets/base",
          "model_name": "LayoutModel",
          "model_module_version": "1.2.0",
          "state": {
            "_model_module": "@jupyter-widgets/base",
            "_model_module_version": "1.2.0",
            "_model_name": "LayoutModel",
            "_view_count": null,
            "_view_module": "@jupyter-widgets/base",
            "_view_module_version": "1.2.0",
            "_view_name": "LayoutView",
            "align_content": null,
            "align_items": null,
            "align_self": null,
            "border": null,
            "bottom": null,
            "display": null,
            "flex": null,
            "flex_flow": null,
            "grid_area": null,
            "grid_auto_columns": null,
            "grid_auto_flow": null,
            "grid_auto_rows": null,
            "grid_column": null,
            "grid_gap": null,
            "grid_row": null,
            "grid_template_areas": null,
            "grid_template_columns": null,
            "grid_template_rows": null,
            "height": null,
            "justify_content": null,
            "justify_items": null,
            "left": null,
            "margin": null,
            "max_height": null,
            "max_width": null,
            "min_height": null,
            "min_width": null,
            "object_fit": null,
            "object_position": null,
            "order": null,
            "overflow": null,
            "overflow_x": null,
            "overflow_y": null,
            "padding": null,
            "right": null,
            "top": null,
            "visibility": null,
            "width": null
          }
        },
        "28a29ea4e0544fd282d1575455fb92d9": {
          "model_module": "@jupyter-widgets/base",
          "model_name": "LayoutModel",
          "model_module_version": "1.2.0",
          "state": {
            "_model_module": "@jupyter-widgets/base",
            "_model_module_version": "1.2.0",
            "_model_name": "LayoutModel",
            "_view_count": null,
            "_view_module": "@jupyter-widgets/base",
            "_view_module_version": "1.2.0",
            "_view_name": "LayoutView",
            "align_content": null,
            "align_items": null,
            "align_self": null,
            "border": null,
            "bottom": null,
            "display": null,
            "flex": null,
            "flex_flow": null,
            "grid_area": null,
            "grid_auto_columns": null,
            "grid_auto_flow": null,
            "grid_auto_rows": null,
            "grid_column": null,
            "grid_gap": null,
            "grid_row": null,
            "grid_template_areas": null,
            "grid_template_columns": null,
            "grid_template_rows": null,
            "height": null,
            "justify_content": null,
            "justify_items": null,
            "left": null,
            "margin": null,
            "max_height": null,
            "max_width": null,
            "min_height": null,
            "min_width": null,
            "object_fit": null,
            "object_position": null,
            "order": null,
            "overflow": null,
            "overflow_x": null,
            "overflow_y": null,
            "padding": null,
            "right": null,
            "top": null,
            "visibility": null,
            "width": null
          }
        },
        "42edcd4edf8d490d8195aff5db2f7c80": {
          "model_module": "@jupyter-widgets/controls",
          "model_name": "DescriptionStyleModel",
          "model_module_version": "1.5.0",
          "state": {
            "_model_module": "@jupyter-widgets/controls",
            "_model_module_version": "1.5.0",
            "_model_name": "DescriptionStyleModel",
            "_view_count": null,
            "_view_module": "@jupyter-widgets/base",
            "_view_module_version": "1.2.0",
            "_view_name": "StyleView",
            "description_width": ""
          }
        },
        "842a0bd9aec64b419aa402fe897df358": {
          "model_module": "@jupyter-widgets/base",
          "model_name": "LayoutModel",
          "model_module_version": "1.2.0",
          "state": {
            "_model_module": "@jupyter-widgets/base",
            "_model_module_version": "1.2.0",
            "_model_name": "LayoutModel",
            "_view_count": null,
            "_view_module": "@jupyter-widgets/base",
            "_view_module_version": "1.2.0",
            "_view_name": "LayoutView",
            "align_content": null,
            "align_items": null,
            "align_self": null,
            "border": null,
            "bottom": null,
            "display": null,
            "flex": null,
            "flex_flow": null,
            "grid_area": null,
            "grid_auto_columns": null,
            "grid_auto_flow": null,
            "grid_auto_rows": null,
            "grid_column": null,
            "grid_gap": null,
            "grid_row": null,
            "grid_template_areas": null,
            "grid_template_columns": null,
            "grid_template_rows": null,
            "height": null,
            "justify_content": null,
            "justify_items": null,
            "left": null,
            "margin": null,
            "max_height": null,
            "max_width": null,
            "min_height": null,
            "min_width": null,
            "object_fit": null,
            "object_position": null,
            "order": null,
            "overflow": null,
            "overflow_x": null,
            "overflow_y": null,
            "padding": null,
            "right": null,
            "top": null,
            "visibility": null,
            "width": null
          }
        },
        "e35a3bfaef9047f1af3730de627ebbc2": {
          "model_module": "@jupyter-widgets/controls",
          "model_name": "ProgressStyleModel",
          "model_module_version": "1.5.0",
          "state": {
            "_model_module": "@jupyter-widgets/controls",
            "_model_module_version": "1.5.0",
            "_model_name": "ProgressStyleModel",
            "_view_count": null,
            "_view_module": "@jupyter-widgets/base",
            "_view_module_version": "1.2.0",
            "_view_name": "StyleView",
            "bar_color": null,
            "description_width": ""
          }
        },
        "957100ce5ef14b459a83f439ee904ca4": {
          "model_module": "@jupyter-widgets/base",
          "model_name": "LayoutModel",
          "model_module_version": "1.2.0",
          "state": {
            "_model_module": "@jupyter-widgets/base",
            "_model_module_version": "1.2.0",
            "_model_name": "LayoutModel",
            "_view_count": null,
            "_view_module": "@jupyter-widgets/base",
            "_view_module_version": "1.2.0",
            "_view_name": "LayoutView",
            "align_content": null,
            "align_items": null,
            "align_self": null,
            "border": null,
            "bottom": null,
            "display": null,
            "flex": null,
            "flex_flow": null,
            "grid_area": null,
            "grid_auto_columns": null,
            "grid_auto_flow": null,
            "grid_auto_rows": null,
            "grid_column": null,
            "grid_gap": null,
            "grid_row": null,
            "grid_template_areas": null,
            "grid_template_columns": null,
            "grid_template_rows": null,
            "height": null,
            "justify_content": null,
            "justify_items": null,
            "left": null,
            "margin": null,
            "max_height": null,
            "max_width": null,
            "min_height": null,
            "min_width": null,
            "object_fit": null,
            "object_position": null,
            "order": null,
            "overflow": null,
            "overflow_x": null,
            "overflow_y": null,
            "padding": null,
            "right": null,
            "top": null,
            "visibility": null,
            "width": null
          }
        },
        "4debdcbdea174d839fb3b19c6ef0a5e3": {
          "model_module": "@jupyter-widgets/controls",
          "model_name": "DescriptionStyleModel",
          "model_module_version": "1.5.0",
          "state": {
            "_model_module": "@jupyter-widgets/controls",
            "_model_module_version": "1.5.0",
            "_model_name": "DescriptionStyleModel",
            "_view_count": null,
            "_view_module": "@jupyter-widgets/base",
            "_view_module_version": "1.2.0",
            "_view_name": "StyleView",
            "description_width": ""
          }
        },
        "228cb8ca38d34254b0e69e4df66b29ad": {
          "model_module": "@jupyter-widgets/controls",
          "model_name": "HBoxModel",
          "model_module_version": "1.5.0",
          "state": {
            "_dom_classes": [],
            "_model_module": "@jupyter-widgets/controls",
            "_model_module_version": "1.5.0",
            "_model_name": "HBoxModel",
            "_view_count": null,
            "_view_module": "@jupyter-widgets/controls",
            "_view_module_version": "1.5.0",
            "_view_name": "HBoxView",
            "box_style": "",
            "children": [
              "IPY_MODEL_36f76e80a2f847c8aae351c972ed3ee1",
              "IPY_MODEL_91e4ca4240de403d8b9fc00fbb5c669b",
              "IPY_MODEL_a9a0ec0d70194194925756507c7e5df8"
            ],
            "layout": "IPY_MODEL_f1ec3166083042139b4c95b8e891c195"
          }
        },
        "36f76e80a2f847c8aae351c972ed3ee1": {
          "model_module": "@jupyter-widgets/controls",
          "model_name": "HTMLModel",
          "model_module_version": "1.5.0",
          "state": {
            "_dom_classes": [],
            "_model_module": "@jupyter-widgets/controls",
            "_model_module_version": "1.5.0",
            "_model_name": "HTMLModel",
            "_view_count": null,
            "_view_module": "@jupyter-widgets/controls",
            "_view_module_version": "1.5.0",
            "_view_name": "HTMLView",
            "description": "",
            "description_tooltip": null,
            "layout": "IPY_MODEL_5529227a852c42bc90d8c151d7fa8395",
            "placeholder": "​",
            "style": "IPY_MODEL_9aaf5031d1f243989a7d8a88e8171da2",
            "value": "tokenizer.json: 100%"
          }
        },
        "91e4ca4240de403d8b9fc00fbb5c669b": {
          "model_module": "@jupyter-widgets/controls",
          "model_name": "FloatProgressModel",
          "model_module_version": "1.5.0",
          "state": {
            "_dom_classes": [],
            "_model_module": "@jupyter-widgets/controls",
            "_model_module_version": "1.5.0",
            "_model_name": "FloatProgressModel",
            "_view_count": null,
            "_view_module": "@jupyter-widgets/controls",
            "_view_module_version": "1.5.0",
            "_view_name": "ProgressView",
            "bar_style": "success",
            "description": "",
            "description_tooltip": null,
            "layout": "IPY_MODEL_e68f1d2e10c2440f870da1a39af64dd7",
            "max": 435797,
            "min": 0,
            "orientation": "horizontal",
            "style": "IPY_MODEL_c8e1b93975ba4f86942498b25b3e2760",
            "value": 435797
          }
        },
        "a9a0ec0d70194194925756507c7e5df8": {
          "model_module": "@jupyter-widgets/controls",
          "model_name": "HTMLModel",
          "model_module_version": "1.5.0",
          "state": {
            "_dom_classes": [],
            "_model_module": "@jupyter-widgets/controls",
            "_model_module_version": "1.5.0",
            "_model_name": "HTMLModel",
            "_view_count": null,
            "_view_module": "@jupyter-widgets/controls",
            "_view_module_version": "1.5.0",
            "_view_name": "HTMLView",
            "description": "",
            "description_tooltip": null,
            "layout": "IPY_MODEL_f35c138543fa4746adfbe336f586c660",
            "placeholder": "​",
            "style": "IPY_MODEL_2aadf041f8b948678476575051ec8894",
            "value": " 436k/436k [00:00&lt;00:00, 15.7MB/s]"
          }
        },
        "f1ec3166083042139b4c95b8e891c195": {
          "model_module": "@jupyter-widgets/base",
          "model_name": "LayoutModel",
          "model_module_version": "1.2.0",
          "state": {
            "_model_module": "@jupyter-widgets/base",
            "_model_module_version": "1.2.0",
            "_model_name": "LayoutModel",
            "_view_count": null,
            "_view_module": "@jupyter-widgets/base",
            "_view_module_version": "1.2.0",
            "_view_name": "LayoutView",
            "align_content": null,
            "align_items": null,
            "align_self": null,
            "border": null,
            "bottom": null,
            "display": null,
            "flex": null,
            "flex_flow": null,
            "grid_area": null,
            "grid_auto_columns": null,
            "grid_auto_flow": null,
            "grid_auto_rows": null,
            "grid_column": null,
            "grid_gap": null,
            "grid_row": null,
            "grid_template_areas": null,
            "grid_template_columns": null,
            "grid_template_rows": null,
            "height": null,
            "justify_content": null,
            "justify_items": null,
            "left": null,
            "margin": null,
            "max_height": null,
            "max_width": null,
            "min_height": null,
            "min_width": null,
            "object_fit": null,
            "object_position": null,
            "order": null,
            "overflow": null,
            "overflow_x": null,
            "overflow_y": null,
            "padding": null,
            "right": null,
            "top": null,
            "visibility": null,
            "width": null
          }
        },
        "5529227a852c42bc90d8c151d7fa8395": {
          "model_module": "@jupyter-widgets/base",
          "model_name": "LayoutModel",
          "model_module_version": "1.2.0",
          "state": {
            "_model_module": "@jupyter-widgets/base",
            "_model_module_version": "1.2.0",
            "_model_name": "LayoutModel",
            "_view_count": null,
            "_view_module": "@jupyter-widgets/base",
            "_view_module_version": "1.2.0",
            "_view_name": "LayoutView",
            "align_content": null,
            "align_items": null,
            "align_self": null,
            "border": null,
            "bottom": null,
            "display": null,
            "flex": null,
            "flex_flow": null,
            "grid_area": null,
            "grid_auto_columns": null,
            "grid_auto_flow": null,
            "grid_auto_rows": null,
            "grid_column": null,
            "grid_gap": null,
            "grid_row": null,
            "grid_template_areas": null,
            "grid_template_columns": null,
            "grid_template_rows": null,
            "height": null,
            "justify_content": null,
            "justify_items": null,
            "left": null,
            "margin": null,
            "max_height": null,
            "max_width": null,
            "min_height": null,
            "min_width": null,
            "object_fit": null,
            "object_position": null,
            "order": null,
            "overflow": null,
            "overflow_x": null,
            "overflow_y": null,
            "padding": null,
            "right": null,
            "top": null,
            "visibility": null,
            "width": null
          }
        },
        "9aaf5031d1f243989a7d8a88e8171da2": {
          "model_module": "@jupyter-widgets/controls",
          "model_name": "DescriptionStyleModel",
          "model_module_version": "1.5.0",
          "state": {
            "_model_module": "@jupyter-widgets/controls",
            "_model_module_version": "1.5.0",
            "_model_name": "DescriptionStyleModel",
            "_view_count": null,
            "_view_module": "@jupyter-widgets/base",
            "_view_module_version": "1.2.0",
            "_view_name": "StyleView",
            "description_width": ""
          }
        },
        "e68f1d2e10c2440f870da1a39af64dd7": {
          "model_module": "@jupyter-widgets/base",
          "model_name": "LayoutModel",
          "model_module_version": "1.2.0",
          "state": {
            "_model_module": "@jupyter-widgets/base",
            "_model_module_version": "1.2.0",
            "_model_name": "LayoutModel",
            "_view_count": null,
            "_view_module": "@jupyter-widgets/base",
            "_view_module_version": "1.2.0",
            "_view_name": "LayoutView",
            "align_content": null,
            "align_items": null,
            "align_self": null,
            "border": null,
            "bottom": null,
            "display": null,
            "flex": null,
            "flex_flow": null,
            "grid_area": null,
            "grid_auto_columns": null,
            "grid_auto_flow": null,
            "grid_auto_rows": null,
            "grid_column": null,
            "grid_gap": null,
            "grid_row": null,
            "grid_template_areas": null,
            "grid_template_columns": null,
            "grid_template_rows": null,
            "height": null,
            "justify_content": null,
            "justify_items": null,
            "left": null,
            "margin": null,
            "max_height": null,
            "max_width": null,
            "min_height": null,
            "min_width": null,
            "object_fit": null,
            "object_position": null,
            "order": null,
            "overflow": null,
            "overflow_x": null,
            "overflow_y": null,
            "padding": null,
            "right": null,
            "top": null,
            "visibility": null,
            "width": null
          }
        },
        "c8e1b93975ba4f86942498b25b3e2760": {
          "model_module": "@jupyter-widgets/controls",
          "model_name": "ProgressStyleModel",
          "model_module_version": "1.5.0",
          "state": {
            "_model_module": "@jupyter-widgets/controls",
            "_model_module_version": "1.5.0",
            "_model_name": "ProgressStyleModel",
            "_view_count": null,
            "_view_module": "@jupyter-widgets/base",
            "_view_module_version": "1.2.0",
            "_view_name": "StyleView",
            "bar_color": null,
            "description_width": ""
          }
        },
        "f35c138543fa4746adfbe336f586c660": {
          "model_module": "@jupyter-widgets/base",
          "model_name": "LayoutModel",
          "model_module_version": "1.2.0",
          "state": {
            "_model_module": "@jupyter-widgets/base",
            "_model_module_version": "1.2.0",
            "_model_name": "LayoutModel",
            "_view_count": null,
            "_view_module": "@jupyter-widgets/base",
            "_view_module_version": "1.2.0",
            "_view_name": "LayoutView",
            "align_content": null,
            "align_items": null,
            "align_self": null,
            "border": null,
            "bottom": null,
            "display": null,
            "flex": null,
            "flex_flow": null,
            "grid_area": null,
            "grid_auto_columns": null,
            "grid_auto_flow": null,
            "grid_auto_rows": null,
            "grid_column": null,
            "grid_gap": null,
            "grid_row": null,
            "grid_template_areas": null,
            "grid_template_columns": null,
            "grid_template_rows": null,
            "height": null,
            "justify_content": null,
            "justify_items": null,
            "left": null,
            "margin": null,
            "max_height": null,
            "max_width": null,
            "min_height": null,
            "min_width": null,
            "object_fit": null,
            "object_position": null,
            "order": null,
            "overflow": null,
            "overflow_x": null,
            "overflow_y": null,
            "padding": null,
            "right": null,
            "top": null,
            "visibility": null,
            "width": null
          }
        },
        "2aadf041f8b948678476575051ec8894": {
          "model_module": "@jupyter-widgets/controls",
          "model_name": "DescriptionStyleModel",
          "model_module_version": "1.5.0",
          "state": {
            "_model_module": "@jupyter-widgets/controls",
            "_model_module_version": "1.5.0",
            "_model_name": "DescriptionStyleModel",
            "_view_count": null,
            "_view_module": "@jupyter-widgets/base",
            "_view_module_version": "1.2.0",
            "_view_name": "StyleView",
            "description_width": ""
          }
        },
        "363041d9ef414cecb6f11444b1d01351": {
          "model_module": "@jupyter-widgets/controls",
          "model_name": "HBoxModel",
          "model_module_version": "1.5.0",
          "state": {
            "_dom_classes": [],
            "_model_module": "@jupyter-widgets/controls",
            "_model_module_version": "1.5.0",
            "_model_name": "HBoxModel",
            "_view_count": null,
            "_view_module": "@jupyter-widgets/controls",
            "_view_module_version": "1.5.0",
            "_view_name": "HBoxView",
            "box_style": "",
            "children": [
              "IPY_MODEL_c6ac77e914d149d1bffa3bd68269a152",
              "IPY_MODEL_2050bbbf45bf4cea8dafdea3b911f751",
              "IPY_MODEL_07b9e5a6ed50421a928eaba70d10cc72"
            ],
            "layout": "IPY_MODEL_1fbcb3c57b664cf4bde1cff312fa16fe"
          }
        },
        "c6ac77e914d149d1bffa3bd68269a152": {
          "model_module": "@jupyter-widgets/controls",
          "model_name": "HTMLModel",
          "model_module_version": "1.5.0",
          "state": {
            "_dom_classes": [],
            "_model_module": "@jupyter-widgets/controls",
            "_model_module_version": "1.5.0",
            "_model_name": "HTMLModel",
            "_view_count": null,
            "_view_module": "@jupyter-widgets/controls",
            "_view_module_version": "1.5.0",
            "_view_name": "HTMLView",
            "description": "",
            "description_tooltip": null,
            "layout": "IPY_MODEL_1a61506e96084a02b8ff00c090763d61",
            "placeholder": "​",
            "style": "IPY_MODEL_ccbc446f26ef4319b251a62c9c29ae7a",
            "value": "model.safetensors: 100%"
          }
        },
        "2050bbbf45bf4cea8dafdea3b911f751": {
          "model_module": "@jupyter-widgets/controls",
          "model_name": "FloatProgressModel",
          "model_module_version": "1.5.0",
          "state": {
            "_dom_classes": [],
            "_model_module": "@jupyter-widgets/controls",
            "_model_module_version": "1.5.0",
            "_model_name": "FloatProgressModel",
            "_view_count": null,
            "_view_module": "@jupyter-widgets/controls",
            "_view_module_version": "1.5.0",
            "_view_name": "ProgressView",
            "bar_style": "success",
            "description": "",
            "description_tooltip": null,
            "layout": "IPY_MODEL_b35e66acfaae489d8ab8e8bb7e12ab32",
            "max": 435755784,
            "min": 0,
            "orientation": "horizontal",
            "style": "IPY_MODEL_a1794998242e47f5872e6d5cca246e50",
            "value": 435755784
          }
        },
        "07b9e5a6ed50421a928eaba70d10cc72": {
          "model_module": "@jupyter-widgets/controls",
          "model_name": "HTMLModel",
          "model_module_version": "1.5.0",
          "state": {
            "_dom_classes": [],
            "_model_module": "@jupyter-widgets/controls",
            "_model_module_version": "1.5.0",
            "_model_name": "HTMLModel",
            "_view_count": null,
            "_view_module": "@jupyter-widgets/controls",
            "_view_module_version": "1.5.0",
            "_view_name": "HTMLView",
            "description": "",
            "description_tooltip": null,
            "layout": "IPY_MODEL_ec7177338bd34edbb5f394ecd6f5695e",
            "placeholder": "​",
            "style": "IPY_MODEL_6ba68f27c87d413fb24256b143b34f04",
            "value": " 436M/436M [00:06&lt;00:00, 73.9MB/s]"
          }
        },
        "1fbcb3c57b664cf4bde1cff312fa16fe": {
          "model_module": "@jupyter-widgets/base",
          "model_name": "LayoutModel",
          "model_module_version": "1.2.0",
          "state": {
            "_model_module": "@jupyter-widgets/base",
            "_model_module_version": "1.2.0",
            "_model_name": "LayoutModel",
            "_view_count": null,
            "_view_module": "@jupyter-widgets/base",
            "_view_module_version": "1.2.0",
            "_view_name": "LayoutView",
            "align_content": null,
            "align_items": null,
            "align_self": null,
            "border": null,
            "bottom": null,
            "display": null,
            "flex": null,
            "flex_flow": null,
            "grid_area": null,
            "grid_auto_columns": null,
            "grid_auto_flow": null,
            "grid_auto_rows": null,
            "grid_column": null,
            "grid_gap": null,
            "grid_row": null,
            "grid_template_areas": null,
            "grid_template_columns": null,
            "grid_template_rows": null,
            "height": null,
            "justify_content": null,
            "justify_items": null,
            "left": null,
            "margin": null,
            "max_height": null,
            "max_width": null,
            "min_height": null,
            "min_width": null,
            "object_fit": null,
            "object_position": null,
            "order": null,
            "overflow": null,
            "overflow_x": null,
            "overflow_y": null,
            "padding": null,
            "right": null,
            "top": null,
            "visibility": null,
            "width": null
          }
        },
        "1a61506e96084a02b8ff00c090763d61": {
          "model_module": "@jupyter-widgets/base",
          "model_name": "LayoutModel",
          "model_module_version": "1.2.0",
          "state": {
            "_model_module": "@jupyter-widgets/base",
            "_model_module_version": "1.2.0",
            "_model_name": "LayoutModel",
            "_view_count": null,
            "_view_module": "@jupyter-widgets/base",
            "_view_module_version": "1.2.0",
            "_view_name": "LayoutView",
            "align_content": null,
            "align_items": null,
            "align_self": null,
            "border": null,
            "bottom": null,
            "display": null,
            "flex": null,
            "flex_flow": null,
            "grid_area": null,
            "grid_auto_columns": null,
            "grid_auto_flow": null,
            "grid_auto_rows": null,
            "grid_column": null,
            "grid_gap": null,
            "grid_row": null,
            "grid_template_areas": null,
            "grid_template_columns": null,
            "grid_template_rows": null,
            "height": null,
            "justify_content": null,
            "justify_items": null,
            "left": null,
            "margin": null,
            "max_height": null,
            "max_width": null,
            "min_height": null,
            "min_width": null,
            "object_fit": null,
            "object_position": null,
            "order": null,
            "overflow": null,
            "overflow_x": null,
            "overflow_y": null,
            "padding": null,
            "right": null,
            "top": null,
            "visibility": null,
            "width": null
          }
        },
        "ccbc446f26ef4319b251a62c9c29ae7a": {
          "model_module": "@jupyter-widgets/controls",
          "model_name": "DescriptionStyleModel",
          "model_module_version": "1.5.0",
          "state": {
            "_model_module": "@jupyter-widgets/controls",
            "_model_module_version": "1.5.0",
            "_model_name": "DescriptionStyleModel",
            "_view_count": null,
            "_view_module": "@jupyter-widgets/base",
            "_view_module_version": "1.2.0",
            "_view_name": "StyleView",
            "description_width": ""
          }
        },
        "b35e66acfaae489d8ab8e8bb7e12ab32": {
          "model_module": "@jupyter-widgets/base",
          "model_name": "LayoutModel",
          "model_module_version": "1.2.0",
          "state": {
            "_model_module": "@jupyter-widgets/base",
            "_model_module_version": "1.2.0",
            "_model_name": "LayoutModel",
            "_view_count": null,
            "_view_module": "@jupyter-widgets/base",
            "_view_module_version": "1.2.0",
            "_view_name": "LayoutView",
            "align_content": null,
            "align_items": null,
            "align_self": null,
            "border": null,
            "bottom": null,
            "display": null,
            "flex": null,
            "flex_flow": null,
            "grid_area": null,
            "grid_auto_columns": null,
            "grid_auto_flow": null,
            "grid_auto_rows": null,
            "grid_column": null,
            "grid_gap": null,
            "grid_row": null,
            "grid_template_areas": null,
            "grid_template_columns": null,
            "grid_template_rows": null,
            "height": null,
            "justify_content": null,
            "justify_items": null,
            "left": null,
            "margin": null,
            "max_height": null,
            "max_width": null,
            "min_height": null,
            "min_width": null,
            "object_fit": null,
            "object_position": null,
            "order": null,
            "overflow": null,
            "overflow_x": null,
            "overflow_y": null,
            "padding": null,
            "right": null,
            "top": null,
            "visibility": null,
            "width": null
          }
        },
        "a1794998242e47f5872e6d5cca246e50": {
          "model_module": "@jupyter-widgets/controls",
          "model_name": "ProgressStyleModel",
          "model_module_version": "1.5.0",
          "state": {
            "_model_module": "@jupyter-widgets/controls",
            "_model_module_version": "1.5.0",
            "_model_name": "ProgressStyleModel",
            "_view_count": null,
            "_view_module": "@jupyter-widgets/base",
            "_view_module_version": "1.2.0",
            "_view_name": "StyleView",
            "bar_color": null,
            "description_width": ""
          }
        },
        "ec7177338bd34edbb5f394ecd6f5695e": {
          "model_module": "@jupyter-widgets/base",
          "model_name": "LayoutModel",
          "model_module_version": "1.2.0",
          "state": {
            "_model_module": "@jupyter-widgets/base",
            "_model_module_version": "1.2.0",
            "_model_name": "LayoutModel",
            "_view_count": null,
            "_view_module": "@jupyter-widgets/base",
            "_view_module_version": "1.2.0",
            "_view_name": "LayoutView",
            "align_content": null,
            "align_items": null,
            "align_self": null,
            "border": null,
            "bottom": null,
            "display": null,
            "flex": null,
            "flex_flow": null,
            "grid_area": null,
            "grid_auto_columns": null,
            "grid_auto_flow": null,
            "grid_auto_rows": null,
            "grid_column": null,
            "grid_gap": null,
            "grid_row": null,
            "grid_template_areas": null,
            "grid_template_columns": null,
            "grid_template_rows": null,
            "height": null,
            "justify_content": null,
            "justify_items": null,
            "left": null,
            "margin": null,
            "max_height": null,
            "max_width": null,
            "min_height": null,
            "min_width": null,
            "object_fit": null,
            "object_position": null,
            "order": null,
            "overflow": null,
            "overflow_x": null,
            "overflow_y": null,
            "padding": null,
            "right": null,
            "top": null,
            "visibility": null,
            "width": null
          }
        },
        "6ba68f27c87d413fb24256b143b34f04": {
          "model_module": "@jupyter-widgets/controls",
          "model_name": "DescriptionStyleModel",
          "model_module_version": "1.5.0",
          "state": {
            "_model_module": "@jupyter-widgets/controls",
            "_model_module_version": "1.5.0",
            "_model_name": "DescriptionStyleModel",
            "_view_count": null,
            "_view_module": "@jupyter-widgets/base",
            "_view_module_version": "1.2.0",
            "_view_name": "StyleView",
            "description_width": ""
          }
        }
      }
    }
  },
  "cells": [
    {
      "cell_type": "markdown",
      "metadata": {
        "id": "view-in-github",
        "colab_type": "text"
      },
      "source": [
        "<a href=\"https://colab.research.google.com/github/nespar7/Spring_24/blob/main/NLP/Assignments/Assignment_1/NLP_A1.ipynb\" target=\"_parent\"><img src=\"https://colab.research.google.com/assets/colab-badge.svg\" alt=\"Open In Colab\"/></a>"
      ]
    },
    {
      "cell_type": "markdown",
      "source": [
        "## Installations"
      ],
      "metadata": {
        "id": "0r-rTccDuFr8"
      }
    },
    {
      "cell_type": "code",
      "execution_count": 81,
      "metadata": {
        "id": "64yWLxtXoOrG",
        "colab": {
          "base_uri": "https://localhost:8080/"
        },
        "outputId": "af704bc6-6adc-421d-c370-1e659306e71a"
      },
      "outputs": [
        {
          "output_type": "stream",
          "name": "stdout",
          "text": [
            "Requirement already satisfied: spacy in /usr/local/lib/python3.10/dist-packages (3.7.2)\n",
            "Requirement already satisfied: spacy-legacy<3.1.0,>=3.0.11 in /usr/local/lib/python3.10/dist-packages (from spacy) (3.0.12)\n",
            "Requirement already satisfied: spacy-loggers<2.0.0,>=1.0.0 in /usr/local/lib/python3.10/dist-packages (from spacy) (1.0.5)\n",
            "Requirement already satisfied: murmurhash<1.1.0,>=0.28.0 in /usr/local/lib/python3.10/dist-packages (from spacy) (1.0.10)\n",
            "Requirement already satisfied: cymem<2.1.0,>=2.0.2 in /usr/local/lib/python3.10/dist-packages (from spacy) (2.0.8)\n",
            "Requirement already satisfied: preshed<3.1.0,>=3.0.2 in /usr/local/lib/python3.10/dist-packages (from spacy) (3.0.9)\n",
            "Requirement already satisfied: thinc<8.3.0,>=8.1.8 in /usr/local/lib/python3.10/dist-packages (from spacy) (8.2.2)\n",
            "Requirement already satisfied: wasabi<1.2.0,>=0.9.1 in /usr/local/lib/python3.10/dist-packages (from spacy) (1.1.2)\n",
            "Requirement already satisfied: srsly<3.0.0,>=2.4.3 in /usr/local/lib/python3.10/dist-packages (from spacy) (2.4.8)\n",
            "Requirement already satisfied: catalogue<2.1.0,>=2.0.6 in /usr/local/lib/python3.10/dist-packages (from spacy) (2.0.10)\n",
            "Requirement already satisfied: weasel<0.4.0,>=0.1.0 in /usr/local/lib/python3.10/dist-packages (from spacy) (0.3.4)\n",
            "Requirement already satisfied: typer<0.10.0,>=0.3.0 in /usr/local/lib/python3.10/dist-packages (from spacy) (0.9.0)\n",
            "Requirement already satisfied: smart-open<7.0.0,>=5.2.1 in /usr/local/lib/python3.10/dist-packages (from spacy) (6.4.0)\n",
            "Requirement already satisfied: tqdm<5.0.0,>=4.38.0 in /usr/local/lib/python3.10/dist-packages (from spacy) (4.66.1)\n",
            "Requirement already satisfied: requests<3.0.0,>=2.13.0 in /usr/local/lib/python3.10/dist-packages (from spacy) (2.31.0)\n",
            "Requirement already satisfied: pydantic!=1.8,!=1.8.1,<3.0.0,>=1.7.4 in /usr/local/lib/python3.10/dist-packages (from spacy) (1.10.14)\n",
            "Requirement already satisfied: jinja2 in /usr/local/lib/python3.10/dist-packages (from spacy) (3.1.3)\n",
            "Requirement already satisfied: setuptools in /usr/local/lib/python3.10/dist-packages (from spacy) (67.7.2)\n",
            "Requirement already satisfied: packaging>=20.0 in /usr/local/lib/python3.10/dist-packages (from spacy) (23.2)\n",
            "Requirement already satisfied: langcodes<4.0.0,>=3.2.0 in /usr/local/lib/python3.10/dist-packages (from spacy) (3.3.0)\n",
            "Requirement already satisfied: numpy>=1.19.0 in /usr/local/lib/python3.10/dist-packages (from spacy) (1.23.5)\n",
            "Requirement already satisfied: typing-extensions>=4.2.0 in /usr/local/lib/python3.10/dist-packages (from pydantic!=1.8,!=1.8.1,<3.0.0,>=1.7.4->spacy) (4.5.0)\n",
            "Requirement already satisfied: charset-normalizer<4,>=2 in /usr/local/lib/python3.10/dist-packages (from requests<3.0.0,>=2.13.0->spacy) (3.3.2)\n",
            "Requirement already satisfied: idna<4,>=2.5 in /usr/local/lib/python3.10/dist-packages (from requests<3.0.0,>=2.13.0->spacy) (3.6)\n",
            "Requirement already satisfied: urllib3<3,>=1.21.1 in /usr/local/lib/python3.10/dist-packages (from requests<3.0.0,>=2.13.0->spacy) (2.0.7)\n",
            "Requirement already satisfied: certifi>=2017.4.17 in /usr/local/lib/python3.10/dist-packages (from requests<3.0.0,>=2.13.0->spacy) (2023.11.17)\n",
            "Requirement already satisfied: blis<0.8.0,>=0.7.8 in /usr/local/lib/python3.10/dist-packages (from thinc<8.3.0,>=8.1.8->spacy) (0.7.11)\n",
            "Requirement already satisfied: confection<1.0.0,>=0.0.1 in /usr/local/lib/python3.10/dist-packages (from thinc<8.3.0,>=8.1.8->spacy) (0.1.4)\n",
            "Requirement already satisfied: click<9.0.0,>=7.1.1 in /usr/local/lib/python3.10/dist-packages (from typer<0.10.0,>=0.3.0->spacy) (8.1.7)\n",
            "Requirement already satisfied: cloudpathlib<0.17.0,>=0.7.0 in /usr/local/lib/python3.10/dist-packages (from weasel<0.4.0,>=0.1.0->spacy) (0.16.0)\n",
            "Requirement already satisfied: MarkupSafe>=2.0 in /usr/local/lib/python3.10/dist-packages (from jinja2->spacy) (2.1.4)\n",
            "Collecting en-core-web-sm==3.7.1\n",
            "  Downloading https://github.com/explosion/spacy-models/releases/download/en_core_web_sm-3.7.1/en_core_web_sm-3.7.1-py3-none-any.whl (12.8 MB)\n",
            "\u001b[2K     \u001b[90m━━━━━━━━━━━━━━━━━━━━━━━━━━━━━━━━━━━━━━━━\u001b[0m \u001b[32m12.8/12.8 MB\u001b[0m \u001b[31m18.7 MB/s\u001b[0m eta \u001b[36m0:00:00\u001b[0m\n",
            "\u001b[?25hRequirement already satisfied: spacy<3.8.0,>=3.7.2 in /usr/local/lib/python3.10/dist-packages (from en-core-web-sm==3.7.1) (3.7.2)\n",
            "Requirement already satisfied: spacy-legacy<3.1.0,>=3.0.11 in /usr/local/lib/python3.10/dist-packages (from spacy<3.8.0,>=3.7.2->en-core-web-sm==3.7.1) (3.0.12)\n",
            "Requirement already satisfied: spacy-loggers<2.0.0,>=1.0.0 in /usr/local/lib/python3.10/dist-packages (from spacy<3.8.0,>=3.7.2->en-core-web-sm==3.7.1) (1.0.5)\n",
            "Requirement already satisfied: murmurhash<1.1.0,>=0.28.0 in /usr/local/lib/python3.10/dist-packages (from spacy<3.8.0,>=3.7.2->en-core-web-sm==3.7.1) (1.0.10)\n",
            "Requirement already satisfied: cymem<2.1.0,>=2.0.2 in /usr/local/lib/python3.10/dist-packages (from spacy<3.8.0,>=3.7.2->en-core-web-sm==3.7.1) (2.0.8)\n",
            "Requirement already satisfied: preshed<3.1.0,>=3.0.2 in /usr/local/lib/python3.10/dist-packages (from spacy<3.8.0,>=3.7.2->en-core-web-sm==3.7.1) (3.0.9)\n",
            "Requirement already satisfied: thinc<8.3.0,>=8.1.8 in /usr/local/lib/python3.10/dist-packages (from spacy<3.8.0,>=3.7.2->en-core-web-sm==3.7.1) (8.2.2)\n",
            "Requirement already satisfied: wasabi<1.2.0,>=0.9.1 in /usr/local/lib/python3.10/dist-packages (from spacy<3.8.0,>=3.7.2->en-core-web-sm==3.7.1) (1.1.2)\n",
            "Requirement already satisfied: srsly<3.0.0,>=2.4.3 in /usr/local/lib/python3.10/dist-packages (from spacy<3.8.0,>=3.7.2->en-core-web-sm==3.7.1) (2.4.8)\n",
            "Requirement already satisfied: catalogue<2.1.0,>=2.0.6 in /usr/local/lib/python3.10/dist-packages (from spacy<3.8.0,>=3.7.2->en-core-web-sm==3.7.1) (2.0.10)\n",
            "Requirement already satisfied: weasel<0.4.0,>=0.1.0 in /usr/local/lib/python3.10/dist-packages (from spacy<3.8.0,>=3.7.2->en-core-web-sm==3.7.1) (0.3.4)\n",
            "Requirement already satisfied: typer<0.10.0,>=0.3.0 in /usr/local/lib/python3.10/dist-packages (from spacy<3.8.0,>=3.7.2->en-core-web-sm==3.7.1) (0.9.0)\n",
            "Requirement already satisfied: smart-open<7.0.0,>=5.2.1 in /usr/local/lib/python3.10/dist-packages (from spacy<3.8.0,>=3.7.2->en-core-web-sm==3.7.1) (6.4.0)\n",
            "Requirement already satisfied: tqdm<5.0.0,>=4.38.0 in /usr/local/lib/python3.10/dist-packages (from spacy<3.8.0,>=3.7.2->en-core-web-sm==3.7.1) (4.66.1)\n",
            "Requirement already satisfied: requests<3.0.0,>=2.13.0 in /usr/local/lib/python3.10/dist-packages (from spacy<3.8.0,>=3.7.2->en-core-web-sm==3.7.1) (2.31.0)\n",
            "Requirement already satisfied: pydantic!=1.8,!=1.8.1,<3.0.0,>=1.7.4 in /usr/local/lib/python3.10/dist-packages (from spacy<3.8.0,>=3.7.2->en-core-web-sm==3.7.1) (1.10.14)\n",
            "Requirement already satisfied: jinja2 in /usr/local/lib/python3.10/dist-packages (from spacy<3.8.0,>=3.7.2->en-core-web-sm==3.7.1) (3.1.3)\n",
            "Requirement already satisfied: setuptools in /usr/local/lib/python3.10/dist-packages (from spacy<3.8.0,>=3.7.2->en-core-web-sm==3.7.1) (67.7.2)\n",
            "Requirement already satisfied: packaging>=20.0 in /usr/local/lib/python3.10/dist-packages (from spacy<3.8.0,>=3.7.2->en-core-web-sm==3.7.1) (23.2)\n",
            "Requirement already satisfied: langcodes<4.0.0,>=3.2.0 in /usr/local/lib/python3.10/dist-packages (from spacy<3.8.0,>=3.7.2->en-core-web-sm==3.7.1) (3.3.0)\n",
            "Requirement already satisfied: numpy>=1.19.0 in /usr/local/lib/python3.10/dist-packages (from spacy<3.8.0,>=3.7.2->en-core-web-sm==3.7.1) (1.23.5)\n",
            "Requirement already satisfied: typing-extensions>=4.2.0 in /usr/local/lib/python3.10/dist-packages (from pydantic!=1.8,!=1.8.1,<3.0.0,>=1.7.4->spacy<3.8.0,>=3.7.2->en-core-web-sm==3.7.1) (4.5.0)\n",
            "Requirement already satisfied: charset-normalizer<4,>=2 in /usr/local/lib/python3.10/dist-packages (from requests<3.0.0,>=2.13.0->spacy<3.8.0,>=3.7.2->en-core-web-sm==3.7.1) (3.3.2)\n",
            "Requirement already satisfied: idna<4,>=2.5 in /usr/local/lib/python3.10/dist-packages (from requests<3.0.0,>=2.13.0->spacy<3.8.0,>=3.7.2->en-core-web-sm==3.7.1) (3.6)\n",
            "Requirement already satisfied: urllib3<3,>=1.21.1 in /usr/local/lib/python3.10/dist-packages (from requests<3.0.0,>=2.13.0->spacy<3.8.0,>=3.7.2->en-core-web-sm==3.7.1) (2.0.7)\n",
            "Requirement already satisfied: certifi>=2017.4.17 in /usr/local/lib/python3.10/dist-packages (from requests<3.0.0,>=2.13.0->spacy<3.8.0,>=3.7.2->en-core-web-sm==3.7.1) (2023.11.17)\n",
            "Requirement already satisfied: blis<0.8.0,>=0.7.8 in /usr/local/lib/python3.10/dist-packages (from thinc<8.3.0,>=8.1.8->spacy<3.8.0,>=3.7.2->en-core-web-sm==3.7.1) (0.7.11)\n",
            "Requirement already satisfied: confection<1.0.0,>=0.0.1 in /usr/local/lib/python3.10/dist-packages (from thinc<8.3.0,>=8.1.8->spacy<3.8.0,>=3.7.2->en-core-web-sm==3.7.1) (0.1.4)\n",
            "Requirement already satisfied: click<9.0.0,>=7.1.1 in /usr/local/lib/python3.10/dist-packages (from typer<0.10.0,>=0.3.0->spacy<3.8.0,>=3.7.2->en-core-web-sm==3.7.1) (8.1.7)\n",
            "Requirement already satisfied: cloudpathlib<0.17.0,>=0.7.0 in /usr/local/lib/python3.10/dist-packages (from weasel<0.4.0,>=0.1.0->spacy<3.8.0,>=3.7.2->en-core-web-sm==3.7.1) (0.16.0)\n",
            "Requirement already satisfied: MarkupSafe>=2.0 in /usr/local/lib/python3.10/dist-packages (from jinja2->spacy<3.8.0,>=3.7.2->en-core-web-sm==3.7.1) (2.1.4)\n",
            "\u001b[38;5;2m✔ Download and installation successful\u001b[0m\n",
            "You can now load the package via spacy.load('en_core_web_sm')\n",
            "Requirement already satisfied: contextualSpellCheck in /usr/local/lib/python3.10/dist-packages (0.4.4)\n",
            "Requirement already satisfied: torch>=1.4 in /usr/local/lib/python3.10/dist-packages (from contextualSpellCheck) (2.1.0+cu121)\n",
            "Requirement already satisfied: editdistance==0.6.2 in /usr/local/lib/python3.10/dist-packages (from contextualSpellCheck) (0.6.2)\n",
            "Requirement already satisfied: transformers>=4.0.0 in /usr/local/lib/python3.10/dist-packages (from contextualSpellCheck) (4.35.2)\n",
            "Requirement already satisfied: spacy>=3.0.0 in /usr/local/lib/python3.10/dist-packages (from contextualSpellCheck) (3.7.2)\n",
            "Requirement already satisfied: spacy-legacy<3.1.0,>=3.0.11 in /usr/local/lib/python3.10/dist-packages (from spacy>=3.0.0->contextualSpellCheck) (3.0.12)\n",
            "Requirement already satisfied: spacy-loggers<2.0.0,>=1.0.0 in /usr/local/lib/python3.10/dist-packages (from spacy>=3.0.0->contextualSpellCheck) (1.0.5)\n",
            "Requirement already satisfied: murmurhash<1.1.0,>=0.28.0 in /usr/local/lib/python3.10/dist-packages (from spacy>=3.0.0->contextualSpellCheck) (1.0.10)\n",
            "Requirement already satisfied: cymem<2.1.0,>=2.0.2 in /usr/local/lib/python3.10/dist-packages (from spacy>=3.0.0->contextualSpellCheck) (2.0.8)\n",
            "Requirement already satisfied: preshed<3.1.0,>=3.0.2 in /usr/local/lib/python3.10/dist-packages (from spacy>=3.0.0->contextualSpellCheck) (3.0.9)\n",
            "Requirement already satisfied: thinc<8.3.0,>=8.1.8 in /usr/local/lib/python3.10/dist-packages (from spacy>=3.0.0->contextualSpellCheck) (8.2.2)\n",
            "Requirement already satisfied: wasabi<1.2.0,>=0.9.1 in /usr/local/lib/python3.10/dist-packages (from spacy>=3.0.0->contextualSpellCheck) (1.1.2)\n",
            "Requirement already satisfied: srsly<3.0.0,>=2.4.3 in /usr/local/lib/python3.10/dist-packages (from spacy>=3.0.0->contextualSpellCheck) (2.4.8)\n",
            "Requirement already satisfied: catalogue<2.1.0,>=2.0.6 in /usr/local/lib/python3.10/dist-packages (from spacy>=3.0.0->contextualSpellCheck) (2.0.10)\n",
            "Requirement already satisfied: weasel<0.4.0,>=0.1.0 in /usr/local/lib/python3.10/dist-packages (from spacy>=3.0.0->contextualSpellCheck) (0.3.4)\n",
            "Requirement already satisfied: typer<0.10.0,>=0.3.0 in /usr/local/lib/python3.10/dist-packages (from spacy>=3.0.0->contextualSpellCheck) (0.9.0)\n",
            "Requirement already satisfied: smart-open<7.0.0,>=5.2.1 in /usr/local/lib/python3.10/dist-packages (from spacy>=3.0.0->contextualSpellCheck) (6.4.0)\n",
            "Requirement already satisfied: tqdm<5.0.0,>=4.38.0 in /usr/local/lib/python3.10/dist-packages (from spacy>=3.0.0->contextualSpellCheck) (4.66.1)\n",
            "Requirement already satisfied: requests<3.0.0,>=2.13.0 in /usr/local/lib/python3.10/dist-packages (from spacy>=3.0.0->contextualSpellCheck) (2.31.0)\n",
            "Requirement already satisfied: pydantic!=1.8,!=1.8.1,<3.0.0,>=1.7.4 in /usr/local/lib/python3.10/dist-packages (from spacy>=3.0.0->contextualSpellCheck) (1.10.14)\n",
            "Requirement already satisfied: jinja2 in /usr/local/lib/python3.10/dist-packages (from spacy>=3.0.0->contextualSpellCheck) (3.1.3)\n",
            "Requirement already satisfied: setuptools in /usr/local/lib/python3.10/dist-packages (from spacy>=3.0.0->contextualSpellCheck) (67.7.2)\n",
            "Requirement already satisfied: packaging>=20.0 in /usr/local/lib/python3.10/dist-packages (from spacy>=3.0.0->contextualSpellCheck) (23.2)\n",
            "Requirement already satisfied: langcodes<4.0.0,>=3.2.0 in /usr/local/lib/python3.10/dist-packages (from spacy>=3.0.0->contextualSpellCheck) (3.3.0)\n",
            "Requirement already satisfied: numpy>=1.19.0 in /usr/local/lib/python3.10/dist-packages (from spacy>=3.0.0->contextualSpellCheck) (1.23.5)\n",
            "Requirement already satisfied: filelock in /usr/local/lib/python3.10/dist-packages (from torch>=1.4->contextualSpellCheck) (3.13.1)\n",
            "Requirement already satisfied: typing-extensions in /usr/local/lib/python3.10/dist-packages (from torch>=1.4->contextualSpellCheck) (4.5.0)\n",
            "Requirement already satisfied: sympy in /usr/local/lib/python3.10/dist-packages (from torch>=1.4->contextualSpellCheck) (1.12)\n",
            "Requirement already satisfied: networkx in /usr/local/lib/python3.10/dist-packages (from torch>=1.4->contextualSpellCheck) (3.2.1)\n",
            "Requirement already satisfied: fsspec in /usr/local/lib/python3.10/dist-packages (from torch>=1.4->contextualSpellCheck) (2023.6.0)\n",
            "Requirement already satisfied: triton==2.1.0 in /usr/local/lib/python3.10/dist-packages (from torch>=1.4->contextualSpellCheck) (2.1.0)\n",
            "Requirement already satisfied: huggingface-hub<1.0,>=0.16.4 in /usr/local/lib/python3.10/dist-packages (from transformers>=4.0.0->contextualSpellCheck) (0.20.3)\n",
            "Requirement already satisfied: pyyaml>=5.1 in /usr/local/lib/python3.10/dist-packages (from transformers>=4.0.0->contextualSpellCheck) (6.0.1)\n",
            "Requirement already satisfied: regex!=2019.12.17 in /usr/local/lib/python3.10/dist-packages (from transformers>=4.0.0->contextualSpellCheck) (2023.12.25)\n",
            "Requirement already satisfied: tokenizers<0.19,>=0.14 in /usr/local/lib/python3.10/dist-packages (from transformers>=4.0.0->contextualSpellCheck) (0.15.1)\n",
            "Requirement already satisfied: safetensors>=0.3.1 in /usr/local/lib/python3.10/dist-packages (from transformers>=4.0.0->contextualSpellCheck) (0.4.2)\n",
            "Requirement already satisfied: charset-normalizer<4,>=2 in /usr/local/lib/python3.10/dist-packages (from requests<3.0.0,>=2.13.0->spacy>=3.0.0->contextualSpellCheck) (3.3.2)\n",
            "Requirement already satisfied: idna<4,>=2.5 in /usr/local/lib/python3.10/dist-packages (from requests<3.0.0,>=2.13.0->spacy>=3.0.0->contextualSpellCheck) (3.6)\n",
            "Requirement already satisfied: urllib3<3,>=1.21.1 in /usr/local/lib/python3.10/dist-packages (from requests<3.0.0,>=2.13.0->spacy>=3.0.0->contextualSpellCheck) (2.0.7)\n",
            "Requirement already satisfied: certifi>=2017.4.17 in /usr/local/lib/python3.10/dist-packages (from requests<3.0.0,>=2.13.0->spacy>=3.0.0->contextualSpellCheck) (2023.11.17)\n",
            "Requirement already satisfied: blis<0.8.0,>=0.7.8 in /usr/local/lib/python3.10/dist-packages (from thinc<8.3.0,>=8.1.8->spacy>=3.0.0->contextualSpellCheck) (0.7.11)\n",
            "Requirement already satisfied: confection<1.0.0,>=0.0.1 in /usr/local/lib/python3.10/dist-packages (from thinc<8.3.0,>=8.1.8->spacy>=3.0.0->contextualSpellCheck) (0.1.4)\n",
            "Requirement already satisfied: click<9.0.0,>=7.1.1 in /usr/local/lib/python3.10/dist-packages (from typer<0.10.0,>=0.3.0->spacy>=3.0.0->contextualSpellCheck) (8.1.7)\n",
            "Requirement already satisfied: cloudpathlib<0.17.0,>=0.7.0 in /usr/local/lib/python3.10/dist-packages (from weasel<0.4.0,>=0.1.0->spacy>=3.0.0->contextualSpellCheck) (0.16.0)\n",
            "Requirement already satisfied: MarkupSafe>=2.0 in /usr/local/lib/python3.10/dist-packages (from jinja2->spacy>=3.0.0->contextualSpellCheck) (2.1.4)\n",
            "Requirement already satisfied: mpmath>=0.19 in /usr/local/lib/python3.10/dist-packages (from sympy->torch>=1.4->contextualSpellCheck) (1.3.0)\n",
            "Requirement already satisfied: scikit-learn in /usr/local/lib/python3.10/dist-packages (1.2.2)\n",
            "Requirement already satisfied: numpy>=1.17.3 in /usr/local/lib/python3.10/dist-packages (from scikit-learn) (1.23.5)\n",
            "Requirement already satisfied: scipy>=1.3.2 in /usr/local/lib/python3.10/dist-packages (from scikit-learn) (1.11.4)\n",
            "Requirement already satisfied: joblib>=1.1.1 in /usr/local/lib/python3.10/dist-packages (from scikit-learn) (1.3.2)\n",
            "Requirement already satisfied: threadpoolctl>=2.0.0 in /usr/local/lib/python3.10/dist-packages (from scikit-learn) (3.2.0)\n",
            "Requirement already satisfied: nltk in /usr/local/lib/python3.10/dist-packages (3.8.1)\n",
            "Requirement already satisfied: click in /usr/local/lib/python3.10/dist-packages (from nltk) (8.1.7)\n",
            "Requirement already satisfied: joblib in /usr/local/lib/python3.10/dist-packages (from nltk) (1.3.2)\n",
            "Requirement already satisfied: regex>=2021.8.3 in /usr/local/lib/python3.10/dist-packages (from nltk) (2023.12.25)\n",
            "Requirement already satisfied: tqdm in /usr/local/lib/python3.10/dist-packages (from nltk) (4.66.1)\n"
          ]
        }
      ],
      "source": [
        "!pip install spacy\n",
        "!python -m spacy download en_core_web_sm\n",
        "!pip install contextualSpellCheck\n",
        "!pip install scikit-learn\n",
        "!pip install nltk"
      ]
    },
    {
      "cell_type": "markdown",
      "source": [
        "## Imports"
      ],
      "metadata": {
        "id": "YO4VRNdHoxSD"
      }
    },
    {
      "cell_type": "code",
      "source": [
        "import spacy\n",
        "import contextualSpellCheck\n",
        "import csv\n",
        "from sklearn.feature_extraction.text import TfidfVectorizer\n",
        "from sklearn.metrics.pairwise import cosine_similarity\n",
        "import numpy as np\n",
        "from nltk import download as nltk_dw\n",
        "from nltk.stem import PorterStemmer\n",
        "from nltk.tokenize import word_tokenize\n",
        "\n",
        "nltk_dw('punkt')"
      ],
      "metadata": {
        "id": "Nt8Cj2NMpmTA",
        "colab": {
          "base_uri": "https://localhost:8080/"
        },
        "outputId": "29415f9a-c664-47a2-b70b-4fccbb0dff15"
      },
      "execution_count": 90,
      "outputs": [
        {
          "output_type": "stream",
          "name": "stderr",
          "text": [
            "[nltk_data] Downloading package punkt to /root/nltk_data...\n",
            "[nltk_data]   Unzipping tokenizers/punkt.zip.\n"
          ]
        },
        {
          "output_type": "execute_result",
          "data": {
            "text/plain": [
              "True"
            ]
          },
          "metadata": {},
          "execution_count": 90
        }
      ]
    },
    {
      "cell_type": "markdown",
      "source": [
        "### Models"
      ],
      "metadata": {
        "id": "opEEAC1UqVO-"
      }
    },
    {
      "cell_type": "code",
      "source": [
        "nlp = spacy.load(\"en_core_web_sm\")\n",
        "contextualSpellCheck.add_to_pipe(nlp)"
      ],
      "metadata": {
        "id": "h34NMkubqXbo",
        "colab": {
          "base_uri": "https://localhost:8080/",
          "height": 301,
          "referenced_widgets": [
            "5dbac99a01c9493589c479cc096fb09f",
            "9f17027084dc405ab5d054950cc19400",
            "37e2611979b046b6841c13e8e29681a2",
            "b2e20c6828ff475da5d8b69c0249ecf3",
            "0fed1c06a24e4d8c9cec7a41b58447d7",
            "ce12a32bcb484640a29ee42300413768",
            "181d75d10f2843eebe74c4f033c123d1",
            "ea68dc33ab994f559b2449ae148a340e",
            "e4d10c31f7c1452e8ae40819c7c1b923",
            "452582d90f2044598154b86a63623d88",
            "2f9ceb73a9044406becb23f408d1c2ec",
            "8feff59e7ae8494494e249068ae45bf4",
            "fddc64fe3b9149c9bac50866d9f2a287",
            "ebfe4c4f28bc4feda59958baaf7b78d7",
            "f09553e8990d4d63b6252eaa8af12176",
            "b79e49008f3b44f3a22105b1f1b7f1e8",
            "a0bcba57b35e4e33b47de2240704fad9",
            "860162a989bd4818acfc8d3eebfcedd0",
            "a344a26d1c7a4bec9ee308d1faf91eaa",
            "027567e419ac4532814308ddd0824960",
            "fcbb3317f73b4954a79198e25b43f520",
            "398113a0a18f46639af8144c488ae8a7",
            "d6531bc67cf14cc19e6d8e9a168e37cf",
            "f2c495601ffd488bb490dda6fce3abdc",
            "84b9039f70da4c9a8f5171dbe1878c18",
            "6674001447a24a898c904a97cfbae23d",
            "c86a81168bb340eaa48941bc49c60f1d",
            "28a29ea4e0544fd282d1575455fb92d9",
            "42edcd4edf8d490d8195aff5db2f7c80",
            "842a0bd9aec64b419aa402fe897df358",
            "e35a3bfaef9047f1af3730de627ebbc2",
            "957100ce5ef14b459a83f439ee904ca4",
            "4debdcbdea174d839fb3b19c6ef0a5e3",
            "228cb8ca38d34254b0e69e4df66b29ad",
            "36f76e80a2f847c8aae351c972ed3ee1",
            "91e4ca4240de403d8b9fc00fbb5c669b",
            "a9a0ec0d70194194925756507c7e5df8",
            "f1ec3166083042139b4c95b8e891c195",
            "5529227a852c42bc90d8c151d7fa8395",
            "9aaf5031d1f243989a7d8a88e8171da2",
            "e68f1d2e10c2440f870da1a39af64dd7",
            "c8e1b93975ba4f86942498b25b3e2760",
            "f35c138543fa4746adfbe336f586c660",
            "2aadf041f8b948678476575051ec8894",
            "363041d9ef414cecb6f11444b1d01351",
            "c6ac77e914d149d1bffa3bd68269a152",
            "2050bbbf45bf4cea8dafdea3b911f751",
            "07b9e5a6ed50421a928eaba70d10cc72",
            "1fbcb3c57b664cf4bde1cff312fa16fe",
            "1a61506e96084a02b8ff00c090763d61",
            "ccbc446f26ef4319b251a62c9c29ae7a",
            "b35e66acfaae489d8ab8e8bb7e12ab32",
            "a1794998242e47f5872e6d5cca246e50",
            "ec7177338bd34edbb5f394ecd6f5695e",
            "6ba68f27c87d413fb24256b143b34f04"
          ]
        },
        "outputId": "413ea56e-211a-4bc2-cd78-06a8d29f8819"
      },
      "execution_count": 3,
      "outputs": [
        {
          "output_type": "stream",
          "name": "stderr",
          "text": [
            "/usr/local/lib/python3.10/dist-packages/huggingface_hub/utils/_token.py:88: UserWarning: \n",
            "The secret `HF_TOKEN` does not exist in your Colab secrets.\n",
            "To authenticate with the Hugging Face Hub, create a token in your settings tab (https://huggingface.co/settings/tokens), set it as secret in your Google Colab and restart your session.\n",
            "You will be able to reuse this secret in all of your notebooks.\n",
            "Please note that authentication is recommended but still optional to access public models or datasets.\n",
            "  warnings.warn(\n"
          ]
        },
        {
          "output_type": "display_data",
          "data": {
            "text/plain": [
              "tokenizer_config.json:   0%|          | 0.00/29.0 [00:00<?, ?B/s]"
            ],
            "application/vnd.jupyter.widget-view+json": {
              "version_major": 2,
              "version_minor": 0,
              "model_id": "5dbac99a01c9493589c479cc096fb09f"
            }
          },
          "metadata": {}
        },
        {
          "output_type": "display_data",
          "data": {
            "text/plain": [
              "config.json:   0%|          | 0.00/570 [00:00<?, ?B/s]"
            ],
            "application/vnd.jupyter.widget-view+json": {
              "version_major": 2,
              "version_minor": 0,
              "model_id": "8feff59e7ae8494494e249068ae45bf4"
            }
          },
          "metadata": {}
        },
        {
          "output_type": "display_data",
          "data": {
            "text/plain": [
              "vocab.txt:   0%|          | 0.00/213k [00:00<?, ?B/s]"
            ],
            "application/vnd.jupyter.widget-view+json": {
              "version_major": 2,
              "version_minor": 0,
              "model_id": "d6531bc67cf14cc19e6d8e9a168e37cf"
            }
          },
          "metadata": {}
        },
        {
          "output_type": "display_data",
          "data": {
            "text/plain": [
              "tokenizer.json:   0%|          | 0.00/436k [00:00<?, ?B/s]"
            ],
            "application/vnd.jupyter.widget-view+json": {
              "version_major": 2,
              "version_minor": 0,
              "model_id": "228cb8ca38d34254b0e69e4df66b29ad"
            }
          },
          "metadata": {}
        },
        {
          "output_type": "display_data",
          "data": {
            "text/plain": [
              "model.safetensors:   0%|          | 0.00/436M [00:00<?, ?B/s]"
            ],
            "application/vnd.jupyter.widget-view+json": {
              "version_major": 2,
              "version_minor": 0,
              "model_id": "363041d9ef414cecb6f11444b1d01351"
            }
          },
          "metadata": {}
        }
      ]
    },
    {
      "cell_type": "markdown",
      "source": [
        "## Function Definitions"
      ],
      "metadata": {
        "id": "Dk6ujq08qMEZ"
      }
    },
    {
      "cell_type": "code",
      "source": [
        "def spell_check(text):\n",
        "    doc = nlp(text)\n",
        "\n",
        "    return doc._.performed_spellCheck, doc._.outcome_spellCheck"
      ],
      "metadata": {
        "id": "K9L5_aGpprWg"
      },
      "execution_count": 4,
      "outputs": []
    },
    {
      "cell_type": "code",
      "source": [
        "def correct_spellings(csv_file, out_csv_file, column_name, should_log=False):\n",
        "    # read a csv file, in each line, see if spellCheck was performed(if text was correctly spelled) and print original and corrected texts\n",
        "    lines = []\n",
        "\n",
        "    with open(csv_file, 'r') as f:\n",
        "        reader = csv.reader(f)\n",
        "        lines = list(reader)\n",
        "\n",
        "        # Index of the column to be spell checked\n",
        "        column_index = lines[0].index(column_name)\n",
        "\n",
        "        # For each line, perform spell check\n",
        "        for i in range(1, len(lines)):\n",
        "            line = lines[i][column_index]\n",
        "            performed, outcome = spell_check(line)\n",
        "\n",
        "\n",
        "            # If spell check was performed, update the line and print the original and corrected texts\n",
        "            if performed:\n",
        "                # Update the line\n",
        "                lines[i][column_index] = outcome\n",
        "\n",
        "                if should_log:\n",
        "                    print(line)\n",
        "                    print(outcome)\n",
        "                    print()\n",
        "\n",
        "            if i%100 == 0:\n",
        "                print(i)\n",
        "\n",
        "    with open(out_csv_file, 'w') as f:\n",
        "        writer = csv.writer(f)\n",
        "        writer.writerows(lines)\n",
        "\n",
        "    print(\"Spell check completed\")"
      ],
      "metadata": {
        "id": "hJlxZytPw3oK"
      },
      "execution_count": 11,
      "outputs": []
    },
    {
      "cell_type": "code",
      "source": [
        "def pre_process(csv_file, out_csv_file, column_name):\n",
        "    # read a csv file, in each line, remove characters apart from alphanumerics and whitespaces in the given column\n",
        "    lines = []\n",
        "\n",
        "    with open(csv_file, 'r') as f:\n",
        "        reader = csv.reader(f)\n",
        "        lines = list(reader)\n",
        "\n",
        "        # Index of the column to be pre processed\n",
        "        column_index = lines[0].index(column_name)\n",
        "\n",
        "        for i in range(1, len(lines)):\n",
        "            lines[i][column_index] = ''.join([c for c in lines[i][column_index] if c.isalnum() or c.isspace()])\n",
        "\n",
        "    # write the pre-processed data to the resulting csv file\n",
        "    with open(out_csv_file, 'w') as f:\n",
        "        writer = csv.writer(f)\n",
        "        writer.writerows(lines)\n",
        "\n",
        "    print(\"Pre procesing completed\")"
      ],
      "metadata": {
        "id": "iXrFFBtPsQIV"
      },
      "execution_count": 12,
      "outputs": []
    },
    {
      "cell_type": "code",
      "source": [
        "def get_vocabulary(csv_file, column_name):\n",
        "    # Read the spell checked docs csv file and store the documents in a list\n",
        "    docs = []\n",
        "\n",
        "    with open(csv_file, 'r') as f:\n",
        "        reader = csv.reader(f)\n",
        "        lines = [line for line in reader]\n",
        "\n",
        "        doc_col_index = lines[0].index(column_name)\n",
        "\n",
        "        for i in range(1, len(lines)):\n",
        "            docs.append(lines[i][doc_col_index])\n",
        "\n",
        "        num_docs = len(docs)\n",
        "        lower_lim = 5\n",
        "        upper_lim = int(num_docs * 0.85)\n",
        "\n",
        "        # tokenize the documents using spacy and store the tokens in a vocabulary,\n",
        "        # remove the tokens that occur less than lower_lim times and more than upper_lim times\n",
        "\n",
        "        doc_tokenized = []\n",
        "\n",
        "        # use nlp pipe to tokenize the documents\n",
        "        # docs = nlp.pipe(docs, batch_size=10000, n_process=-1)\n",
        "        for doc in docs:\n",
        "            # process doc using nlp\n",
        "            doc = nlp(doc)\n",
        "\n",
        "            # Select alphabetical tokens and remove stop words\n",
        "            tokens = [token.text.lower() for token in doc if token.is_alpha and not token.is_stop]\n",
        "\n",
        "            doc_tokenized.append(tokens)\n",
        "\n",
        "        # Now that we have the tokenized documents, we can create a vocabulary\n",
        "        vocabulary = {}\n",
        "\n",
        "        for doc in doc_tokenized:\n",
        "            for token in doc:\n",
        "                if token in vocabulary:\n",
        "                    vocabulary[token] += 1\n",
        "                else:\n",
        "                    vocabulary[token] = 1\n",
        "\n",
        "        # Remove the tokens that occur less than lower_lim times and more than upper_lim times\n",
        "        vocabulary = [k for k, v in vocabulary.items() if v >= lower_lim and v <= upper_lim]\n",
        "\n",
        "        return vocabulary"
      ],
      "metadata": {
        "id": "AMSjXyLexJ9l"
      },
      "execution_count": 13,
      "outputs": []
    },
    {
      "cell_type": "code",
      "source": [
        "def get_stemmed_vocabulary(csv_file, col_name):\n",
        "    # Read the spell checked docs csv file and store the documents in a list\n",
        "    docs = []\n",
        "\n",
        "    with open(csv_file, 'r') as f:\n",
        "        reader = csv.reader(f)\n",
        "        lines = [line for line in reader]\n",
        "\n",
        "        doc_col_index = lines[0].index(col_name)\n",
        "\n",
        "        for i in range(1, len(lines)):\n",
        "            docs.append(lines[i][doc_col_index])\n",
        "\n",
        "    # tokenize the documents using nltk and store the tokens in a vocabulary,\n",
        "    # remove the tokens that occur less than lower_lim times and more than upper_lim times\n",
        "\n",
        "    lower_lim = 5\n",
        "    upper_lim = int(len(docs) * 0.85)\n",
        "\n",
        "    # use nltk to tokenize the documents\n",
        "    for doc in docs:\n",
        "        doc = word_tokenize(doc)\n",
        "\n",
        "        tokens = [token.lower() for token in doc if token.isalpha()]\n",
        "\n",
        "        # stem the tokens\n",
        "        stemmed_tokens = [ps.stem(token) for token in tokens]\n",
        "\n",
        "    vocabulary = {}\n",
        "\n",
        "    for doc in stemmed_tokens:\n",
        "        for token in doc:\n",
        "            if token in vocabulary:\n",
        "                vocabulary[token] += 1\n",
        "            else:\n",
        "                vocabulary[token] = 1\n",
        "\n",
        "    # Remove the tokens that occur less than lower_lim times and more than upper_lim times\n",
        "\n",
        "    stemmed_vocabulary = [k for k, v in vocabulary.items() if v >= lower_lim and v <= upper_lim]\n",
        "\n",
        "    return stemmed_vocabulary"
      ],
      "metadata": {
        "id": "pqW6THucFcwZ"
      },
      "execution_count": 82,
      "outputs": []
    },
    {
      "cell_type": "code",
      "source": [
        "def get_texts(csv_file, id_col, text_col):\n",
        "    # Read the spell checked docs csv file and store the documents in a list\n",
        "    ids = []\n",
        "    texts = []\n",
        "\n",
        "    with open(csv_file, 'r') as f:\n",
        "        reader = csv.reader(f)\n",
        "        lines = [line for line in reader]\n",
        "\n",
        "        id_col_index = lines[0].index(id_col)\n",
        "        text_col_index = lines[0].index(text_col)\n",
        "\n",
        "        for i in range(1, len(lines)):\n",
        "            ids.append(lines[i][id_col_index])\n",
        "            texts.append(lines[i][text_col_index])\n",
        "\n",
        "    return ids, texts"
      ],
      "metadata": {
        "id": "J9UTSpYTrXO2"
      },
      "execution_count": 30,
      "outputs": []
    },
    {
      "cell_type": "code",
      "source": [
        "def get_relevant_docs(qdrels):\n",
        "    # Get relevant docs list for each query from qdrels.csv file\n",
        "    relevant_docs = {}\n",
        "\n",
        "    with open(qdrels, 'r') as f:\n",
        "        reader = csv.reader(f)\n",
        "        lines = [line for line in reader]\n",
        "\n",
        "        for i in range(1, len(lines)):\n",
        "            line = lines[i]\n",
        "\n",
        "            query_id = line[1]\n",
        "            doc_id = line[2]\n",
        "\n",
        "            if query_id in relevant_docs:\n",
        "                relevant_docs[query_id].append(doc_id)\n",
        "            else:\n",
        "                relevant_docs[query_id] = [doc_id]\n",
        "\n",
        "    return relevant_docs"
      ],
      "metadata": {
        "id": "ciOjy6BSv6S1"
      },
      "execution_count": 63,
      "outputs": []
    },
    {
      "cell_type": "code",
      "source": [
        "def precision_k_score(query_id_idx_map, relevant_docs, top_docs, k):\n",
        "    # For each query in relevant_docs, calculate true positives in top_docs and return average precision_k score\n",
        "    precision_k = 0\n",
        "\n",
        "    for query_id, relevant_docs_list in relevant_docs.items():\n",
        "        true_positives = 0\n",
        "\n",
        "        query_idx = query_id_idx_map[query_id]\n",
        "\n",
        "        for doc in top_docs[query_idx]:\n",
        "            if doc in relevant_docs_list:\n",
        "                true_positives += 1\n",
        "\n",
        "        precision_k += true_positives / k\n",
        "\n",
        "    return precision_k / len(relevant_docs)"
      ],
      "metadata": {
        "id": "bb6tV5nK1R8h"
      },
      "execution_count": 76,
      "outputs": []
    },
    {
      "cell_type": "markdown",
      "source": [
        "## Main"
      ],
      "metadata": {
        "id": "jDvR6WfCtVT8"
      }
    },
    {
      "cell_type": "markdown",
      "source": [
        "The CSV file locations need to be changed as applicable if being run locally."
      ],
      "metadata": {
        "id": "K9vjusFbu--4"
      }
    },
    {
      "cell_type": "code",
      "source": [
        "docs_file = \"/content/Query_Doc/docs.csv\"\n",
        "queries_file = \"/content/Query_Doc/queries.csv\"\n",
        "pre_processed_docs_file = \"/content/Query_Doc/pre_processed_docs.csv\"\n",
        "pre_processed_queries_file = \"/content/Query_Doc/pre_processed_queries.csv\"\n",
        "spell_checked_docs_file = \"/content/Query_Doc/spell_checked_docs.csv\"\n",
        "spell_checked_queries_file = \"/content/Query_Doc/spell_checked_queries.csv\"\n",
        "qdrels_file = \"/content/Query_Doc/qdrel.csv\""
      ],
      "metadata": {
        "id": "JLx7wJi-uCAn"
      },
      "execution_count": 59,
      "outputs": []
    },
    {
      "cell_type": "markdown",
      "source": [
        "Pre processing"
      ],
      "metadata": {
        "id": "K9r6lSZ36o1v"
      }
    },
    {
      "cell_type": "code",
      "source": [
        "pre_process(docs_file, pre_processed_docs_file, \"doc_text\")\n",
        "pre_process(queries_file, pre_processed_queries_file, \"query_text\")"
      ],
      "metadata": {
        "id": "Skt7Avvj6sr0",
        "colab": {
          "base_uri": "https://localhost:8080/"
        },
        "outputId": "fdb52a47-ae69-4175-a6c4-1b37e3547b31"
      },
      "execution_count": 15,
      "outputs": [
        {
          "output_type": "stream",
          "name": "stdout",
          "text": [
            "Pre procesing completed\n",
            "Pre procesing completed\n"
          ]
        }
      ]
    },
    {
      "cell_type": "markdown",
      "source": [
        "Spell correction on the pre processed docs and queries"
      ],
      "metadata": {
        "id": "U9UG2gEAzrTb"
      }
    },
    {
      "cell_type": "code",
      "source": [
        "# Print logs(original and corrected for query doc only)\n",
        "correct_spellings(pre_processed_queries_file, spell_checked_queries_file, \"query_text\", True)\n",
        "correct_spellings(pre_processed_docs_file, spell_checked_docs_file, \"doc_text\")"
      ],
      "metadata": {
        "id": "VVCp3evivOyQ"
      },
      "execution_count": null,
      "outputs": []
    },
    {
      "cell_type": "markdown",
      "source": [
        "Tokenize the documents and get the tokens forming the vocabulary"
      ],
      "metadata": {
        "id": "07oTyhn7wLoR"
      }
    },
    {
      "cell_type": "code",
      "source": [
        "# Remove contextualSpellCheck, lemmatizer, ner and tagger from the nlp pipe since we are checking performance after only spell check\n",
        "nlp.remove_pipe('contextual spellchecker')\n",
        "nlp.remove_pipe('tagger')\n",
        "nlp.remove_pipe('lemmatizer')\n",
        "nlp.remove_pipe('ner')"
      ],
      "metadata": {
        "colab": {
          "base_uri": "https://localhost:8080/"
        },
        "id": "MvyVyY85wOiG",
        "outputId": "6288054d-e8e3-4246-cbe4-d9c5ea9285a0"
      },
      "execution_count": 17,
      "outputs": [
        {
          "output_type": "execute_result",
          "data": {
            "text/plain": [
              "('ner', <spacy.pipeline.ner.EntityRecognizer at 0x790bfed6c2e0>)"
            ]
          },
          "metadata": {},
          "execution_count": 17
        }
      ]
    },
    {
      "cell_type": "code",
      "source": [
        "vocabulary = get_vocabulary(spell_checked_docs_file, \"doc_text\")"
      ],
      "metadata": {
        "id": "ewjngCJy3Aha"
      },
      "execution_count": 18,
      "outputs": []
    },
    {
      "cell_type": "code",
      "source": [
        "print(vocabulary)\n",
        "print(len(vocabulary))"
      ],
      "metadata": {
        "colab": {
          "base_uri": "https://localhost:8080/"
        },
        "id": "KNv8dpHa4wK9",
        "outputId": "855303ac-ac8c-4f0b-81ac-e7c047ebad24"
      },
      "execution_count": 19,
      "outputs": [
        {
          "output_type": "stream",
          "name": "stdout",
          "text": [
            "['step', 'invest', 'share', 'market', 'india', 'story', 'happen', 'indian', 'government', 'increase', 'speed', 'internet', 'connection', 'increased', 'mentally', 'solve', 'find', 'water', 'sugar', 'salt', 'carbon', 'survive', 'moon', 'sun', 'm', 'buy', 'active', 'far', 'phone', 'video', 'games', 'good', 'great', 'use', 'instead', 'company', 'code', 'files', 'free', 'method', 'atoms', 'things', 'tell', 'components', 'read', 'youtube', 'comments', 'physics', 'easy', 'learn', 'sexual', 'experience', 'like', 'laws', 'change', 'status', 'student', 'visa', 'green', 'card', 'compare', 'immigration', 'canada', 'japan', 'trump', 'presidency', 'mean', 'current', 'international', 'masters', 'students', 'eu', 'affect', 'planning', 'study', 'means', 'girls', 'want', 'friends', 'guy', 'guys', 'feel', 'girl', 'quora', 'users', 'questions', 'answered', 'google', 'people', 'ask', 'easily', 'best', 'digital', 'marketing', 'bangladesh', 'institute', 'look', 'white', 'bombs', 's', 'causing', 'jealous', 'avoid', 'hp', 'chart', 'time', 'numbers', 'times', 'day', 'hands', 'tips', 'making', 'job', 'interview', 'process', 'medicine', 'web', 'application', 'framework', 'society', 'place', 'importance', 'sports', 'way', 'money', 'online', 'prepare', 'final', 'law', 'know', 'completely', 'exam', 'thing', 'better', 'despite', 'knowing', 'special', 'nose', 'gets', 'cut', 'night', 'getting', 'stuck', 'game', 'likely', 'united', 'states', 'accept', 'etc', 'citizens', 'political', 'views', 'average', 'gas', 'molecules', 'determined', 'travel', 'website', 'spain', 'think', 'obama', 'try', 'guns', 'away', 'gun', 'control', 'improve', 'skills', 'years', 'year', 'old', 'billionaire', 'girlfriend', 'asks', 'boyfriend', 'choose', 'makes', 'reply', 'said', 'end', 'feelings', 'wants', 'upsc', 'civil', 'service', 'eagle', 'stop', 'expect', 'mail', 'month', 'trading', 'kid', 'worth', 'long', 'run', 'bored', 'universities', 'recruit', 'new', 'kids', 'majors', 'looking', 'graduates', 'followers', 'number', 'darth', 'star', 'wars', 'legends', 'character', 'limit', 'profile', 'breaking', 'couple', 'happens', 'emotionally', 'male', 'female', 'affected', 'boy', 'examples', 'products', 'oil', 'career', 'grade', 'b', 'preparation', 'program', 'rbi', 'play', 'regular', 'player', 'sad', 've', 'dish', 'tax', 'officers', 'difficult', 'apply', 'programs', 'senior', 'friend', 'true', 'attracted', 'songs', 'dance', 'suddenly', 'blocked', 'gmail', 'remember', 'password', 'recovery', 'email', 'longer', 'alive', 'recover', 'ways', 'download', 'content', 'single', 'store', 'registration', 'normal', 'dark', 'ring', 'inside', 'eye', 'causes', 'treated', 'harry', 'potter', 'book', 'child', 'bad', 'family', 'office', 'database', 'java', 'programming', 'language', 'computer', 'important', 'energy', 'produced', 'lightning', 'possible', 'review', 'performance', 'testing', 'cost', 'germany', 'come', 'lost', 'gain', 'enjoy', 'types', 'different', 'body', 'personality', 'disorder', 'autism', 'speak', 'english', 'helpful', 'quickbooks', 'auto', 'data', 'support', 'usa', 'richest', 'reach', 'level', 'fire', 'bullet', 'going', 'faster', 'sound', 'shot', 'death', 'occurs', 'prevent', 'cancer', 'log', 'account', 'telling', 'ip', 'address', 'device', 'selling', 'purpose', 'life', 'actually', 'muslims', 'model', 'illegal', 'right', 'happy', 'birthday', 'person', 'wish', 'open', 'commercial', 'fm', 'radio', 'station', 'city', 'procedure', 'zealand', 'technical', 'employees', 'sales', 'high', 'salary', 'income', 'jobs', 'field', 'psychology', 'paying', 'height', 'major', 'effects', 'cambodia', 'earthquake', 'difference', 'trust', 'gaming', 'laptop', 'inr', 'proving', 'reference', 'class', 'chemistry', 'cbse', 'board', 'national', 'technology', 'social', 'lessons', 'father', 'leave', 'romantic', 'movies', 'movie', 'seen', 'real', 'painting', 'printing', 'work', 'product', 'manager', 'early', 'join', 'management', 'general', 'based', 'software', 'android', 'war', 'pakistan', 'air', 'attack', 'nuclear', 'line', 'speech', 'react', 'union', 'possibly', 'american', 'novel', 'novels', 'forgot', 'recent', 'results', 'higher', 'rest', 'short', 'heard', 'whatsapp', 'love', 'competitive', 'hiring', 'bank', 't', 'search', 'traffic', 'organic', 'vs', 'page', 'second', 'watch', 'powerful', 'country', 'world', 'pain', 'low', 'heat', 'ice', 'china', 'food', 'chinese', 'taking', 'advantage', 'cry', 'stick', 'pictures', 'teen', 'women', 'allow', 'age', 'differ', 'similar', 'basic', 'tools', 'exist', 'donot', 'intelligent', 'tooth', 'dry', 'applying', 'question', 'marked', 'needing', 'need', 'state', 'buffer', 'win', 'highest', 'electrical', 'charge', 'hold', 'greatest', 'mystery', 'universe', 'alternative', 'machine', 'learning', 'create', 'set', 'block', 'un', 'future', 'budget', 'meaning', 'vitamin', 'c', 'cause', 'disease', 'glass', 'pay', 'scale', 'letter', 'access', 'ancient', 'party', 'successful', 'course', 'register', 'domain', 'site', 'older', 'men', 'young', 'strongest', 'structure', 'matter', 'humanity', 'evil', 'transport', 'cells', 'hair', 'head', 'loose', 'mass', 'north', 'korea', 'websites', 'diesel', 'petrol', 'diet', 'growing', 'black', 'hole', 'correct', 'says', 'talking', 'quote', 'currently', 'offer', 'stock', 'options', 'uber', 'children', 'hire', 'hours', 'hour', 'presentation', 'days', 'late', 'dog', 'bite', 'britain', 'standard', 'given', 'afraid', 'working', 'red', 'season', 'lose', 'tall', 'forget', 'wife', 'killed', 'release', 'issue', 'switch', 'canon', 'price', 'members', 'answer', 'answering', 'joke', 'biggest', 'got', 'london', 'pm', 'advice', 'saving', 'leaving', 'sell', 'having', 'kingdom', 'business', 'source', 'transfer', 'paypal', 'send', 'song', 'deep', 'rs', 'forward', 'engineering', 'suit', 'ex', 'past', 'hurt', 'attract', 'gross', 'payment', 'oldest', 'kerala', 'cities', 'confidence', 'relation', 'gods', 'draw', 'hindu', 'mythology', 'apple', 'music', 'spotify', 'fixed', 'fund', 'live', 'robert', 'al', 'actor', 'prefer', 'small', 'families', 'animals', 'humans', 'deleted', 'view', 'private', 'eyes', 'follow', 'able', 'companies', 'funding', 'check', 'history', 'phones', 'wifi', 'mobile', 'network', 'significance', 'battle', 'contrast', 'creative', 'college', 'admissions', 'essay', 'admission', 'officer', 'public', 'reading', 'cover', 'pursue', 'author', 'christian', 'start', 'hyderabad', 'lord', 'combination', 'courses', 'taken', 'seat', 'mac', 'facebook', 'pro', 'director', 'tv', 'shows', 'die', 'fluent', 'impact', 'paper', 'notes', 'estate', 'fastest', 'lectures', 'colleges', 'weeks', 'behavior', 'daily', 'development', 'hate', 'hillary', 'clinton', 'reasons', 'periods', 'expected', 'woman', 'care', 'cooking', 'especially', 'culture', 'lack', 'term', 'god', 'series', 'color', 'documents', 'shops', 'creativity', 'continue', 'presidential', 'campaign', 'democratic', 'candidate', 'serve', 'channels', 'doesnot', 'install', 'growth', 'engineers', 'advantages', 'benefits', 'objects', 'position', 'respect', 'drawing', 'fun', 'gpa', 'harvard', 'school', 'profitable', 'trade', 'binary', 'depression', 'ones', 'package', 'security', 'started', 'information', 'earn', 'sentences', 'word', 'home', 'wireless', 'drive', 'road', 'car', 'shell', 'linux', 'religion', 'perception', 'cognitive', 'tatkal', 'waiting', 'list', 'reservation', 'train', 'league', 'drinking', 'drink', 'lakes', 'wildlife', 'stars', 'adult', 'supporters', 'walking', 'promises', 'president', 'sold', 'worried', 'opinion', 'months', 'little', 'jump', 'minutes', 'test', 'gate', 'cs', 'stream', 'science', 'material', 'understanding', 'analysis', 'math', 'complete', 'begin', 'understand', 'algorithms', 'books', 'suitable', 'mix', 'balls', 'weight', 'ball', 'formed', 'man', 'signs', 'smart', 'playing', 'intelligence', 'created', 'infinite', 'expanding', 'potential', 'write', 'publish', 'flash', 'fast', 'large', 'period', 'bill', 'lives', 'common', 'exactly', 'mental', 'illness', 'manage', 'giving', 'blood', 'qualities', 'sea', 'bay', 'narendra', 'modi', 'prime', 'minister', 'eat', 'egg', 'tickets', 'ticket', 'core', 'con', 'resolutions', 'resolution', 'dream', 'dreams', 'marks', 'score', 'rank', 'minimum', 'room', 'persons', 'equal', 'broken', 'doctors', 'surgery', 'operation', 'knowledge', 'developing', 'apps', 'scratch', 'app', 'rich', 'rights', 'visiting', 'idea', 'texts', 'till', 'films', 'feature', 'strong', 'characters', 'wait', 'health', 'clothes', 'cotton', 'meat', 'taste', 'branded', 'happened', 'brand', 'mark', 'dead', 'river', 'havenot', 'miss', 'loved', 'travelling', 'quality', 'chocolate', 'cars', 'gold', 'coast', 'plan', 'entire', 'deal', 'fear', 'dying', 'reduce', 'screen', 'iphone', 'interesting', 'innovations', 'coming', 'funds', 'raise', 'effect', 'banning', 'ban', 'eccentric', 'episode', 'suck', 'news', 'posted', 'media', 'post', 'ads', 'beer', 'construction', 'acquire', 'positive', 'hollywood', 'kolkata', 'creating', 'fill', 'solution', 'self', 'break', 'jio', 'rules', 'gap', 'explain', 'sweet', 'birth', 'saying', 'nice', 'countries', 'finance', 'design', 'system', 'request', 'meet', 'goes', 'banks', 'note', 'implications', 'currency', 'economy', 'dogs', 'considered', 'cheated', 'relationship', 'turn', 'user', 'd', 'text', 'concentration', 'sent', 'chance', 'german', 'pet', 'habit', 'rock', 'ok', 'husband', 'stay', 'cheating', 'partner', 'consent', 'require', 'cse', 'iit', 'firm', 'reason', 'emotional', 'facts', 'hard', 'fake', 'location', 'running', 'quit', 'smoking', 'actress', 'relationships', 'popular', 'date', 'table', 'crack', 'calls', 'j', 'shopping', 'classes', 'tamil', 'message', 'contacts', 'written', 'uk', 'interested', 'sector', 'required', 'medical', 'doctor', 'industries', 'racist', 'differences', 'roots', 'function', 'zero', 'devices', 'add', 'speaker', 'effective', 'election', 'donald', 'snow', 'jon', 'theories', 'house', 'called', 'nadu', 'feed', 'anxiety', 'sign', 'stomach', 'university', 'degree', 'mechanical', 'maintain', 'peace', 'mind', 'build', 'reliable', 'treat', 'cure', 'available', 'useful', 'motivated', 'assessment', 'firms', 'industry', 'discharge', 'pregnancy', 'scientists', 'candidates', 'style', 'wedding', 'western', 'condition', 'bed', 'offshore', 'khan', 'help', 'title', 'gift', 'mom', 'hit', 'freedom', 'middle', 'found', 'changing', 'pass', 'drug', 'projects', 'kind', 'cricket', 'players', 'tea', 'entry', 'mit', 'requirements', 'crush', 'dating', 'likes', 'according', 'robots', 'existed', 'type', 'kg', 'summer', 'nights', 'million', 'regret', 'divorce', 'dna', 'cool', 'order', 'secret', 'training', 'comedy', 'fighting', 'graduation', 'watching', 'introduced', 'services', 'il', 'compared', 'relative', 'cell', 'sodium', 'spouse', 'rid', 'feeling', 'non', 'ac', 'island', 'described', 'tourist', 'attractions', 'healthy', 'meal', 'sore', 'ugc', 'net', 'literature', 'latest', 'protein', 'exchange', 'breakfast', 'coffee', 'designers', 'designer', 'israel', 'figure', 'fall', 'lee', 'favourite', 'film', 'governments', 'decision', 'euro', 'saltwater', 'candy', 'imported', 'enter', 'learned', 'iran', 'went', 'piano', 'natural', 'plus', 'g', 'id', 'adopted', 'certificate', 'replace', 'light', 'factors', 'main', 'platform', 'power', 'big', 'point', 'anymore', 'amazon', 'daniel', 'ek', 'phrase', 'weed', 'hand', 'police', 'considering', 'print', 'chicken', 'pizza', 'recipes', 'places', 'institutes', 'tennis', 'damage', 'connect', 'solutions', 'particular', 'atm', 'wrong', 'gravity', 'theory', 'interstellar', 'pilot', 'force', 'wake', 'sleep', 'successfully', 'climate', 'global', 'believe', 'exists', 'congress', 'starting', 'purchase', 'safe', 'pounds', 'pokémon', 'blue', 'improvement', 'needs', 'owns', 'nature', 'file', 'value', 'gandhi', 'chances', 'gym', 'morning', 'swimming', 'milk', 'tricks', 'education', 'image', 'highways', 'california', 'texas', 'space', 'physical', 'chemical', 'grow', 'programmer', 'iii', 'risk', 'foreign', 'crop', 'circles', 'generated', 'virus', 'certain', 'prospects', 'display', 'sites', 'sex', 'younger', 'macbook', 'sleeping', 'brain', 'techniques', 'server', 'recently', 'exercise', 'happening', 'cameras', 'words', 'biting', 'severe', 'foot', 'symptoms', 'recommend', 'visit', 'nepal', 'lines', 'tired', 'quickly', 'solid', 'placement', 'tests', 'known', 'writer', 'pen', 'realize', 'languages', 'ssc', 'delhi', 'demonetization', 'fact', 'problem', 'fusion', 'developed', 'capable', 'problems', 'face', 'version', 'cheap', 'engineer', 'works', 'option', 'developer', 'negative', 'attractive', 'trumps', 'phd', 'eating', 'anime', 'favorite', 'transaction', 'graduate', 'equity', 'particles', 'mutual', 'putin', 'writing', 'bang', 'changes', 'preparing', 'systems', 'abroad', 'solar', 'gb', 'ram', 'intel', 'mhz', 'methods', 'studies', 'relations', 'efficiently', 'playstation', 'european', 'basis', 'portable', 'british', 'living', 'research', 'earth', 'thinking', 'steel', 'held', 'ratio', 'huge', 'ground', 'straight', 'feet', 'jokes', 'stories', 'perfect', 'constant', 'benefit', 'slowly', 'boring', 'qualified', 'bollywood', 'celebrity', 'statement', 'told', 'prove', 'modern', 'changed', 'produce', 'advanced', 'investment', 'sources', 'describe', 'lots', 'interests', 'camera', 'fly', 'barack', 'piece', 'unusual', 'aspects', 'politics', 'singapore', 'respond', 'boss', 'fired', 'okay', 'conditions', 'loves', 'somebody', 'steps', 'develop', 'presence', 'proof', 'mathematics', 'credit', 'baby', 'base', 'supreme', 'courts', 'anthem', 'cinema', 'elected', 'related', 'production', 'finally', 'agree', 'including', 'left', 'embedded', 'spoken', 'speaking', 'gay', 'w', 'percent', 'ideas', 'burn', 'yes', 'multiple', 'stress', 'decent', 'scientific', 'allowed', 'professional', 'sydney', 'instagram', 'anger', 'raw', 'electronic', 'role', 'present', 'cup', 'coding', 'stamps', 'example', 'insurance', 'applications', 'army', 'removal', 'parents', 'group', 'individual', 'pursuing', 'dishes', 'close', 'maximum', 'seats', 'protect', 'beautiful', 'uses', 'banned', 'photos', 'photo', 'truth', 'clean', 'following', 'turkey', 'asked', 'form', 'studying', 'worlds', 'legal', 'fbi', 'local', 'flow', 'typical', 'actual', 'banking', 'today', 'inventions', 'details', 'contact', 'horror', 'inches', 'trying', 'mexico', 'dangerous', 'amazing', 'reality', 'actors', 'size', 'building', 'teacher', 'teachers', 'west', 'paint', 'exams', 'letters', 'sentence', 'babies', 'opera', 'paid', 'america', 'return', 'fantasy', 'properties', 'calculate', 'percentage', 'wales', 'dubai', 'gifts', 'algorithm', 'answers', 'caste', 'prices', 'property', 'john', 'tried', 'spin', 'x', 'rate', 'distance', 'guitar', 'extremely', 'weak', 'clear', 'jee', 'drop', 'entrance', 'cases', 'neural', 'networks', 'practice', 'update', 'track', 'bike', 'fashion', 'evidence', 'historical', 'jesus', 'existence', 'suggest', 'action', 'cash', 'winning', 'shift', 'plant', 'records', 'evolution', 'provide', 'cat', 'necessary', 'anal', 'charges', 'case', 'winter', 'weather', 'oh', 'stocks', 'skill', 'miles', 'safety', 'regulations', 'handling', 'proposed', 'nra', 'arizona', 'max', 'martial', 'later', 'claims', 'peoples', 'court', 'truly', 'area', 'involved', 'schools', 'vote', 'blind', 'vice', 'airline', 'names', 'permanently', 'needed', 'gre', 'personal', 'experiences', 'pollution', 'land', 'celebrate', 'terms', 'upgrade', 'windows', 'bit', 'famous', 'philosophy', 'sing', 'coaching', 'certification', 'center', 'received', 'updates', 'points', 'troops', 'sister', 'muslim', 'picture', 'comment', 'principle', 'visual', 'puppy', 'wearing', 'significant', 'situation', 'teach', 'treatment', 'sperm', 'penis', 'rates', 'shares', 'corruption', 'let', 'talk', 'custom', 'shoes', 'o', 'adobe', 'script', 'hardest', 'economic', 'football', 'taller', 'hot', 'stopped', 'businesses', 'result', 'simple', 'mumbai', 'magic', 'contract', 'voltage', 'fight', 'shadows', 'blog', 'removed', 'tata', 'broker', 'angry', 'consequences', 'kill', 'computers', 'moment', 'completing', 'domestic', 'human', 'practical', 'vacuum', 'virtual', 'bihar', 'determine', 'scope', 'supply', 'dollars', 'expensive', 'hong', 'drama', 'brexit', 'lock', 'policy', 'medals', 'affordable', 'areas', 'silicon', 'valley', 'australia', 'generally', 'wins', 'elections', 'mother', 'comfortably', 'animal', 'secretary', 'band', 'accounts', 'venezuela', 'microsoft', 'project', 'thoughts', 'awkward', 'messages', 'cards', 'define', 'commit', 'suicide', 'accidentally', 'pressure', 'twice', 'paranormal', 'died', 'heart', 'cope', 'sale', 'planet', 'convert', 'mentor', 'messenger', 'identify', 'speakers', 'art', 'remove', 'son', 'topics', 'specific', 'capacity', 'elements', 'decide', 'act', 'processor', 'license', 'event', 'investigation', 'topic', 'ms', 'hotel', 'unmarried', 'couples', 'harassment', 'staff', 'moral', 'proven', 'worst', 'hindi', 'everyday', 'constitution', 'document', 'key', 'pan', 'traits', 'added', 'goals', 'empire', 'retrieve', 'link', 'scientist', 'bruce', 'hip', 'inner', 'circle', 'flat', 'temperature', 'root', 'count', 'promote', 'colors', 'super', 'pregnant', 'subject', 'angel', 'independent', 'domains', 'brazil', 'unique', 'lot', 'transgender', 'named', 'dropped', 'total', 'browser', 'select', 'keyboard', 'aliens', 'seven', 'wisdom', 'teeth', 'clintons', 'background', 'vocabulary', 'poor', 'mr', 'native', 'fan', 'official', 'metro', 'audio', 'fat', 'acid', 'analyst', 'consider', 'choice', 'happiness', 'lead', 'loss', 'muscle', 'wear', 'seeing', 'channel', 'stand', 'driving', 'alcohol', 'therapy', 'county', 'scared', 'flight', 'queen', 'wine', 'stores', 'bigger', 'genetic', 'save', 'trip', 'battery', 'samsung', 'secure', 'leaves', 'climb', 'academy', 'sharma', 'mistake', 'impress', 'vision', 'panel', 'installation', 'provider', 'near', 'south', 'pronunciation', 'shop', 'floor', 'wall', 'criteria', 'papers', 'mains', 'democracy', 'liberal', 'rule', 'overcome', 'secrets', 'experienced', 'existing', 'bands', 'classic', 'pick', 'wanted', 'shield', 'canadian', 'spanish', 'conductor', 'memory', 'cookies', 'omegle', 'situations', 'strategy', 'economics', 'features', 'married', 'teenager', 'premium', 'quotes', 'skin', 'holes', 'emails', 'comes', 'addiction', 'drugs', 'shipping', 'didnot', 'campus', 'mba', 'earning', 'buying', 'destination', 'paris', 'parts', 'shower', 'territories', 'tech', 'ready', 'xbox', 'e', 'king', 'marry', 'rape', 'scars', 'logic', 'import', 'php', 'losing', 'week', 'visitor', 'bring', 'invited', 'france', 'measure', 'spend', 'cuisine', 'electronics', 'race', 'greater', 'sony', 'grammar', 'invented', 'equation', 'parties', 'meeting', 'embarrassing', 'russia', 'sa', 'anybody', 'june', 'identity', 'nato', 'failed', 'military', 'honda', 'quantum', 'gear', 'box', 'york', 'factor', 'ivy', 'financial', 'spot', 'fit', 'masturbation', 'childhood', 'decided', 'twitter', 'investors', 'backup', 'icloud', 'valid', 'malaysia', 'plastic', 'electric', 'bernie', 'sanders', 'won', 'error', 'handle', 'introduction', 'permanent', 'pair', 'library', 'cold', 'population', 'lyrics', 'fever', 'associated', 'tcs', 'bush', 'fix', 'introduce', 'networking', 'ii', 'emotions', 'sending', 'lower', 'discover', 'tough', 'warming', 'permit', 'listen', 'maybe', 'repair', 'incredibly', 'navy', 'lesser', 'member', 'assistant', 'eggs', 'plants', 'essential', 'stronger', 'iron', 'metal', 'politicians', 'stupid', 'direct', 'load', 'critical', 'yahoo', 'formula', 'capital', 'thought', 'designing', 'weird', 'hearing', 'deaf', 'drivers', 'expert', 'meter', 'visitors', 'notice', 'gps', 'chip', 'pokemon', 'lie', 'rental', 'interior', 'species', 'team', 'arguments', 'overall', 'departments', 'cm', 'penalty', 'alabama', 'success', 'restaurant', 'admitted', 'videos', 'boys', 'abuse', 'comfortable', 'recommended', 'chennai', 'internship', 'soap', 'viewed', 'galaxy', 'relevant', 'guatemala', 'offers', 'approach', 'dell', 'factory', 'arabic', 'century', 'uniform', 'n', 'appropriate', 'disadvantage', 'marine', 'industrial', 'leading', 'path', 'goods', 'harmful', 'zone', 'korean', 'restaurants', 'matrix', 'nearest', 'mm', 'fighters', 'widely', 'accepted', 'interest', 'england', 'terrorists', 'bomb', 'resources', 'wordpress', 'soon', 'half', 'generation', 'driver', 'cpu', 'marriage', 'caught', 'completed', 'equivalent', 'curb', 'electricity', 'issues', 'range', 'michael', 'copy', 'origin', 'sweat', 'phase', 'l', 'k', 'complex', 'demand', 'typing', 'galaxies', 'boost', 'communication', 'reaction', 'philippines', 'object', 'vehicle', 'balance', 'remote', 'directly', 'engine', 'extra', 'metals', 'singer', 'underwear', 'belly', 'button', 'ias', 'caused', 'studio', 'born', 'rice', 'highlands', 'liked', 'advertising', 'cycle', 'translate', 'shouldnot', 'led', 'park', 'touch', 'explanation', 'jersey', 'cats', 'wheel', 'r', 'round', 'enfield', 'forms', 'obsessed', 'pure', 'master', 'positions', 'ipod', 'conversation', 'desert', 'crew', 'motion', 'gurgaon', 'diploma', 'falling', 'located', 'johnson', 'dual', 'checking', 'inflation', 'deposit', 'weighted', 'launched', 'commerce', 'teenage', 'ecosystem', 'destroying', 'variable', 'san', 'francisco', 'angle', 'sql', 'throat', 'temperatures', 'sahara', 'external', 'procrastination', 'sikh', 'jews', 'bottle', 'automobile', 'naruto', 'definition', 'premier', 'isis', 'switched', 'evolved', 'saudi', 'arabia', 'met', 'birds', 'article', 'vol', 'washing']\n",
            "2086\n"
          ]
        }
      ]
    },
    {
      "cell_type": "code",
      "source": [
        "doc_ids, docs = get_texts(spell_checked_docs_file, 'doc_id', 'doc_text')\n",
        "query_ids, queries = get_texts(spell_checked_queries_file, 'query_id', 'query_text')\n",
        "\n",
        "query_id_idx_map = {query_ids[i]: i for i in range(len(query_ids))}\n",
        "doc_id_idx_map = {doc_ids[i]: i for i in range(len(doc_ids))}"
      ],
      "metadata": {
        "id": "22C0oTTPpFwr"
      },
      "execution_count": 67,
      "outputs": []
    },
    {
      "cell_type": "code",
      "source": [
        "print(query_id_idx_map)"
      ],
      "metadata": {
        "colab": {
          "base_uri": "https://localhost:8080/"
        },
        "id": "2W8_C62OyAgi",
        "outputId": "ab1c9aeb-98de-4fb1-d847-7d8d4676e9d7"
      },
      "execution_count": 68,
      "outputs": [
        {
          "output_type": "stream",
          "name": "stdout",
          "text": [
            "{'4584': 0, '6588': 1, '10113': 2, '7957': 3, '5498': 4, '7614': 5, '7301': 6, '4974': 7, '2615': 8, '8950': 9, '9658': 10, '2429': 11, '1803': 12, '318': 13, '6055': 14, '7841': 15, '9733': 16, '4874': 17, '2824': 18, '744': 19, '9889': 20, '7822': 21, '10024': 22, '4105': 23, '2791': 24, '7988': 25, '378': 26, '8808': 27, '11167': 28, '2757': 29, '7319': 30, '9294': 31, '5799': 32, '5647': 33, '8810': 34, '6483': 35, '3796': 36, '5040': 37, '6253': 38, '3076': 39, '9965': 40, '8456': 41, '9615': 42, '399': 43, '7372': 44, '1578': 45, '8831': 46, '3459': 47, '540': 48, '1956': 49, '3017': 50, '6209': 51, '10155': 52, '8055': 53, '3322': 54, '2658': 55, '6936': 56, '548': 57, '6276': 58, '609': 59, '1350': 60, '10188': 61, '2785': 62, '3521': 63, '9312': 64, '420': 65, '3959': 66, '2822': 67, '2145': 68, '2678': 69, '784': 70, '5162': 71, '7396': 72, '1248': 73, '7463': 74, '1453': 75, '8458': 76, '7222': 77, '5516': 78, '1992': 79, '9376': 80, '9214': 81, '11591': 82, '4356': 83, '5851': 84, '2661': 85, '6957': 86, '12584': 87, '8306': 88, '6244': 89, '8482': 90, '858': 91, '7105': 92, '1166': 93, '9340': 94, '975': 95, '379': 96, '1164': 97, '12508': 98, '1079': 99}\n"
          ]
        }
      ]
    },
    {
      "cell_type": "markdown",
      "source": [
        "Vectorize documents and queries, and find cosine similarities for each query with the documents"
      ],
      "metadata": {
        "id": "3F6cfubesRxn"
      }
    },
    {
      "cell_type": "code",
      "source": [
        "vectorizer = TfidfVectorizer(vocabulary=vocabulary)\n",
        "\n",
        "# Create tf idf vectors for the documents and queries\n",
        "doc_vectors = vectorizer.fit_transform(docs)\n",
        "query_vectors = vectorizer.transform(queries)"
      ],
      "metadata": {
        "id": "CMXPyt65sbnc"
      },
      "execution_count": 35,
      "outputs": []
    },
    {
      "cell_type": "code",
      "source": [
        "similarities = cosine_similarity(query_vectors, doc_vectors)"
      ],
      "metadata": {
        "id": "zZVlHYxRsfBS"
      },
      "execution_count": 38,
      "outputs": []
    },
    {
      "cell_type": "code",
      "source": [
        "# find top 5 and top 10 similar document indices for each query\n",
        "top_5_indices = np.argsort(similarities, axis=1)[:, -5:]\n",
        "top_10_indices = np.argsort(similarities, axis=1)[:, -10:]\n",
        "\n",
        "# for each query, store the top 5 and top 10 similar document ids\n",
        "top_5_ids = [[doc_ids[i] for i in indices] for indices in top_5_indices]\n",
        "top_10_ids = [[doc_ids[i] for i in indices] for indices in top_10_indices]\n",
        "top_ids = [[i[-1]] for i in top_5_ids]"
      ],
      "metadata": {
        "colab": {
          "base_uri": "https://localhost:8080/"
        },
        "id": "hqaIYiMxsn0x",
        "outputId": "d88b2c9a-f8ee-4615-c8cf-17ced9045e07"
      },
      "execution_count": 66,
      "outputs": [
        {
          "output_type": "stream",
          "name": "stdout",
          "text": [
            "['1377']\n",
            "['4412', '2603', '45', '2366', '1377']\n",
            "['7887', '9179', '4583', '5546', '1782', '4412', '2603', '45', '2366', '1377']\n"
          ]
        }
      ]
    },
    {
      "cell_type": "code",
      "source": [
        "relevant_docs = get_relevant_docs(qdrels_file)"
      ],
      "metadata": {
        "colab": {
          "base_uri": "https://localhost:8080/"
        },
        "id": "sHni6hNqwuUI",
        "outputId": "695064ac-894e-495b-ead5-79d4e26f6fae"
      },
      "execution_count": 75,
      "outputs": [
        {
          "output_type": "stream",
          "name": "stdout",
          "text": [
            "100\n"
          ]
        }
      ]
    },
    {
      "cell_type": "code",
      "source": [
        "prec_1 = precision_k_score(query_id_idx_map, relevant_docs, top_ids, 1)\n",
        "prec_5 = precision_k_score(query_id_idx_map, relevant_docs, top_5_ids, 5)\n",
        "prec_10 = precision_k_score(query_id_idx_map, relevant_docs, top_10_ids, 10)\n",
        "\n",
        "print(f\"Average precision at 1: {round(prec_1 * 100, 2)} %\")\n",
        "print(f\"Average precision at 5: {round(prec_5 * 100, 2)} %\")\n",
        "print(f\"Average precision at 10: {round(prec_10 * 100, 2)} %\")"
      ],
      "metadata": {
        "colab": {
          "base_uri": "https://localhost:8080/"
        },
        "id": "M-AMHjh4y_Ad",
        "outputId": "d0d9423d-ef68-4d7f-d9f7-9f6f66aabfbd"
      },
      "execution_count": 80,
      "outputs": [
        {
          "output_type": "stream",
          "name": "stdout",
          "text": [
            "Average precision at 1: 51.0 %\n",
            "Average precision at 5: 16.2 %\n",
            "Average precision at 10: 8.7 %\n"
          ]
        }
      ]
    },
    {
      "cell_type": "markdown",
      "source": [
        "## Task 2"
      ],
      "metadata": {
        "id": "V-fkgWra68EA"
      }
    },
    {
      "cell_type": "markdown",
      "source": [
        "### Stemming\n",
        "\n",
        "Using nltk's porter stemmer here since spacy does not provide a stemmer"
      ],
      "metadata": {
        "id": "EuREmYXY7kHk"
      }
    },
    {
      "cell_type": "code",
      "source": [
        "ps = PorterStemmer()"
      ],
      "metadata": {
        "id": "mvlGOo2869b6"
      },
      "execution_count": 87,
      "outputs": []
    },
    {
      "cell_type": "code",
      "source": [
        "stemmed_vocabulary = get_stemmed_vocabulary(spell_checked_docs_file, \"doc_text\")\n",
        "\n",
        "print(stemmed_vocabulary)\n",
        "print(len(stemmed_vocabulary))"
      ],
      "metadata": {
        "colab": {
          "base_uri": "https://localhost:8080/"
        },
        "id": "t5lTj9GoF1L1",
        "outputId": "a0894fa6-1f75-48cc-96f8-c2437954b440"
      },
      "execution_count": 91,
      "outputs": [
        {
          "output_type": "stream",
          "name": "stdout",
          "text": [
            "['step', 'invest', 'share', 'market', 'india', 'story', 'happen', 'indian', 'government', 'increase', 'speed', 'internet', 'connection', 'increased', 'mentally', 'solve', 'find', 'water', 'sugar', 'salt', 'carbon', 'survive', 'moon', 'sun', 'm', 'buy', 'active', 'far', 'phone', 'video', 'games', 'good', 'great', 'use', 'instead', 'company', 'code', 'files', 'free', 'method', 'atoms', 'things', 'tell', 'components', 'read', 'youtube', 'comments', 'physics', 'easy', 'learn', 'sexual', 'experience', 'like', 'laws', 'change', 'status', 'student', 'visa', 'green', 'card', 'compare', 'immigration', 'canada', 'japan', 'trump', 'presidency', 'mean', 'current', 'international', 'masters', 'students', 'eu', 'affect', 'planning', 'study', 'means', 'girls', 'want', 'friends', 'guy', 'guys', 'feel', 'girl', 'quora', 'users', 'questions', 'answered', 'google', 'people', 'ask', 'easily', 'best', 'digital', 'marketing', 'bangladesh', 'institute', 'look', 'white', 'bombs', 's', 'causing', 'jealous', 'avoid', 'hp', 'chart', 'time', 'numbers', 'times', 'day', 'hands', 'tips', 'making', 'job', 'interview', 'process', 'medicine', 'web', 'application', 'framework', 'society', 'place', 'importance', 'sports', 'way', 'money', 'online', 'prepare', 'final', 'law', 'know', 'completely', 'exam', 'thing', 'better', 'despite', 'knowing', 'special', 'nose', 'gets', 'cut', 'night', 'getting', 'stuck', 'game', 'likely', 'united', 'states', 'accept', 'etc', 'citizens', 'political', 'views', 'average', 'gas', 'molecules', 'determined', 'travel', 'website', 'spain', 'think', 'obama', 'try', 'guns', 'away', 'gun', 'control', 'improve', 'skills', 'years', 'year', 'old', 'billionaire', 'girlfriend', 'asks', 'boyfriend', 'choose', 'makes', 'reply', 'said', 'end', 'feelings', 'wants', 'upsc', 'civil', 'service', 'eagle', 'stop', 'expect', 'mail', 'month', 'trading', 'kid', 'worth', 'long', 'run', 'bored', 'universities', 'recruit', 'new', 'kids', 'majors', 'looking', 'graduates', 'followers', 'number', 'darth', 'star', 'wars', 'legends', 'character', 'limit', 'profile', 'breaking', 'couple', 'happens', 'emotionally', 'male', 'female', 'affected', 'boy', 'examples', 'products', 'oil', 'career', 'grade', 'b', 'preparation', 'program', 'rbi', 'play', 'regular', 'player', 'sad', 've', 'dish', 'tax', 'officers', 'difficult', 'apply', 'programs', 'senior', 'friend', 'true', 'attracted', 'songs', 'dance', 'suddenly', 'blocked', 'gmail', 'remember', 'password', 'recovery', 'email', 'longer', 'alive', 'recover', 'ways', 'download', 'content', 'single', 'store', 'registration', 'normal', 'dark', 'ring', 'inside', 'eye', 'causes', 'treated', 'harry', 'potter', 'book', 'child', 'bad', 'family', 'office', 'database', 'java', 'programming', 'language', 'computer', 'important', 'energy', 'produced', 'lightning', 'possible', 'review', 'performance', 'testing', 'cost', 'germany', 'come', 'lost', 'gain', 'enjoy', 'types', 'different', 'body', 'personality', 'disorder', 'autism', 'speak', 'english', 'helpful', 'quickbooks', 'auto', 'data', 'support', 'usa', 'richest', 'reach', 'level', 'fire', 'bullet', 'going', 'faster', 'sound', 'shot', 'death', 'occurs', 'prevent', 'cancer', 'log', 'account', 'telling', 'ip', 'address', 'device', 'selling', 'purpose', 'life', 'actually', 'muslims', 'model', 'illegal', 'right', 'happy', 'birthday', 'person', 'wish', 'open', 'commercial', 'fm', 'radio', 'station', 'city', 'procedure', 'zealand', 'technical', 'employees', 'sales', 'high', 'salary', 'income', 'jobs', 'field', 'psychology', 'paying', 'height', 'major', 'effects', 'cambodia', 'earthquake', 'difference', 'trust', 'gaming', 'laptop', 'inr', 'proving', 'reference', 'class', 'chemistry', 'cbse', 'board', 'national', 'technology', 'social', 'lessons', 'father', 'leave', 'romantic', 'movies', 'movie', 'seen', 'real', 'painting', 'printing', 'work', 'product', 'manager', 'early', 'join', 'management', 'general', 'based', 'software', 'android', 'war', 'pakistan', 'air', 'attack', 'nuclear', 'line', 'speech', 'react', 'union', 'possibly', 'american', 'novel', 'novels', 'forgot', 'recent', 'results', 'higher', 'rest', 'short', 'heard', 'whatsapp', 'love', 'competitive', 'hiring', 'bank', 't', 'search', 'traffic', 'organic', 'vs', 'page', 'second', 'watch', 'powerful', 'country', 'world', 'pain', 'low', 'heat', 'ice', 'china', 'food', 'chinese', 'taking', 'advantage', 'cry', 'stick', 'pictures', 'teen', 'women', 'allow', 'age', 'differ', 'similar', 'basic', 'tools', 'exist', 'donot', 'intelligent', 'tooth', 'dry', 'applying', 'question', 'marked', 'needing', 'need', 'state', 'buffer', 'win', 'highest', 'electrical', 'charge', 'hold', 'greatest', 'mystery', 'universe', 'alternative', 'machine', 'learning', 'create', 'set', 'block', 'un', 'future', 'budget', 'meaning', 'vitamin', 'c', 'cause', 'disease', 'glass', 'pay', 'scale', 'letter', 'access', 'ancient', 'party', 'successful', 'course', 'register', 'domain', 'site', 'older', 'men', 'young', 'strongest', 'structure', 'matter', 'humanity', 'evil', 'transport', 'cells', 'hair', 'head', 'loose', 'mass', 'north', 'korea', 'websites', 'diesel', 'petrol', 'diet', 'growing', 'black', 'hole', 'correct', 'says', 'talking', 'quote', 'currently', 'offer', 'stock', 'options', 'uber', 'children', 'hire', 'hours', 'hour', 'presentation', 'days', 'late', 'dog', 'bite', 'britain', 'standard', 'given', 'afraid', 'working', 'red', 'season', 'lose', 'tall', 'forget', 'wife', 'killed', 'release', 'issue', 'switch', 'canon', 'price', 'members', 'answer', 'answering', 'joke', 'biggest', 'got', 'london', 'pm', 'advice', 'saving', 'leaving', 'sell', 'having', 'kingdom', 'business', 'source', 'transfer', 'paypal', 'send', 'song', 'deep', 'rs', 'forward', 'engineering', 'suit', 'ex', 'past', 'hurt', 'attract', 'gross', 'payment', 'oldest', 'kerala', 'cities', 'confidence', 'relation', 'gods', 'draw', 'hindu', 'mythology', 'apple', 'music', 'spotify', 'fixed', 'fund', 'live', 'robert', 'al', 'actor', 'prefer', 'small', 'families', 'animals', 'humans', 'deleted', 'view', 'private', 'eyes', 'follow', 'able', 'companies', 'funding', 'check', 'history', 'phones', 'wifi', 'mobile', 'network', 'significance', 'battle', 'contrast', 'creative', 'college', 'admissions', 'essay', 'admission', 'officer', 'public', 'reading', 'cover', 'pursue', 'author', 'christian', 'start', 'hyderabad', 'lord', 'combination', 'courses', 'taken', 'seat', 'mac', 'facebook', 'pro', 'director', 'tv', 'shows', 'die', 'fluent', 'impact', 'paper', 'notes', 'estate', 'fastest', 'lectures', 'colleges', 'weeks', 'behavior', 'daily', 'development', 'hate', 'hillary', 'clinton', 'reasons', 'periods', 'expected', 'woman', 'care', 'cooking', 'especially', 'culture', 'lack', 'term', 'god', 'series', 'color', 'documents', 'shops', 'creativity', 'continue', 'presidential', 'campaign', 'democratic', 'candidate', 'serve', 'channels', 'doesnot', 'install', 'growth', 'engineers', 'advantages', 'benefits', 'objects', 'position', 'respect', 'drawing', 'fun', 'gpa', 'harvard', 'school', 'profitable', 'trade', 'binary', 'depression', 'ones', 'package', 'security', 'started', 'information', 'earn', 'sentences', 'word', 'home', 'wireless', 'drive', 'road', 'car', 'shell', 'linux', 'religion', 'perception', 'cognitive', 'tatkal', 'waiting', 'list', 'reservation', 'train', 'league', 'drinking', 'drink', 'lakes', 'wildlife', 'stars', 'adult', 'supporters', 'walking', 'promises', 'president', 'sold', 'worried', 'opinion', 'months', 'little', 'jump', 'minutes', 'test', 'gate', 'cs', 'stream', 'science', 'material', 'understanding', 'analysis', 'math', 'complete', 'begin', 'understand', 'algorithms', 'books', 'suitable', 'mix', 'balls', 'weight', 'ball', 'formed', 'man', 'signs', 'smart', 'playing', 'intelligence', 'created', 'infinite', 'expanding', 'potential', 'write', 'publish', 'flash', 'fast', 'large', 'period', 'bill', 'lives', 'common', 'exactly', 'mental', 'illness', 'manage', 'giving', 'blood', 'qualities', 'sea', 'bay', 'narendra', 'modi', 'prime', 'minister', 'eat', 'egg', 'tickets', 'ticket', 'core', 'con', 'resolutions', 'resolution', 'dream', 'dreams', 'marks', 'score', 'rank', 'minimum', 'room', 'persons', 'equal', 'broken', 'doctors', 'surgery', 'operation', 'knowledge', 'developing', 'apps', 'scratch', 'app', 'rich', 'rights', 'visiting', 'idea', 'texts', 'till', 'films', 'feature', 'strong', 'characters', 'wait', 'health', 'clothes', 'cotton', 'meat', 'taste', 'branded', 'happened', 'brand', 'mark', 'dead', 'river', 'havenot', 'miss', 'loved', 'travelling', 'quality', 'chocolate', 'cars', 'gold', 'coast', 'plan', 'entire', 'deal', 'fear', 'dying', 'reduce', 'screen', 'iphone', 'interesting', 'innovations', 'coming', 'funds', 'raise', 'effect', 'banning', 'ban', 'eccentric', 'episode', 'suck', 'news', 'posted', 'media', 'post', 'ads', 'beer', 'construction', 'acquire', 'positive', 'hollywood', 'kolkata', 'creating', 'fill', 'solution', 'self', 'break', 'jio', 'rules', 'gap', 'explain', 'sweet', 'birth', 'saying', 'nice', 'countries', 'finance', 'design', 'system', 'request', 'meet', 'goes', 'banks', 'note', 'implications', 'currency', 'economy', 'dogs', 'considered', 'cheated', 'relationship', 'turn', 'user', 'd', 'text', 'concentration', 'sent', 'chance', 'german', 'pet', 'habit', 'rock', 'ok', 'husband', 'stay', 'cheating', 'partner', 'consent', 'require', 'cse', 'iit', 'firm', 'reason', 'emotional', 'facts', 'hard', 'fake', 'location', 'running', 'quit', 'smoking', 'actress', 'relationships', 'popular', 'date', 'table', 'crack', 'calls', 'j', 'shopping', 'classes', 'tamil', 'message', 'contacts', 'written', 'uk', 'interested', 'sector', 'required', 'medical', 'doctor', 'industries', 'racist', 'differences', 'roots', 'function', 'zero', 'devices', 'add', 'speaker', 'effective', 'election', 'donald', 'snow', 'jon', 'theories', 'house', 'called', 'nadu', 'feed', 'anxiety', 'sign', 'stomach', 'university', 'degree', 'mechanical', 'maintain', 'peace', 'mind', 'build', 'reliable', 'treat', 'cure', 'available', 'useful', 'motivated', 'assessment', 'firms', 'industry', 'discharge', 'pregnancy', 'scientists', 'candidates', 'style', 'wedding', 'western', 'condition', 'bed', 'offshore', 'khan', 'help', 'title', 'gift', 'mom', 'hit', 'freedom', 'middle', 'found', 'changing', 'pass', 'drug', 'projects', 'kind', 'cricket', 'players', 'tea', 'entry', 'mit', 'requirements', 'crush', 'dating', 'likes', 'according', 'robots', 'existed', 'type', 'kg', 'summer', 'nights', 'million', 'regret', 'divorce', 'dna', 'cool', 'order', 'secret', 'training', 'comedy', 'fighting', 'graduation', 'watching', 'introduced', 'services', 'il', 'compared', 'relative', 'cell', 'sodium', 'spouse', 'rid', 'feeling', 'non', 'ac', 'island', 'described', 'tourist', 'attractions', 'healthy', 'meal', 'sore', 'ugc', 'net', 'literature', 'latest', 'protein', 'exchange', 'breakfast', 'coffee', 'designers', 'designer', 'israel', 'figure', 'fall', 'lee', 'favourite', 'film', 'governments', 'decision', 'euro', 'saltwater', 'candy', 'imported', 'enter', 'learned', 'iran', 'went', 'piano', 'natural', 'plus', 'g', 'id', 'adopted', 'certificate', 'replace', 'light', 'factors', 'main', 'platform', 'power', 'big', 'point', 'anymore', 'amazon', 'daniel', 'ek', 'phrase', 'weed', 'hand', 'police', 'considering', 'print', 'chicken', 'pizza', 'recipes', 'places', 'institutes', 'tennis', 'damage', 'connect', 'solutions', 'particular', 'atm', 'wrong', 'gravity', 'theory', 'interstellar', 'pilot', 'force', 'wake', 'sleep', 'successfully', 'climate', 'global', 'believe', 'exists', 'congress', 'starting', 'purchase', 'safe', 'pounds', 'pokémon', 'blue', 'improvement', 'needs', 'owns', 'nature', 'file', 'value', 'gandhi', 'chances', 'gym', 'morning', 'swimming', 'milk', 'tricks', 'education', 'image', 'highways', 'california', 'texas', 'space', 'physical', 'chemical', 'grow', 'programmer', 'iii', 'risk', 'foreign', 'crop', 'circles', 'generated', 'virus', 'certain', 'prospects', 'display', 'sites', 'sex', 'younger', 'macbook', 'sleeping', 'brain', 'techniques', 'server', 'recently', 'exercise', 'happening', 'cameras', 'words', 'biting', 'severe', 'foot', 'symptoms', 'recommend', 'visit', 'nepal', 'lines', 'tired', 'quickly', 'solid', 'placement', 'tests', 'known', 'writer', 'pen', 'realize', 'languages', 'ssc', 'delhi', 'demonetization', 'fact', 'problem', 'fusion', 'developed', 'capable', 'problems', 'face', 'version', 'cheap', 'engineer', 'works', 'option', 'developer', 'negative', 'attractive', 'trumps', 'phd', 'eating', 'anime', 'favorite', 'transaction', 'graduate', 'equity', 'particles', 'mutual', 'putin', 'writing', 'bang', 'changes', 'preparing', 'systems', 'abroad', 'solar', 'gb', 'ram', 'intel', 'mhz', 'methods', 'studies', 'relations', 'efficiently', 'playstation', 'european', 'basis', 'portable', 'british', 'living', 'research', 'earth', 'thinking', 'steel', 'held', 'ratio', 'huge', 'ground', 'straight', 'feet', 'jokes', 'stories', 'perfect', 'constant', 'benefit', 'slowly', 'boring', 'qualified', 'bollywood', 'celebrity', 'statement', 'told', 'prove', 'modern', 'changed', 'produce', 'advanced', 'investment', 'sources', 'describe', 'lots', 'interests', 'camera', 'fly', 'barack', 'piece', 'unusual', 'aspects', 'politics', 'singapore', 'respond', 'boss', 'fired', 'okay', 'conditions', 'loves', 'somebody', 'steps', 'develop', 'presence', 'proof', 'mathematics', 'credit', 'baby', 'base', 'supreme', 'courts', 'anthem', 'cinema', 'elected', 'related', 'production', 'finally', 'agree', 'including', 'left', 'embedded', 'spoken', 'speaking', 'gay', 'w', 'percent', 'ideas', 'burn', 'yes', 'multiple', 'stress', 'decent', 'scientific', 'allowed', 'professional', 'sydney', 'instagram', 'anger', 'raw', 'electronic', 'role', 'present', 'cup', 'coding', 'stamps', 'example', 'insurance', 'applications', 'army', 'removal', 'parents', 'group', 'individual', 'pursuing', 'dishes', 'close', 'maximum', 'seats', 'protect', 'beautiful', 'uses', 'banned', 'photos', 'photo', 'truth', 'clean', 'following', 'turkey', 'asked', 'form', 'studying', 'worlds', 'legal', 'fbi', 'local', 'flow', 'typical', 'actual', 'banking', 'today', 'inventions', 'details', 'contact', 'horror', 'inches', 'trying', 'mexico', 'dangerous', 'amazing', 'reality', 'actors', 'size', 'building', 'teacher', 'teachers', 'west', 'paint', 'exams', 'letters', 'sentence', 'babies', 'opera', 'paid', 'america', 'return', 'fantasy', 'properties', 'calculate', 'percentage', 'wales', 'dubai', 'gifts', 'algorithm', 'answers', 'caste', 'prices', 'property', 'john', 'tried', 'spin', 'x', 'rate', 'distance', 'guitar', 'extremely', 'weak', 'clear', 'jee', 'drop', 'entrance', 'cases', 'neural', 'networks', 'practice', 'update', 'track', 'bike', 'fashion', 'evidence', 'historical', 'jesus', 'existence', 'suggest', 'action', 'cash', 'winning', 'shift', 'plant', 'records', 'evolution', 'provide', 'cat', 'necessary', 'anal', 'charges', 'case', 'winter', 'weather', 'oh', 'stocks', 'skill', 'miles', 'safety', 'regulations', 'handling', 'proposed', 'nra', 'arizona', 'max', 'martial', 'later', 'claims', 'peoples', 'court', 'truly', 'area', 'involved', 'schools', 'vote', 'blind', 'vice', 'airline', 'names', 'permanently', 'needed', 'gre', 'personal', 'experiences', 'pollution', 'land', 'celebrate', 'terms', 'upgrade', 'windows', 'bit', 'famous', 'philosophy', 'sing', 'coaching', 'certification', 'center', 'received', 'updates', 'points', 'troops', 'sister', 'muslim', 'picture', 'comment', 'principle', 'visual', 'puppy', 'wearing', 'significant', 'situation', 'teach', 'treatment', 'sperm', 'penis', 'rates', 'shares', 'corruption', 'let', 'talk', 'custom', 'shoes', 'o', 'adobe', 'script', 'hardest', 'economic', 'football', 'taller', 'hot', 'stopped', 'businesses', 'result', 'simple', 'mumbai', 'magic', 'contract', 'voltage', 'fight', 'shadows', 'blog', 'removed', 'tata', 'broker', 'angry', 'consequences', 'kill', 'computers', 'moment', 'completing', 'domestic', 'human', 'practical', 'vacuum', 'virtual', 'bihar', 'determine', 'scope', 'supply', 'dollars', 'expensive', 'hong', 'drama', 'brexit', 'lock', 'policy', 'medals', 'affordable', 'areas', 'silicon', 'valley', 'australia', 'generally', 'wins', 'elections', 'mother', 'comfortably', 'animal', 'secretary', 'band', 'accounts', 'venezuela', 'microsoft', 'project', 'thoughts', 'awkward', 'messages', 'cards', 'define', 'commit', 'suicide', 'accidentally', 'pressure', 'twice', 'paranormal', 'died', 'heart', 'cope', 'sale', 'planet', 'convert', 'mentor', 'messenger', 'identify', 'speakers', 'art', 'remove', 'son', 'topics', 'specific', 'capacity', 'elements', 'decide', 'act', 'processor', 'license', 'event', 'investigation', 'topic', 'ms', 'hotel', 'unmarried', 'couples', 'harassment', 'staff', 'moral', 'proven', 'worst', 'hindi', 'everyday', 'constitution', 'document', 'key', 'pan', 'traits', 'added', 'goals', 'empire', 'retrieve', 'link', 'scientist', 'bruce', 'hip', 'inner', 'circle', 'flat', 'temperature', 'root', 'count', 'promote', 'colors', 'super', 'pregnant', 'subject', 'angel', 'independent', 'domains', 'brazil', 'unique', 'lot', 'transgender', 'named', 'dropped', 'total', 'browser', 'select', 'keyboard', 'aliens', 'seven', 'wisdom', 'teeth', 'clintons', 'background', 'vocabulary', 'poor', 'mr', 'native', 'fan', 'official', 'metro', 'audio', 'fat', 'acid', 'analyst', 'consider', 'choice', 'happiness', 'lead', 'loss', 'muscle', 'wear', 'seeing', 'channel', 'stand', 'driving', 'alcohol', 'therapy', 'county', 'scared', 'flight', 'queen', 'wine', 'stores', 'bigger', 'genetic', 'save', 'trip', 'battery', 'samsung', 'secure', 'leaves', 'climb', 'academy', 'sharma', 'mistake', 'impress', 'vision', 'panel', 'installation', 'provider', 'near', 'south', 'pronunciation', 'shop', 'floor', 'wall', 'criteria', 'papers', 'mains', 'democracy', 'liberal', 'rule', 'overcome', 'secrets', 'experienced', 'existing', 'bands', 'classic', 'pick', 'wanted', 'shield', 'canadian', 'spanish', 'conductor', 'memory', 'cookies', 'omegle', 'situations', 'strategy', 'economics', 'features', 'married', 'teenager', 'premium', 'quotes', 'skin', 'holes', 'emails', 'comes', 'addiction', 'drugs', 'shipping', 'didnot', 'campus', 'mba', 'earning', 'buying', 'destination', 'paris', 'parts', 'shower', 'territories', 'tech', 'ready', 'xbox', 'e', 'king', 'marry', 'rape', 'scars', 'logic', 'import', 'php', 'losing', 'week', 'visitor', 'bring', 'invited', 'france', 'measure', 'spend', 'cuisine', 'electronics', 'race', 'greater', 'sony', 'grammar', 'invented', 'equation', 'parties', 'meeting', 'embarrassing', 'russia', 'sa', 'anybody', 'june', 'identity', 'nato', 'failed', 'military', 'honda', 'quantum', 'gear', 'box', 'york', 'factor', 'ivy', 'financial', 'spot', 'fit', 'masturbation', 'childhood', 'decided', 'twitter', 'investors', 'backup', 'icloud', 'valid', 'malaysia', 'plastic', 'electric', 'bernie', 'sanders', 'won', 'error', 'handle', 'introduction', 'permanent', 'pair', 'library', 'cold', 'population', 'lyrics', 'fever', 'associated', 'tcs', 'bush', 'fix', 'introduce', 'networking', 'ii', 'emotions', 'sending', 'lower', 'discover', 'tough', 'warming', 'permit', 'listen', 'maybe', 'repair', 'incredibly', 'navy', 'lesser', 'member', 'assistant', 'eggs', 'plants', 'essential', 'stronger', 'iron', 'metal', 'politicians', 'stupid', 'direct', 'load', 'critical', 'yahoo', 'formula', 'capital', 'thought', 'designing', 'weird', 'hearing', 'deaf', 'drivers', 'expert', 'meter', 'visitors', 'notice', 'gps', 'chip', 'pokemon', 'lie', 'rental', 'interior', 'species', 'team', 'arguments', 'overall', 'departments', 'cm', 'penalty', 'alabama', 'success', 'restaurant', 'admitted', 'videos', 'boys', 'abuse', 'comfortable', 'recommended', 'chennai', 'internship', 'soap', 'viewed', 'galaxy', 'relevant', 'guatemala', 'offers', 'approach', 'dell', 'factory', 'arabic', 'century', 'uniform', 'n', 'appropriate', 'disadvantage', 'marine', 'industrial', 'leading', 'path', 'goods', 'harmful', 'zone', 'korean', 'restaurants', 'matrix', 'nearest', 'mm', 'fighters', 'widely', 'accepted', 'interest', 'england', 'terrorists', 'bomb', 'resources', 'wordpress', 'soon', 'half', 'generation', 'driver', 'cpu', 'marriage', 'caught', 'completed', 'equivalent', 'curb', 'electricity', 'issues', 'range', 'michael', 'copy', 'origin', 'sweat', 'phase', 'l', 'k', 'complex', 'demand', 'typing', 'galaxies', 'boost', 'communication', 'reaction', 'philippines', 'object', 'vehicle', 'balance', 'remote', 'directly', 'engine', 'extra', 'metals', 'singer', 'underwear', 'belly', 'button', 'ias', 'caused', 'studio', 'born', 'rice', 'highlands', 'liked', 'advertising', 'cycle', 'translate', 'shouldnot', 'led', 'park', 'touch', 'explanation', 'jersey', 'cats', 'wheel', 'r', 'round', 'enfield', 'forms', 'obsessed', 'pure', 'master', 'positions', 'ipod', 'conversation', 'desert', 'crew', 'motion', 'gurgaon', 'diploma', 'falling', 'located', 'johnson', 'dual', 'checking', 'inflation', 'deposit', 'weighted', 'launched', 'commerce', 'teenage', 'ecosystem', 'destroying', 'variable', 'san', 'francisco', 'angle', 'sql', 'throat', 'temperatures', 'sahara', 'external', 'procrastination', 'sikh', 'jews', 'bottle', 'automobile', 'naruto', 'definition', 'premier', 'isis', 'switched', 'evolved', 'saudi', 'arabia', 'met', 'birds', 'article', 'vol', 'washing']\n",
            "2086\n"
          ]
        }
      ]
    }
  ]
}