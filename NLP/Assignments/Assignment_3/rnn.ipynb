{
  "cells": [
    {
      "cell_type": "markdown",
      "metadata": {
        "id": "Pm9NiIz_ysce"
      },
      "source": [
        "# Imports"
      ]
    },
    {
      "cell_type": "code",
      "execution_count": 1,
      "metadata": {
        "id": "N0dop66Ayscg"
      },
      "outputs": [],
      "source": [
        "import numpy as np\n",
        "from sklearn.model_selection import train_test_split\n",
        "import csv\n",
        "import re\n",
        "import nltk\n",
        "from nltk.corpus import stopwords\n",
        "from nltk.tokenize import word_tokenize\n",
        "from gensim.models import Word2Vec\n",
        "import torch\n",
        "import torch.nn as nn\n",
        "from torch.nn.utils.rnn import pad_sequence\n",
        "import torch.optim as optim\n",
        "from torch.utils.data import Dataset, DataLoader\n",
        "from sklearn.metrics import f1_score, confusion_matrix, ConfusionMatrixDisplay\n",
        "\n"
      ]
    },
    {
      "cell_type": "code",
      "source": [
        "device = (\n",
        "    \"cuda\"\n",
        "    if torch.cuda.is_available()\n",
        "    else \"mps\"\n",
        "    if torch.backends.mps.is_available()\n",
        "    else \"cpu\"\n",
        ")\n",
        "print(f\"Using {device} device\")"
      ],
      "metadata": {
        "colab": {
          "base_uri": "https://localhost:8080/"
        },
        "id": "YZr8t17Gy3dV",
        "outputId": "0cf2cf9f-b9b0-43c0-db5d-cd696a0b42f6"
      },
      "execution_count": 2,
      "outputs": [
        {
          "output_type": "stream",
          "name": "stdout",
          "text": [
            "Using cuda device\n"
          ]
        }
      ]
    },
    {
      "cell_type": "code",
      "execution_count": 3,
      "metadata": {
        "colab": {
          "base_uri": "https://localhost:8080/"
        },
        "id": "R_iGYPaOysci",
        "outputId": "04268f81-315b-434c-8e81-3612fdc8040f"
      },
      "outputs": [
        {
          "output_type": "stream",
          "name": "stderr",
          "text": [
            "[nltk_data] Downloading package stopwords to /root/nltk_data...\n",
            "[nltk_data]   Unzipping corpora/stopwords.zip.\n",
            "[nltk_data] Downloading package punkt to /root/nltk_data...\n",
            "[nltk_data]   Unzipping tokenizers/punkt.zip.\n"
          ]
        },
        {
          "output_type": "execute_result",
          "data": {
            "text/plain": [
              "True"
            ]
          },
          "metadata": {},
          "execution_count": 3
        }
      ],
      "source": [
        "nltk.download('stopwords')\n",
        "nltk.download('punkt')"
      ]
    },
    {
      "cell_type": "code",
      "execution_count": 4,
      "metadata": {
        "id": "n3IZqE9nysci"
      },
      "outputs": [],
      "source": [
        "stopwords = set(stopwords.words('english'))"
      ]
    },
    {
      "cell_type": "markdown",
      "metadata": {
        "id": "FWj8HNKgyscj"
      },
      "source": [
        "# Classes and Functions"
      ]
    },
    {
      "cell_type": "code",
      "execution_count": 5,
      "metadata": {
        "id": "WxnIlvduyscj"
      },
      "outputs": [],
      "source": [
        "hyperlink_regex = re.compile(r'&lt;A.*?&gt;.*?&lt;/A&gt;')\n",
        "font_regex = re.compile(r'&lt;font.*?/font&gt;')\n",
        "img_regex = re.compile(r'&lt;img.*?&gt;')\n",
        "nobr_regex = re.compile(r'&lt;nobr&gt;.*?&lt;/nobr&gt;')"
      ]
    },
    {
      "cell_type": "code",
      "execution_count": 6,
      "metadata": {
        "id": "_N7f-gseysck"
      },
      "outputs": [],
      "source": [
        "def remove_stopwords(text):\n",
        "    return ' '.join([word for word in text.split() if word not in stopwords])"
      ]
    },
    {
      "cell_type": "code",
      "execution_count": 7,
      "metadata": {
        "id": "6Wi0y94zysck"
      },
      "outputs": [],
      "source": [
        "def read_dataset(filename, rmst=False):\n",
        "    with open(filename, 'r') as f:\n",
        "        reader = csv.reader(f)\n",
        "        data = list(reader)\n",
        "\n",
        "        # remove header\n",
        "        data = data[1:]\n",
        "\n",
        "        # remove the first column\n",
        "        data = [row[1:] for row in data]\n",
        "\n",
        "    data = preprocess_data(data, rmst)\n",
        "\n",
        "    return data\n",
        "\n",
        "def preprocess_data(data, rmst=False):\n",
        "    for i, row in enumerate(data):\n",
        "        text = row[0]\n",
        "\n",
        "        # Change text to lowercase\n",
        "        text = text.lower()\n",
        "\n",
        "        # Replace occurences of '#36;', \"\\$\" or '#151;' or '#160;' with a space\n",
        "        text = text.replace(\"#36;\", \" \")\n",
        "        text = text.replace(\"\\$ \", \" \")\n",
        "        text = text.replace(\"#151;\", \" \")\n",
        "        text = text.replace(\"#160;\", \" \")\n",
        "        text = text.replace(\"\\\\\",\" \")\n",
        "\n",
        "        # Replace '#39;' or '#8217;' with an apostrophe\n",
        "        text = text.replace(\"#39;\", \"\")\n",
        "        text = text.replace(\"#8217;\", \"\")\n",
        "\n",
        "        # Replace '#147;' or '#148;' with a double quote\n",
        "        text = text.replace(\"#147;\", '')\n",
        "        text = text.replace(\"#148;\", '')\n",
        "        text = text.replace(\"quot;\", '')\n",
        "\n",
        "        # Remove occurences of some tags like bold, strong, etc.\n",
        "        text = text.replace('&lt;br&gt;', ' ')\n",
        "        text = text.replace('&lt;br/&gt;', ' ')\n",
        "        text = text.replace('&lt;b&gt;...&lt;/b&gt;', ' ')\n",
        "        text = text.replace('&lt;strong&gt;', ' ')\n",
        "        text = text.replace('&lt;/strong&gt;', ' ')\n",
        "        text = text.replace('&lt;cite&gt;is&lt;/cite&gt;', ' ')\n",
        "        text = text.replace('&lt;p&gt;', ' ')\n",
        "        text = text.replace('&lt;/p&gt;', ' ')\n",
        "        text = text.replace('\\&lt;p&gt;', ' ')\n",
        "        text = text.replace('\\&lt;hpq.n&gt;', ' ')\n",
        "        text = text.replace('&lt;i&gt;', ' ')\n",
        "        text = text.replace('&lt;/i&gt;', ' ')\n",
        "\n",
        "        # Match and remove the regexes defined above\n",
        "        text = hyperlink_regex.sub('', text)\n",
        "        text = font_regex.sub('', text)\n",
        "        text = img_regex.sub('', text)\n",
        "        text = nobr_regex.sub('', text)\n",
        "\n",
        "        # Remove \\ in the text\n",
        "        # First replace any possible escape characters like \\', \\n, \\r, \\t, \\b, \\f, \\\" with appropriate characters\n",
        "        text = text.replace(\"\\'\", \"\")\n",
        "        text = text.replace(\"\\\"\", \"\")\n",
        "        text = text.replace(\"\\n\", \" n\")\n",
        "        text = text.replace(\"\\r\", \" r\")\n",
        "        text = text.replace(\"\\t\", \" t\")\n",
        "        text = text.replace(\"\\b\", \" b\")\n",
        "        text = text.replace(\"\\f\", \" f\")\n",
        "\n",
        "        # Remove any remaining \\ in the text\n",
        "        text = text.replace(\"\\ \".replace(\" \", \"\"), \" \")\n",
        "\n",
        "        text = ''.join([c if c.isalnum() or c.isspace() else ' ' for c in text])\n",
        "\n",
        "\n",
        "\n",
        "        if rmst:\n",
        "            text = remove_stopwords(text)\n",
        "\n",
        "        row[0] = text\n",
        "\n",
        "        # Converting the label to one-hot encoding\n",
        "        label = np.zeros(4)\n",
        "        label[int(row[1])] = 1\n",
        "        row[1] = label\n",
        "\n",
        "        data[i] = row\n",
        "\n",
        "    return data"
      ]
    },
    {
      "cell_type": "code",
      "execution_count": 8,
      "metadata": {
        "id": "c3hC_HWJyscl"
      },
      "outputs": [],
      "source": [
        "def create_vocab(dataset):\n",
        "    sentences = [row[0] for row in dataset]\n",
        "\n",
        "    tokens = [word_tokenize(sentence) for sentence in sentences]\n",
        "\n",
        "    vocab = {}\n",
        "\n",
        "    for token_list in tokens:\n",
        "        for token in token_list:\n",
        "            if token in vocab:\n",
        "                vocab[token] += 1\n",
        "            else:\n",
        "                vocab[token] = 1\n",
        "\n",
        "    vocab = [k for k, v in vocab.items()]\n",
        "\n",
        "    tokenized_sentences = []\n",
        "\n",
        "    for token_list in tokens:\n",
        "        tokenized_sentences.append([token for token in token_list if token in vocab])\n",
        "\n",
        "    return vocab, tokenized_sentences"
      ]
    },
    {
      "cell_type": "code",
      "execution_count": 9,
      "metadata": {
        "id": "9r5Y00xUyscm"
      },
      "outputs": [],
      "source": [
        "def average_embeddings(sentence, embeddings, vector_size):\n",
        "    avg = np.zeros(vector_size)\n",
        "    count = 0\n",
        "\n",
        "    for word in sentence:\n",
        "        if word in embeddings:\n",
        "            avg += embeddings[word]\n",
        "            count += 1\n",
        "\n",
        "    if count > 0:\n",
        "        avg /= count\n",
        "    else:\n",
        "        avg = np.zeros(vector_size)\n",
        "\n",
        "    return np.array(avg, dtype=np.float32)"
      ]
    },
    {
      "cell_type": "code",
      "execution_count": 10,
      "metadata": {
        "id": "1PecVGxhyscm"
      },
      "outputs": [],
      "source": [
        "# Neural Network class\n",
        "class classifier_nn(nn.Module):\n",
        "    def __init__(self, input_size, hidden_sizes, num_classes):\n",
        "        super(classifier_nn, self).__init__()\n",
        "        self.layers = nn.ModuleList()\n",
        "\n",
        "        prev_layer_size = input_size\n",
        "        for hidden_size in hidden_sizes:\n",
        "            self.layers.append(nn.Linear(prev_layer_size, hidden_size))\n",
        "            self.layers.append(nn.ReLU())\n",
        "            prev_layer_size = hidden_size\n",
        "\n",
        "        self.output_layer = nn.Linear(prev_layer_size, num_classes)\n",
        "\n",
        "    def forward(self, x):\n",
        "        for layer in self.layers:\n",
        "            x = layer(x)\n",
        "        return self.output_layer(x)\n",
        "\n",
        "def train_nn(model, train_loader, epochs, lr):\n",
        "    model.train()\n",
        "\n",
        "    criterion = nn.BCEWithLogitsLoss()\n",
        "    optimizer = optim.Adam(model.parameters(), lr=lr)\n",
        "\n",
        "    for epoch in range(epochs):\n",
        "        epoch_loss = 0\n",
        "        for inputs, labels in train_loader:\n",
        "            inputs = inputs.to(device)\n",
        "            labels = labels.to(device)\n",
        "            optimizer.zero_grad()\n",
        "            output = model(inputs)\n",
        "            loss = criterion(output, labels)\n",
        "            loss.backward()\n",
        "            optimizer.step()\n",
        "            epoch_loss += loss.item()\n",
        "\n",
        "        if epoch%10 == 0:\n",
        "            print(f'Epoch {epoch}: Loss: {epoch_loss}')\n",
        "\n",
        "def get_predictions(model, data_loader):\n",
        "    model.eval()\n",
        "    all_preds = []\n",
        "    all_labels = []\n",
        "    with torch.no_grad():\n",
        "        for data in data_loader:\n",
        "            inputs, labels = data\n",
        "            inputs = inputs.to(device)\n",
        "            labels = labels.to(device)\n",
        "            outputs = model(inputs)\n",
        "            _, predicted = torch.max(outputs.data, 1)\n",
        "            _, labels = torch.max(labels, 1)\n",
        "            all_preds.extend(predicted.cpu().numpy())\n",
        "            all_labels.extend(labels.cpu().numpy())\n",
        "\n",
        "    return all_preds, all_labels\n",
        "\n",
        "def get_perf(preds, labels):\n",
        "    accuracy = np.mean(np.array(preds) == np.array(labels))\n",
        "\n",
        "    f1 = f1_score(labels, preds, average='weighted')\n",
        "\n",
        "    return accuracy, f1\n",
        "\n",
        "def plot_conf_matrix(preds, labels):\n",
        "    conf_matrix = confusion_matrix(labels, preds)\n",
        "    ConfusionMatrixDisplay(conf_matrix).plot()\n",
        "\n",
        "def save_predictions(preds, og_filename, filename):\n",
        "    with open(og_filename, 'r') as f:\n",
        "        reader = csv.reader(f)\n",
        "        data = list(reader)\n",
        "        data = data[1:]\n",
        "    print(\"index,text,label,preds\", file=open(filename, \"w\"))\n",
        "\n",
        "    # write the lines such that the text string having a , does not mess up the csv file\n",
        "    for i, row in enumerate(data):\n",
        "        print(f\"{i},\\\"{row[0]}\\\",{row[1]},{preds[i]}\", file=open(filename, \"a\"))"
      ]
    },
    {
      "cell_type": "code",
      "source": [
        "# Data class\n",
        "class Data(Dataset):\n",
        "    def __init__(self, X, y):\n",
        "        self.X = torch.from_numpy(X.astype(np.float32))\n",
        "        self.y = torch.from_numpy(y.astype(np.float32))\n",
        "\n",
        "        self.len = self.X.shape[0]\n",
        "\n",
        "    def __getitem__(self, index):\n",
        "        return self.X[index], self.y[index]\n",
        "\n",
        "    def __len__(self):\n",
        "        return self.len"
      ],
      "metadata": {
        "id": "FofTLbtJ1qYw"
      },
      "execution_count": 11,
      "outputs": []
    },
    {
      "cell_type": "code",
      "source": [
        "# Get vocabulary, word to idx and idx to word mappings from dataset\n",
        "def get_vocab_mappings(dataset):\n",
        "    vocab, tokenized_sentences = create_vocab(dataset)\n",
        "\n",
        "    word_to_idx = {word: idx for idx, word in enumerate(vocab)}\n",
        "    idx_to_word = {idx: word for word, idx in word_to_idx.items()}\n",
        "\n",
        "    return vocab, word_to_idx, idx_to_word\n",
        "\n",
        "def tokenize(sentence, word_to_idx):\n",
        "    return [word_to_idx[word] for word in sentence.split() if word in word_to_idx]"
      ],
      "metadata": {
        "id": "FMrADWCgtqpi"
      },
      "execution_count": 12,
      "outputs": []
    },
    {
      "cell_type": "code",
      "source": [
        "class Classifier_RNN(nn.Module):\n",
        "    def __init__(self, vocab_size, embedding_dim, hidden_size, num_layers, num_classes, bidirectional=True):\n",
        "        super(Classifier_RNN, self).__init__()\n",
        "        self.embedding = nn.Embedding(vocab_size, embedding_dim)\n",
        "        self.rnn = nn.RNN(embedding_dim, hidden_size, num_layers, batch_first=True, bidirectional=bidirectional)\n",
        "        self.fc = nn.Linear(hidden_size*2 if bidirectional else hidden_size, num_classes)\n",
        "        self.dropout = nn.Dropout(0.5)\n",
        "\n",
        "    def forward(self, x):\n",
        "        x = self.embedding(x)\n",
        "        x, _ = self.rnn(x)\n",
        "        x = self.dropout(x)\n",
        "        x = torch.mean(x, 1)\n",
        "        x = self.fc(x)\n",
        "        return x\n",
        "\n",
        "class Classifier_LSTM(nn.Module):\n",
        "    def __init__(self, vocab_size, embedding_dim, hidden_size, num_layers, num_classes, bidirectional=True):\n",
        "        super(Classifier_LSTM, self).__init__()\n",
        "        self.embedding = nn.Embedding(vocab_size, embedding_dim)\n",
        "        self.lstm = nn.LSTM(embedding_dim, hidden_size, num_layers, batch_first=True, bidirectional=bidirectional)\n",
        "        self.fc = nn.Linear(hidden_size * 2 if bidirectional else hidden_size, num_classes)\n",
        "        self.dropout = nn.Dropout(0.5)\n",
        "\n",
        "    def forward(self, x):\n",
        "        x = self.embedding(x)\n",
        "        x, _ = self.lstm(x)\n",
        "        x = self.dropout(x)\n",
        "        x = torch.mean(x, 1)\n",
        "        x = self.fc(x)\n",
        "        return x"
      ],
      "metadata": {
        "id": "RCxP0jhjkYa9"
      },
      "execution_count": 13,
      "outputs": []
    },
    {
      "cell_type": "markdown",
      "metadata": {
        "id": "EQUzqjjLyscm"
      },
      "source": [
        "# Main"
      ]
    },
    {
      "cell_type": "markdown",
      "metadata": {
        "id": "n-zWqXgoyscn"
      },
      "source": [
        "## Data files"
      ]
    },
    {
      "cell_type": "code",
      "execution_count": 14,
      "metadata": {
        "id": "ozkltUvPyscn"
      },
      "outputs": [],
      "source": [
        "train_file = './train.csv'\n",
        "test_file = './test.csv'"
      ]
    },
    {
      "cell_type": "markdown",
      "metadata": {
        "id": "AVrBY8p4yscn"
      },
      "source": [
        "## Task 1"
      ]
    },
    {
      "cell_type": "markdown",
      "metadata": {
        "id": "5tKxeJ8kyscn"
      },
      "source": [
        "### Data Preparation"
      ]
    },
    {
      "cell_type": "code",
      "execution_count": 15,
      "metadata": {
        "id": "36X8Hz7uyscn"
      },
      "outputs": [],
      "source": [
        "train_data_task_1 = read_dataset(train_file, rmst=True)\n",
        "test_data_task_1 = read_dataset(test_file, rmst=True)\n",
        "\n",
        "# Now we set a 10% of the training data aside for validation\n",
        "train_data_task_1, val_data_task_1 = train_test_split(train_data_task_1, test_size=0.1)"
      ]
    },
    {
      "cell_type": "code",
      "execution_count": 16,
      "metadata": {
        "id": "37oUzUfSysco"
      },
      "outputs": [],
      "source": [
        "vocabulary_1, tokenized_sentences = create_vocab(train_data_task_1)"
      ]
    },
    {
      "cell_type": "markdown",
      "metadata": {
        "id": "_s38gq_Wysco"
      },
      "source": [
        "### Word2Vec"
      ]
    },
    {
      "cell_type": "code",
      "execution_count": 17,
      "metadata": {
        "id": "0ZsW5cF2ysco"
      },
      "outputs": [],
      "source": [
        "vec_size = 100\n",
        "output_dim = 4\n",
        "epoch_sizes = [10, 20, 40]"
      ]
    },
    {
      "cell_type": "code",
      "execution_count": 18,
      "metadata": {
        "id": "odCRagLbysco"
      },
      "outputs": [],
      "source": [
        "# Create the word2vec model using the train_data as the corpus\n",
        "word2vec_model = Word2Vec(tokenized_sentences, vector_size=vec_size, window=5, min_count=1, workers=4)\n",
        "word2vec_model.save('word2vec_model')"
      ]
    },
    {
      "cell_type": "code",
      "execution_count": 19,
      "metadata": {
        "id": "Gosko8SUyscp"
      },
      "outputs": [],
      "source": [
        "# Get embeddings for the vocabulary\n",
        "embeddings = {}\n",
        "\n",
        "for word in vocabulary_1:\n",
        "    embeddings[word] = word2vec_model.wv[word]"
      ]
    },
    {
      "cell_type": "code",
      "execution_count": 20,
      "metadata": {
        "id": "nubDvgcxyscp"
      },
      "outputs": [],
      "source": [
        "# Split train data into X, y\n",
        "X_train = [row[0] for row in train_data_task_1]\n",
        "y_train = [row[1] for row in train_data_task_1]\n",
        "\n",
        "X_train = [average_embeddings(word_tokenize(sentence), embeddings, vec_size) for sentence in X_train]"
      ]
    },
    {
      "cell_type": "code",
      "execution_count": 21,
      "metadata": {
        "id": "Rzl6eGF9yscp"
      },
      "outputs": [],
      "source": [
        "# Split validation data into X, y\n",
        "X_val = [row[0] for row in val_data_task_1]\n",
        "y_val = [row[1] for row in val_data_task_1]\n",
        "\n",
        "X_val = [average_embeddings(word_tokenize(sentence), embeddings, vec_size) for sentence in X_val]"
      ]
    },
    {
      "cell_type": "code",
      "execution_count": 22,
      "metadata": {
        "id": "GKwxlSq0yscp"
      },
      "outputs": [],
      "source": [
        "# Split test data into X, y\n",
        "X_test = [row[0] for row in test_data_task_1]\n",
        "y_test = [row[1] for row in test_data_task_1]\n",
        "\n",
        "X_test = [average_embeddings(word_tokenize(sentence), embeddings, vec_size) for sentence in X_test]"
      ]
    },
    {
      "cell_type": "markdown",
      "metadata": {
        "id": "cPhbGTqEyscp"
      },
      "source": [
        "### Neural Network"
      ]
    },
    {
      "cell_type": "code",
      "source": [
        "# load train_data into DataLoader\n",
        "train_data = list(zip(X_train, y_train))\n",
        "train_loader = DataLoader(train_data, batch_size=32, shuffle=False)\n",
        "\n",
        "# load val_data into DataLoader\n",
        "val_data = list(zip(X_val, y_val))\n",
        "val_loader = DataLoader(val_data, batch_size=32, shuffle=False)\n",
        "\n",
        "# load test_data into DataLoader\n",
        "test_data = list(zip(X_test, y_test))\n",
        "test_loader = DataLoader(test_data, batch_size=32, shuffle=False)"
      ],
      "metadata": {
        "id": "RVWFtDon07uQ"
      },
      "execution_count": 23,
      "outputs": []
    },
    {
      "cell_type": "markdown",
      "metadata": {
        "id": "KpancjtQyscq"
      },
      "source": [
        "Model 1:\n",
        "* 1 hidden layer - 64 size"
      ]
    },
    {
      "cell_type": "code",
      "execution_count": 24,
      "metadata": {
        "colab": {
          "base_uri": "https://localhost:8080/"
        },
        "id": "aD-uANWfyscq",
        "outputId": "e7e84991-c51b-417c-b046-0bfebad077b9"
      },
      "outputs": [
        {
          "output_type": "stream",
          "name": "stdout",
          "text": [
            "Epoch 0: Loss: 32.990274069976294\n",
            "Epoch 10: Loss: 30.17938289239828\n",
            "Epoch 20: Loss: 26.93724844687108\n",
            "Epoch 30: Loss: 25.40361736910404\n",
            "Epoch 40: Loss: 24.60121216444786\n",
            "Epoch 50: Loss: 24.088001434234357\n",
            "Epoch 60: Loss: 23.69859998563383\n",
            "Epoch 70: Loss: 23.369290253367787\n",
            "Epoch 80: Loss: 23.07226705374587\n",
            "Epoch 90: Loss: 22.816620610289778\n"
          ]
        }
      ],
      "source": [
        "# Create the neural network\n",
        "input_size = vec_size\n",
        "hidden_sizes = [64]\n",
        "\n",
        "model_1 = classifier_nn(input_size, hidden_sizes, output_dim).to(device)\n",
        "\n",
        "train_nn(model_1, train_loader, 100, 0.01)"
      ]
    },
    {
      "cell_type": "code",
      "source": [
        "# Get accuracy on validation set\n",
        "preds_1, labels_1 = get_predictions(model_1, val_loader)\n",
        "\n",
        "accuracy_1, f1_1 = get_perf(preds_1, labels_1)\n",
        "\n",
        "print(f'Accuracy: {accuracy_1}, F1: {f1_1}')"
      ],
      "metadata": {
        "colab": {
          "base_uri": "https://localhost:8080/"
        },
        "id": "9yRdnOUh2qbV",
        "outputId": "efcbbdeb-64a9-4dfc-ca72-91f96fb6e85d"
      },
      "execution_count": 25,
      "outputs": [
        {
          "output_type": "stream",
          "name": "stdout",
          "text": [
            "Accuracy: 0.56, F1: 0.5606362173350911\n"
          ]
        }
      ]
    },
    {
      "cell_type": "markdown",
      "metadata": {
        "id": "jgFwwXA0yscq"
      },
      "source": [
        "Model 2:\n",
        "* 1 hidden layer - 128 size"
      ]
    },
    {
      "cell_type": "code",
      "source": [
        "# Create Neural network 2\n",
        "input_size = vec_size\n",
        "hidden_sizes = [128]\n",
        "\n",
        "model_2 = classifier_nn(input_size, hidden_sizes, output_dim).to(device)\n",
        "\n",
        "train_nn(model_2, train_loader, 100, 0.01)"
      ],
      "metadata": {
        "colab": {
          "base_uri": "https://localhost:8080/"
        },
        "id": "RflyDkl13cxS",
        "outputId": "a536460f-f3ab-4866-ad69-4e17bdf57ec3"
      },
      "execution_count": 26,
      "outputs": [
        {
          "output_type": "stream",
          "name": "stdout",
          "text": [
            "Epoch 0: Loss: 32.91896582458139\n",
            "Epoch 10: Loss: 29.426664521459315\n",
            "Epoch 20: Loss: 26.041932257914823\n",
            "Epoch 30: Loss: 24.84682541295409\n",
            "Epoch 40: Loss: 24.37111986440522\n",
            "Epoch 50: Loss: 23.982307227767613\n",
            "Epoch 60: Loss: 23.64085085021787\n",
            "Epoch 70: Loss: 23.31625262151782\n",
            "Epoch 80: Loss: 23.049214197419793\n",
            "Epoch 90: Loss: 22.804877071417458\n"
          ]
        }
      ]
    },
    {
      "cell_type": "code",
      "source": [
        "# Get accuracy on validation set\n",
        "preds_2, labels_2 = get_predictions(model_2, val_loader)\n",
        "\n",
        "accuracy_2, f1_2 = get_perf(preds_2, labels_2)\n",
        "\n",
        "print(f'Accuracy: {accuracy_2}, F1: {f1_2}')"
      ],
      "metadata": {
        "colab": {
          "base_uri": "https://localhost:8080/"
        },
        "id": "xGHgbw6N3rdu",
        "outputId": "d6b10980-1fa0-4d0e-efae-1f539cd0f1f9"
      },
      "execution_count": 27,
      "outputs": [
        {
          "output_type": "stream",
          "name": "stdout",
          "text": [
            "Accuracy: 0.57, F1: 0.5710642602758024\n"
          ]
        }
      ]
    },
    {
      "cell_type": "markdown",
      "metadata": {
        "id": "MgnOtn5eyscq"
      },
      "source": [
        "Model 3:\n",
        "\n",
        "* 2 hidden layers - sizes 64, 32"
      ]
    },
    {
      "cell_type": "code",
      "source": [
        "# Create Neural network 3\n",
        "input_size = vec_size\n",
        "hidden_sizes = [64, 32]\n",
        "\n",
        "model_3 = classifier_nn(input_size, hidden_sizes, output_dim).to(device)\n",
        "\n",
        "train_nn(model_3, train_loader, 100, 0.01)"
      ],
      "metadata": {
        "colab": {
          "base_uri": "https://localhost:8080/"
        },
        "id": "3ZkchkFW3wRi",
        "outputId": "b52e6e3f-0b85-42dc-daeb-a59d306cdb76"
      },
      "execution_count": 28,
      "outputs": [
        {
          "output_type": "stream",
          "name": "stdout",
          "text": [
            "Epoch 0: Loss: 33.03384268129594\n",
            "Epoch 10: Loss: 30.839214341831394\n",
            "Epoch 20: Loss: 27.440460394891943\n",
            "Epoch 30: Loss: 26.339284365314356\n",
            "Epoch 40: Loss: 25.355028167610385\n",
            "Epoch 50: Loss: 24.568932287459553\n",
            "Epoch 60: Loss: 24.386048887853185\n",
            "Epoch 70: Loss: 23.741747609037436\n",
            "Epoch 80: Loss: 23.532175758516924\n",
            "Epoch 90: Loss: 23.029090741665797\n"
          ]
        }
      ]
    },
    {
      "cell_type": "code",
      "source": [
        "# Get accuracy on validation set\n",
        "preds_3, labels_3 = get_predictions(model_3, val_loader)\n",
        "\n",
        "accuracy_3, f1_3 = get_perf(preds_3, labels_3)\n",
        "\n",
        "print(f'Accuracy: {accuracy_3}, F1: {f1_3}')"
      ],
      "metadata": {
        "colab": {
          "base_uri": "https://localhost:8080/"
        },
        "id": "sTqolXol35wi",
        "outputId": "e076b88b-e167-469d-f2d8-3e6e50c09f05"
      },
      "execution_count": 29,
      "outputs": [
        {
          "output_type": "stream",
          "name": "stdout",
          "text": [
            "Accuracy: 0.545, F1: 0.5400892153480522\n"
          ]
        }
      ]
    },
    {
      "cell_type": "code",
      "source": [
        "best_model = model_2"
      ],
      "metadata": {
        "id": "l7hGNC3G5dOw"
      },
      "execution_count": 59,
      "outputs": []
    },
    {
      "cell_type": "code",
      "source": [
        "# Get predictions, labels\n",
        "preds, labels = get_predictions(best_model, test_loader)"
      ],
      "metadata": {
        "id": "H4IGP4tc5jM6"
      },
      "execution_count": 60,
      "outputs": []
    },
    {
      "cell_type": "code",
      "source": [
        "# Get accuracy, f1\n",
        "accuracy, f1 = get_perf(preds, labels)\n",
        "\n",
        "print(f'Accuracy on test set: {accuracy}')\n",
        "print(f'F1 score on test set: {f1}')"
      ],
      "metadata": {
        "colab": {
          "base_uri": "https://localhost:8080/"
        },
        "id": "9WTG3wE98rJ_",
        "outputId": "d49dde11-3685-491d-cafb-9642ee7a2874"
      },
      "execution_count": 61,
      "outputs": [
        {
          "output_type": "stream",
          "name": "stdout",
          "text": [
            "Accuracy on test set: 0.576\n",
            "F1 score on test set: 0.5811455570757255\n"
          ]
        }
      ]
    },
    {
      "cell_type": "code",
      "source": [
        "# Plot confusion matrix\n",
        "plot_conf_matrix(preds, labels)"
      ],
      "metadata": {
        "colab": {
          "base_uri": "https://localhost:8080/",
          "height": 449
        },
        "id": "6cXLcBa_5s2f",
        "outputId": "f6a9b70b-5e15-44f9-bd28-9494f93de176"
      },
      "execution_count": 62,
      "outputs": [
        {
          "output_type": "display_data",
          "data": {
            "text/plain": [
              "<Figure size 640x480 with 2 Axes>"
            ],
            "image/png": "[encoded data removed]"
          },
          "metadata": {}
        }
      ]
    },
    {
      "cell_type": "code",
      "source": [
        "# Save the predictions to a csv file named \"w2v_test.csv\"\n",
        "save_predictions(preds, \"test.csv\",\"w2v_test.csv\")"
      ],
      "metadata": {
        "id": "5xsO4gPG8tYn"
      },
      "execution_count": 63,
      "outputs": []
    },
    {
      "cell_type": "markdown",
      "metadata": {
        "id": "LO_kbnlIyscq"
      },
      "source": [
        "### Recurrent Neural Networks"
      ]
    },
    {
      "cell_type": "code",
      "source": [
        "max_seq = 50\n",
        "batch_size = 32"
      ],
      "metadata": {
        "id": "-WZ99FavtoEo"
      },
      "execution_count": 35,
      "outputs": []
    },
    {
      "cell_type": "code",
      "source": [
        "# load training dataset, test dataset\n",
        "train_data_rnn = read_dataset(train_file, rmst=True)\n",
        "test_data_rnn = read_dataset(test_file, rmst=True)\n",
        "\n",
        "train_data_rnn, val_data_rnn = train_test_split(train_data_rnn, test_size=0.1)"
      ],
      "metadata": {
        "id": "aMmviEkqkjfS"
      },
      "execution_count": 36,
      "outputs": []
    },
    {
      "cell_type": "code",
      "source": [
        "# Get vocabulary, word to idx and idx to word mappings\n",
        "vocab_rnn, word_to_idx, idx_to_word = get_vocab_mappings(train_data_rnn)"
      ],
      "metadata": {
        "id": "Rp-K8-Uokklk"
      },
      "execution_count": 37,
      "outputs": []
    },
    {
      "cell_type": "code",
      "source": [
        "sentences_rnn = [row[0] for row in train_data_rnn]\n",
        "\n",
        "tokenized_sentences = [tokenize(sentence, word_to_idx) for sentence in sentences_rnn]\n",
        "\n",
        "# truncate the sentences to max_seq length\n",
        "truncated_sentences = [sentence[:max_seq] for sentence in tokenized_sentences]\n",
        "padded_sentences = pad_sequence([torch.tensor(seq) for seq in truncated_sentences], batch_first=True)\n",
        "\n",
        "labels_tensor = torch.tensor([row[1] for row in train_data_rnn], dtype=torch.float32)"
      ],
      "metadata": {
        "id": "_TOVrpjzkl-t",
        "colab": {
          "base_uri": "https://localhost:8080/"
        },
        "outputId": "9c204d70-4512-46cd-cec5-b6836f6af941"
      },
      "execution_count": 38,
      "outputs": [
        {
          "output_type": "stream",
          "name": "stderr",
          "text": [
            "<ipython-input-38-ca2f2be2189f>:9: UserWarning: Creating a tensor from a list of numpy.ndarrays is extremely slow. Please consider converting the list to a single numpy.ndarray with numpy.array() before converting to a tensor. (Triggered internally at ../torch/csrc/utils/tensor_new.cpp:275.)\n",
            "  labels_tensor = torch.tensor([row[1] for row in train_data_rnn], dtype=torch.float32)\n"
          ]
        }
      ]
    },
    {
      "cell_type": "code",
      "source": [
        "train_dataset = list(zip(padded_sentences, labels_tensor))\n",
        "train_loader_rnn = DataLoader(train_dataset, batch_size=32, shuffle=True)"
      ],
      "metadata": {
        "id": "XlHFRkLek1LI"
      },
      "execution_count": 39,
      "outputs": []
    },
    {
      "cell_type": "code",
      "source": [
        "val_sentences = [row[0] for row in val_data_rnn]\n",
        "\n",
        "val_tokenized_sentences = [tokenize(sentence, word_to_idx) for sentence in val_sentences]\n",
        "\n",
        "val_truncated_sentences = [sentence[:max_seq] for sentence in val_tokenized_sentences]\n",
        "val_padded_sentences = pad_sequence([torch.tensor(seq) for seq in val_truncated_sentences], batch_first=True)\n",
        "\n",
        "val_labels_tensor = torch.tensor([row[1] for row in val_data_rnn], dtype=torch.float32)"
      ],
      "metadata": {
        "id": "UF7HTJEzl_kj"
      },
      "execution_count": 40,
      "outputs": []
    },
    {
      "cell_type": "code",
      "source": [
        "val_dataset = list(zip(val_padded_sentences, val_labels_tensor))\n",
        "val_loader_rnn = DataLoader(val_dataset, batch_size=32, shuffle=False)"
      ],
      "metadata": {
        "id": "w2joxobwmGuU"
      },
      "execution_count": 41,
      "outputs": []
    },
    {
      "cell_type": "markdown",
      "source": [
        "RNN Models"
      ],
      "metadata": {
        "id": "BqRpg88umI4z"
      }
    },
    {
      "cell_type": "code",
      "source": [
        "# Model with hidden layer size 32\n",
        "vocab_size = len(vocab_rnn)\n",
        "embedding_dim = 100\n",
        "hidden_size = 32\n",
        "num_layers = 1\n",
        "num_classes = 4\n",
        "\n",
        "model_rnn_1 = Classifier_RNN(vocab_size, embedding_dim, hidden_size, num_layers, num_classes).to(device)\n",
        "\n",
        "train_nn(model_rnn_1, train_loader_rnn, 100, 0.01)"
      ],
      "metadata": {
        "colab": {
          "base_uri": "https://localhost:8080/"
        },
        "id": "LzcypGg3mKQU",
        "outputId": "3b0fe5b9-a34e-4009-a6b4-22ba9273fb81"
      },
      "execution_count": 42,
      "outputs": [
        {
          "output_type": "stream",
          "name": "stdout",
          "text": [
            "Epoch 0: Loss: 30.0339734852314\n",
            "Epoch 10: Loss: 0.20361041487194598\n",
            "Epoch 20: Loss: 0.6353277321904898\n",
            "Epoch 30: Loss: 0.03712053316121455\n",
            "Epoch 40: Loss: 0.012758477831084747\n",
            "Epoch 50: Loss: 0.008962708750914317\n",
            "Epoch 60: Loss: 0.005340475236152997\n",
            "Epoch 70: Loss: 0.0035173444885003846\n",
            "Epoch 80: Loss: 0.0032464945506944787\n",
            "Epoch 90: Loss: 0.00289845308088843\n"
          ]
        }
      ]
    },
    {
      "cell_type": "code",
      "source": [
        "# Get accuracy on validation set\n",
        "preds_rnn_1, labels_rnn_1 = get_predictions(model_rnn_1, val_loader_rnn)\n",
        "\n",
        "accuracy_rnn_1, f1_rnn_1 = get_perf(preds_rnn_1, labels_rnn_1)\n",
        "\n",
        "print(f'Accuracy: {accuracy_rnn_1}, F1: {f1_rnn_1}')"
      ],
      "metadata": {
        "colab": {
          "base_uri": "https://localhost:8080/"
        },
        "id": "XjnnSaKAmNeG",
        "outputId": "eec8af3f-62bc-4eea-dd9e-c6e1eb0f1764"
      },
      "execution_count": 43,
      "outputs": [
        {
          "output_type": "stream",
          "name": "stdout",
          "text": [
            "Accuracy: 0.77, F1: 0.7741529870646408\n"
          ]
        }
      ]
    },
    {
      "cell_type": "code",
      "source": [
        "# Model with hidden layer size 64\n",
        "hidden_size = 64\n",
        "\n",
        "model_rnn_2 = Classifier_RNN(vocab_size, embedding_dim, hidden_size, num_layers, num_classes).to(device)\n",
        "\n",
        "train_nn(model_rnn_2, train_loader_rnn, 100, 0.01)"
      ],
      "metadata": {
        "colab": {
          "base_uri": "https://localhost:8080/"
        },
        "id": "MOvnsQxUnI8I",
        "outputId": "eabd8476-f5a4-49fb-d88e-bebbc2d53f0a"
      },
      "execution_count": 44,
      "outputs": [
        {
          "output_type": "stream",
          "name": "stdout",
          "text": [
            "Epoch 0: Loss: 28.874938040971756\n",
            "Epoch 10: Loss: 0.045075286470819265\n",
            "Epoch 20: Loss: 0.01069581263436703\n",
            "Epoch 30: Loss: 0.05717232736060396\n",
            "Epoch 40: Loss: 0.01740483914181823\n",
            "Epoch 50: Loss: 0.006609268642932875\n",
            "Epoch 60: Loss: 0.009439125315111596\n",
            "Epoch 70: Loss: 0.0023545574649688206\n",
            "Epoch 80: Loss: 0.0016112415382849576\n",
            "Epoch 90: Loss: 0.0015549083973382949\n"
          ]
        }
      ]
    },
    {
      "cell_type": "code",
      "source": [
        "# Get accuracy on validation set\n",
        "preds_rnn_2, labels_rnn_2 = get_predictions(model_rnn_2, val_loader_rnn)\n",
        "\n",
        "accuracy_rnn_2, f1_rnn_2 = get_perf(preds_rnn_2, labels_rnn_2)\n",
        "\n",
        "print(f'Accuracy: {accuracy_rnn_2}, F1: {f1_rnn_2}')"
      ],
      "metadata": {
        "colab": {
          "base_uri": "https://localhost:8080/"
        },
        "id": "Raw4VQaxnKIs",
        "outputId": "81362bd6-4aad-4570-a0f2-672a1ff7821d"
      },
      "execution_count": 45,
      "outputs": [
        {
          "output_type": "stream",
          "name": "stdout",
          "text": [
            "Accuracy: 0.725, F1: 0.7287332052616914\n"
          ]
        }
      ]
    },
    {
      "cell_type": "code",
      "source": [
        "best_model_rnn = model_rnn_1"
      ],
      "metadata": {
        "id": "jR_Q210_n00O"
      },
      "execution_count": 46,
      "outputs": []
    },
    {
      "cell_type": "code",
      "source": [
        "# Get and load test dataset\n",
        "test_sentences = [row[0] for row in test_data_rnn]\n",
        "\n",
        "test_tokenized_sentences = [tokenize(sentence, word_to_idx) for sentence in test_sentences]\n",
        "\n",
        "test_truncated_sentences = [sentence[:max_seq] for sentence in test_tokenized_sentences]\n",
        "\n",
        "test_padded_sentences = pad_sequence([torch.tensor(seq) for seq in test_truncated_sentences], batch_first=True)\n",
        "\n",
        "test_labels_tensor = torch.tensor([row[1] for row in test_data_rnn], dtype=torch.float32)\n",
        "\n",
        "test_dataset = list(zip(test_padded_sentences, test_labels_tensor))\n",
        "\n",
        "test_loader_rnn = DataLoader(test_dataset, batch_size=32, shuffle=False)"
      ],
      "metadata": {
        "id": "a2bfFgmOosZp"
      },
      "execution_count": 47,
      "outputs": []
    },
    {
      "cell_type": "code",
      "source": [
        "# Get best_model accuracy on test set\n",
        "preds_rnn, labels_rnn = get_predictions(best_model_rnn, test_loader_rnn)\n",
        "\n",
        "accuracy_rnn, f1_rnn = get_perf(preds_rnn, labels_rnn)\n",
        "\n",
        "print(f'Accuracy on test set: {accuracy_rnn}')\n",
        "print(f'F1 score on test set: {f1_rnn}')"
      ],
      "metadata": {
        "colab": {
          "base_uri": "https://localhost:8080/"
        },
        "id": "7gve59R9pE1u",
        "outputId": "4ce7a667-cbcd-4e07-8671-9b1ddf3e0593"
      },
      "execution_count": 48,
      "outputs": [
        {
          "output_type": "stream",
          "name": "stdout",
          "text": [
            "Accuracy on test set: 0.796\n",
            "F1 score on test set: 0.7971135361346713\n"
          ]
        }
      ]
    },
    {
      "cell_type": "code",
      "source": [
        "# Plot confusion matrix\n",
        "plot_conf_matrix(preds_rnn, labels_rnn)"
      ],
      "metadata": {
        "colab": {
          "base_uri": "https://localhost:8080/",
          "height": 449
        },
        "id": "Tk-BbEEts40O",
        "outputId": "795c5544-d8fd-44d1-8fdb-5e6154f9c5f1"
      },
      "execution_count": 49,
      "outputs": [
        {
          "output_type": "display_data",
          "data": {
            "text/plain": [
              "<Figure size 640x480 with 2 Axes>"
            ],
            "image/png": "[encoded data removed]"
          },
          "metadata": {}
        }
      ]
    },
    {
      "cell_type": "code",
      "source": [
        "# Save the predictions to a csv file named \"rnn_test.csv\"\n",
        "save_predictions(preds_rnn, \"test.csv\",\"rnn_test.csv\")"
      ],
      "metadata": {
        "id": "yN05IUIlzXF5"
      },
      "execution_count": 50,
      "outputs": []
    },
    {
      "cell_type": "markdown",
      "source": [
        "LSTM models"
      ],
      "metadata": {
        "id": "2euRgobMqkoC"
      }
    },
    {
      "cell_type": "code",
      "source": [
        "# Model 1 with hidden layer size 32\n",
        "vocab_size = len(vocab_rnn)\n",
        "embedding_dim = 100\n",
        "hidden_size = 32\n",
        "num_layers = 1\n",
        "num_classes = 4\n",
        "\n",
        "model_lstm_1 = Classifier_LSTM(vocab_size, embedding_dim, hidden_size, num_layers, num_classes).to(device)\n",
        "\n",
        "train_nn(model_lstm_1, train_loader_rnn, 100, 0.01)"
      ],
      "metadata": {
        "colab": {
          "base_uri": "https://localhost:8080/"
        },
        "id": "QDKeD0Bsqlq7",
        "outputId": "201e34cc-785a-4a8b-ae1a-a93f2939bc70"
      },
      "execution_count": 51,
      "outputs": [
        {
          "output_type": "stream",
          "name": "stdout",
          "text": [
            "Epoch 0: Loss: 29.093553096055984\n",
            "Epoch 10: Loss: 0.03250380925601348\n",
            "Epoch 20: Loss: 0.008974658434453886\n",
            "Epoch 30: Loss: 0.018626570876222104\n",
            "Epoch 40: Loss: 0.004734185062261531\n",
            "Epoch 50: Loss: 0.0025125767788267694\n",
            "Epoch 60: Loss: 0.0012874177473349846\n",
            "Epoch 70: Loss: 0.0008972523874035687\n",
            "Epoch 80: Loss: 0.0006034874008946645\n",
            "Epoch 90: Loss: 0.0004138978774790303\n"
          ]
        }
      ]
    },
    {
      "cell_type": "code",
      "source": [
        "# Get validation set accuracy\n",
        "preds_lstm_1, labels_lstm_1 = get_predictions(model_lstm_1, val_loader_rnn)\n",
        "\n",
        "accuracy_lstm_1, f1_lstm_1 = get_perf(preds_lstm_1, labels_lstm_1)\n",
        "\n",
        "print(f'Accuracy: {accuracy_lstm_1}, F1: {f1_lstm_1}')"
      ],
      "metadata": {
        "colab": {
          "base_uri": "https://localhost:8080/"
        },
        "id": "c7vxfJrdqpHi",
        "outputId": "50030d2b-2ea7-4f99-cd58-ef756bafb5e6"
      },
      "execution_count": 52,
      "outputs": [
        {
          "output_type": "stream",
          "name": "stdout",
          "text": [
            "Accuracy: 0.755, F1: 0.7545073421385661\n"
          ]
        }
      ]
    },
    {
      "cell_type": "code",
      "source": [
        "# Model 2 with hidden layer size 64\n",
        "hidden_size = 64\n",
        "\n",
        "model_lstm_2 = Classifier_LSTM(vocab_size, embedding_dim, hidden_size, num_layers, num_classes).to(device)\n",
        "\n",
        "train_nn(model_lstm_2, train_loader_rnn, 100, 0.01)"
      ],
      "metadata": {
        "colab": {
          "base_uri": "https://localhost:8080/"
        },
        "id": "O5Ik2xnCq1UI",
        "outputId": "3cf74d93-0c9c-4c57-da9b-ac08f9d3ae31"
      },
      "execution_count": 53,
      "outputs": [
        {
          "output_type": "stream",
          "name": "stdout",
          "text": [
            "Epoch 0: Loss: 27.26800000667572\n",
            "Epoch 10: Loss: 0.03241558920126408\n",
            "Epoch 20: Loss: 0.009212126889906358\n",
            "Epoch 30: Loss: 0.006964959809920401\n",
            "Epoch 40: Loss: 0.0018836665358321625\n",
            "Epoch 50: Loss: 0.0006521880429772864\n",
            "Epoch 60: Loss: 0.00038606115936090646\n",
            "Epoch 70: Loss: 0.0002186126273500122\n",
            "Epoch 80: Loss: 0.00014752493768810382\n",
            "Epoch 90: Loss: 0.00010642094832746807\n"
          ]
        }
      ]
    },
    {
      "cell_type": "code",
      "source": [
        "# Get validation set accuracy\n",
        "preds_lstm_2, labels_lstm_2 = get_predictions(model_lstm_2, val_loader_rnn)\n",
        "\n",
        "accuracy_lstm_2, f1_lstm_2 = get_perf(preds_lstm_2, labels_lstm_2)\n",
        "\n",
        "print(f'Accuracy: {accuracy_lstm_2}, F1: {f1_lstm_2}')"
      ],
      "metadata": {
        "colab": {
          "base_uri": "https://localhost:8080/"
        },
        "id": "mp24rDkiq18Q",
        "outputId": "9045baf9-0e67-44f8-8499-9d2812d54d10"
      },
      "execution_count": 54,
      "outputs": [
        {
          "output_type": "stream",
          "name": "stdout",
          "text": [
            "Accuracy: 0.65, F1: 0.6479103453181123\n"
          ]
        }
      ]
    },
    {
      "cell_type": "code",
      "source": [
        "best_model_lstm = model_lstm_1"
      ],
      "metadata": {
        "id": "LHwL5TIguXHV"
      },
      "execution_count": 55,
      "outputs": []
    },
    {
      "cell_type": "code",
      "source": [
        "# Get test set accuracy\n",
        "preds_lstm, labels_lstm = get_predictions(best_model_lstm, test_loader_rnn)\n",
        "\n",
        "accuracy_lstm, f1_lstm = get_perf(preds_lstm, labels_lstm)\n",
        "\n",
        "print(f'Accuracy on test set: {accuracy_lstm}')\n",
        "print(f'F1 score on test set: {f1_lstm}')\n"
      ],
      "metadata": {
        "colab": {
          "base_uri": "https://localhost:8080/"
        },
        "id": "sDd9PI-5uVd_",
        "outputId": "3ee7a024-978f-4021-c9c5-b87643e4df9e"
      },
      "execution_count": 64,
      "outputs": [
        {
          "output_type": "stream",
          "name": "stdout",
          "text": [
            "Accuracy on test set: 0.788\n",
            "F1 score on test set: 0.7862526401119798\n"
          ]
        }
      ]
    },
    {
      "cell_type": "code",
      "source": [
        "# Plot confusion matrix\n",
        "plot_conf_matrix(preds_lstm, labels_lstm)\n"
      ],
      "metadata": {
        "colab": {
          "base_uri": "https://localhost:8080/",
          "height": 449
        },
        "id": "DLBiHgfUuZA7",
        "outputId": "680b3375-3f1f-4a8d-cda2-6247c8664bdd"
      },
      "execution_count": 65,
      "outputs": [
        {
          "output_type": "display_data",
          "data": {
            "text/plain": [
              "<Figure size 640x480 with 2 Axes>"
            ],
            "image/png": "[encoded data removed]"
          },
          "metadata": {}
        }
      ]
    },
    {
      "cell_type": "code",
      "source": [
        "# Save the predictions to a csv file named \"lstm_test.csv\"\n",
        "save_predictions(preds_lstm, \"test.csv\",\"lstm_test.csv\")"
      ],
      "metadata": {
        "id": "_kEcZXOlugoL"
      },
      "execution_count": 58,
      "outputs": []
    }
  ],
  "metadata": {
    "kernelspec": {
      "display_name": "Python 3",
      "name": "python3"
    },
    "language_info": {
      "codemirror_mode": {
        "name": "ipython",
        "version": 3
      },
      "file_extension": ".py",
      "mimetype": "text/x-python",
      "name": "python",
      "nbconvert_exporter": "python",
      "pygments_lexer": "ipython3",
      "version": "3.10.5"
    },
    "colab": {
      "provenance": [],
      "gpuType": "T4"
    },
    "accelerator": "GPU"
  },
  "nbformat": 4,
  "nbformat_minor": 0
}